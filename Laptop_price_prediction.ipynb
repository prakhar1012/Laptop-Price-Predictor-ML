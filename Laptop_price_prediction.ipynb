{
 "cells": [
  {
   "cell_type": "code",
   "execution_count": 1,
   "id": "2ee54c2a",
   "metadata": {},
   "outputs": [],
   "source": [
    "import pandas as pd\n",
    "import numpy as np\n",
    "import seaborn as sns\n",
    "import matplotlib.pyplot as plt\n",
    "\n",
    "import warnings\n",
    "warnings.filterwarnings(\"ignore\")"
   ]
  },
  {
   "cell_type": "code",
   "execution_count": 2,
   "id": "09fc6715",
   "metadata": {},
   "outputs": [],
   "source": [
    "df=pd.read_csv('laptop_details.csv')"
   ]
  },
  {
   "cell_type": "code",
   "execution_count": 3,
   "id": "bf220679",
   "metadata": {},
   "outputs": [
    {
     "data": {
      "text/html": [
       "<div>\n",
       "<style scoped>\n",
       "    .dataframe tbody tr th:only-of-type {\n",
       "        vertical-align: middle;\n",
       "    }\n",
       "\n",
       "    .dataframe tbody tr th {\n",
       "        vertical-align: top;\n",
       "    }\n",
       "\n",
       "    .dataframe thead th {\n",
       "        text-align: right;\n",
       "    }\n",
       "</style>\n",
       "<table border=\"1\" class=\"dataframe\">\n",
       "  <thead>\n",
       "    <tr style=\"text-align: right;\">\n",
       "      <th></th>\n",
       "      <th>Product</th>\n",
       "      <th>Rating</th>\n",
       "      <th>MRP</th>\n",
       "      <th>Feature</th>\n",
       "    </tr>\n",
       "  </thead>\n",
       "  <tbody>\n",
       "    <tr>\n",
       "      <th>0</th>\n",
       "      <td>Lenovo IdeaPad 3 Core i3 11th Gen - (8 GB/256 ...</td>\n",
       "      <td>4.2</td>\n",
       "      <td>₹36,990</td>\n",
       "      <td>Intel Core i3 Processor (11th Gen)8 GB DDR4 RA...</td>\n",
       "    </tr>\n",
       "    <tr>\n",
       "      <th>1</th>\n",
       "      <td>Lenovo IdeaPad 3 Core i3 11th Gen - (8 GB/512 ...</td>\n",
       "      <td>4.2</td>\n",
       "      <td>₹39,990</td>\n",
       "      <td>Intel Core i3 Processor (11th Gen)8 GB DDR4 RA...</td>\n",
       "    </tr>\n",
       "    <tr>\n",
       "      <th>2</th>\n",
       "      <td>ASUS VivoBook 15 (2022) Core i3 10th Gen - (8 ...</td>\n",
       "      <td>4.3</td>\n",
       "      <td>₹32,990</td>\n",
       "      <td>Intel Core i3 Processor (10th Gen)8 GB DDR4 RA...</td>\n",
       "    </tr>\n",
       "    <tr>\n",
       "      <th>3</th>\n",
       "      <td>HP Pavilion Ryzen 5 Hexa Core AMD R5-5600H - (...</td>\n",
       "      <td>4.4</td>\n",
       "      <td>₹49,990</td>\n",
       "      <td>AMD Ryzen 5 Hexa Core Processor8 GB DDR4 RAM64...</td>\n",
       "    </tr>\n",
       "    <tr>\n",
       "      <th>4</th>\n",
       "      <td>ASUS TUF Gaming F15 Core i5 10th Gen - (8 GB/5...</td>\n",
       "      <td>4.4</td>\n",
       "      <td>₹49,990</td>\n",
       "      <td>Intel Core i5 Processor (10th Gen)8 GB DDR4 RA...</td>\n",
       "    </tr>\n",
       "    <tr>\n",
       "      <th>...</th>\n",
       "      <td>...</td>\n",
       "      <td>...</td>\n",
       "      <td>...</td>\n",
       "      <td>...</td>\n",
       "    </tr>\n",
       "    <tr>\n",
       "      <th>715</th>\n",
       "      <td>ASUS Chromebook Flip Touch Celeron Dual Core -...</td>\n",
       "      <td>4.0</td>\n",
       "      <td>₹23,490</td>\n",
       "      <td>Intel Celeron Dual Core Processor4 GB LPDDR4 R...</td>\n",
       "    </tr>\n",
       "    <tr>\n",
       "      <th>716</th>\n",
       "      <td>Lenovo IdeaPad Gaming 3 Ryzen 7 Octa Core AMD ...</td>\n",
       "      <td>4.5</td>\n",
       "      <td>₹73,490</td>\n",
       "      <td>AMD Ryzen 7 Octa Core Processor8 GB DDR4 RAM64...</td>\n",
       "    </tr>\n",
       "    <tr>\n",
       "      <th>717</th>\n",
       "      <td>ASUS ROG Zephyrus G15 Ryzen 9 Octa Core 6900HS...</td>\n",
       "      <td>NaN</td>\n",
       "      <td>₹1,94,990</td>\n",
       "      <td>AMD Ryzen 9 Octa Core Processor16 GB DDR5 RAM6...</td>\n",
       "    </tr>\n",
       "    <tr>\n",
       "      <th>718</th>\n",
       "      <td>ASUS Zenbook Flip 14 OLED (2022) Touch Panel C...</td>\n",
       "      <td>3.0</td>\n",
       "      <td>₹1,25,990</td>\n",
       "      <td>Intel Core i7 Processor (12th Gen)16 GB LPDDR5...</td>\n",
       "    </tr>\n",
       "    <tr>\n",
       "      <th>719</th>\n",
       "      <td>Lenovo Ideapad Slim 3i Core i5 10th Gen - (8 G...</td>\n",
       "      <td>4.2</td>\n",
       "      <td>₹50,990</td>\n",
       "      <td>Intel Core i5 Processor (10th Gen)8 GB DDR4 RA...</td>\n",
       "    </tr>\n",
       "  </tbody>\n",
       "</table>\n",
       "<p>720 rows × 4 columns</p>\n",
       "</div>"
      ],
      "text/plain": [
       "                                               Product  Rating        MRP  \\\n",
       "0    Lenovo IdeaPad 3 Core i3 11th Gen - (8 GB/256 ...     4.2    ₹36,990   \n",
       "1    Lenovo IdeaPad 3 Core i3 11th Gen - (8 GB/512 ...     4.2    ₹39,990   \n",
       "2    ASUS VivoBook 15 (2022) Core i3 10th Gen - (8 ...     4.3    ₹32,990   \n",
       "3    HP Pavilion Ryzen 5 Hexa Core AMD R5-5600H - (...     4.4    ₹49,990   \n",
       "4    ASUS TUF Gaming F15 Core i5 10th Gen - (8 GB/5...     4.4    ₹49,990   \n",
       "..                                                 ...     ...        ...   \n",
       "715  ASUS Chromebook Flip Touch Celeron Dual Core -...     4.0    ₹23,490   \n",
       "716  Lenovo IdeaPad Gaming 3 Ryzen 7 Octa Core AMD ...     4.5    ₹73,490   \n",
       "717  ASUS ROG Zephyrus G15 Ryzen 9 Octa Core 6900HS...     NaN  ₹1,94,990   \n",
       "718  ASUS Zenbook Flip 14 OLED (2022) Touch Panel C...     3.0  ₹1,25,990   \n",
       "719  Lenovo Ideapad Slim 3i Core i5 10th Gen - (8 G...     4.2    ₹50,990   \n",
       "\n",
       "                                               Feature  \n",
       "0    Intel Core i3 Processor (11th Gen)8 GB DDR4 RA...  \n",
       "1    Intel Core i3 Processor (11th Gen)8 GB DDR4 RA...  \n",
       "2    Intel Core i3 Processor (10th Gen)8 GB DDR4 RA...  \n",
       "3    AMD Ryzen 5 Hexa Core Processor8 GB DDR4 RAM64...  \n",
       "4    Intel Core i5 Processor (10th Gen)8 GB DDR4 RA...  \n",
       "..                                                 ...  \n",
       "715  Intel Celeron Dual Core Processor4 GB LPDDR4 R...  \n",
       "716  AMD Ryzen 7 Octa Core Processor8 GB DDR4 RAM64...  \n",
       "717  AMD Ryzen 9 Octa Core Processor16 GB DDR5 RAM6...  \n",
       "718  Intel Core i7 Processor (12th Gen)16 GB LPDDR5...  \n",
       "719  Intel Core i5 Processor (10th Gen)8 GB DDR4 RA...  \n",
       "\n",
       "[720 rows x 4 columns]"
      ]
     },
     "execution_count": 3,
     "metadata": {},
     "output_type": "execute_result"
    }
   ],
   "source": [
    "df"
   ]
  },
  {
   "cell_type": "code",
   "execution_count": 4,
   "id": "b5290726",
   "metadata": {
    "scrolled": false
   },
   "outputs": [
    {
     "data": {
      "text/html": [
       "<div>\n",
       "<style scoped>\n",
       "    .dataframe tbody tr th:only-of-type {\n",
       "        vertical-align: middle;\n",
       "    }\n",
       "\n",
       "    .dataframe tbody tr th {\n",
       "        vertical-align: top;\n",
       "    }\n",
       "\n",
       "    .dataframe thead th {\n",
       "        text-align: right;\n",
       "    }\n",
       "</style>\n",
       "<table border=\"1\" class=\"dataframe\">\n",
       "  <thead>\n",
       "    <tr style=\"text-align: right;\">\n",
       "      <th></th>\n",
       "      <th>Product</th>\n",
       "      <th>Rating</th>\n",
       "      <th>MRP</th>\n",
       "      <th>Feature</th>\n",
       "    </tr>\n",
       "  </thead>\n",
       "  <tbody>\n",
       "    <tr>\n",
       "      <th>0</th>\n",
       "      <td>Lenovo IdeaPad 3 Core i3 11th Gen - (8 GB/256 GB SSD/Windows 11 Home) 14ITL05 Thin and Light Laptop</td>\n",
       "      <td>4.2</td>\n",
       "      <td>₹36,990</td>\n",
       "      <td>Intel Core i3 Processor (11th Gen)8 GB DDR4 RAM64 bit Windows 11 Operating System256 GB SSD35.56 cm (14 inch) DisplayOffice Home and Student 20212 Year Onsite�Warranty</td>\n",
       "    </tr>\n",
       "    <tr>\n",
       "      <th>1</th>\n",
       "      <td>Lenovo IdeaPad 3 Core i3 11th Gen - (8 GB/512 GB SSD/Windows 11 Home) 82H801L7IN | 82H802FJIN | 82H802...</td>\n",
       "      <td>4.2</td>\n",
       "      <td>₹39,990</td>\n",
       "      <td>Intel Core i3 Processor (11th Gen)8 GB DDR4 RAM64 bit Windows 11 Operating System512 GB SSD39.62 cm (15.6 inch) DisplayOffice Home and Student 20212 Year Onsite�Warranty</td>\n",
       "    </tr>\n",
       "    <tr>\n",
       "      <th>2</th>\n",
       "      <td>ASUS VivoBook 15 (2022) Core i3 10th Gen - (8 GB/512 GB SSD/Windows 11 Home) X515JA-EJ362WS | X515JA-E...</td>\n",
       "      <td>4.3</td>\n",
       "      <td>₹32,990</td>\n",
       "      <td>Intel Core i3 Processor (10th Gen)8 GB DDR4 RAM64 bit Windows 11 Operating System512 GB SSD39.62 cm (15.6 inch) DisplayOffice Home and Student 20211 Year Onsite Warranty</td>\n",
       "    </tr>\n",
       "    <tr>\n",
       "      <th>3</th>\n",
       "      <td>HP Pavilion Ryzen 5 Hexa Core AMD R5-5600H - (8 GB/512 GB SSD/Windows 10/4 GB Graphics/NVIDIA GeForce ...</td>\n",
       "      <td>4.4</td>\n",
       "      <td>₹49,990</td>\n",
       "      <td>AMD Ryzen 5 Hexa Core Processor8 GB DDR4 RAM64 bit Windows 10 Operating System512 GB SSD39.62 cm (15.6 inch) DisplayHP Documentation, HP e-service, HP BIOS Recovery, HP SSRM, HP Smart, HP Jumpstarts1 Year Onsite Warranty</td>\n",
       "    </tr>\n",
       "    <tr>\n",
       "      <th>4</th>\n",
       "      <td>ASUS TUF Gaming F15 Core i5 10th Gen - (8 GB/512 GB SSD/Windows 11 Home/4 GB Graphics/NVIDIA GeForce G...</td>\n",
       "      <td>4.4</td>\n",
       "      <td>₹49,990</td>\n",
       "      <td>Intel Core i5 Processor (10th Gen)8 GB DDR4 RAMWindows 11 Operating System512 GB SSD39.62 cm (15.6 inch) Display1 Year Onsite Warranty</td>\n",
       "    </tr>\n",
       "  </tbody>\n",
       "</table>\n",
       "</div>"
      ],
      "text/plain": [
       "                                                                                                     Product  \\\n",
       "0        Lenovo IdeaPad 3 Core i3 11th Gen - (8 GB/256 GB SSD/Windows 11 Home) 14ITL05 Thin and Light Laptop   \n",
       "1  Lenovo IdeaPad 3 Core i3 11th Gen - (8 GB/512 GB SSD/Windows 11 Home) 82H801L7IN | 82H802FJIN | 82H802...   \n",
       "2  ASUS VivoBook 15 (2022) Core i3 10th Gen - (8 GB/512 GB SSD/Windows 11 Home) X515JA-EJ362WS | X515JA-E...   \n",
       "3  HP Pavilion Ryzen 5 Hexa Core AMD R5-5600H - (8 GB/512 GB SSD/Windows 10/4 GB Graphics/NVIDIA GeForce ...   \n",
       "4  ASUS TUF Gaming F15 Core i5 10th Gen - (8 GB/512 GB SSD/Windows 11 Home/4 GB Graphics/NVIDIA GeForce G...   \n",
       "\n",
       "   Rating      MRP  \\\n",
       "0     4.2  ₹36,990   \n",
       "1     4.2  ₹39,990   \n",
       "2     4.3  ₹32,990   \n",
       "3     4.4  ₹49,990   \n",
       "4     4.4  ₹49,990   \n",
       "\n",
       "                                                                                                                                                                                                                        Feature  \n",
       "0                                                       Intel Core i3 Processor (11th Gen)8 GB DDR4 RAM64 bit Windows 11 Operating System256 GB SSD35.56 cm (14 inch) DisplayOffice Home and Student 20212 Year Onsite�Warranty  \n",
       "1                                                     Intel Core i3 Processor (11th Gen)8 GB DDR4 RAM64 bit Windows 11 Operating System512 GB SSD39.62 cm (15.6 inch) DisplayOffice Home and Student 20212 Year Onsite�Warranty  \n",
       "2                                                     Intel Core i3 Processor (10th Gen)8 GB DDR4 RAM64 bit Windows 11 Operating System512 GB SSD39.62 cm (15.6 inch) DisplayOffice Home and Student 20211 Year Onsite Warranty  \n",
       "3  AMD Ryzen 5 Hexa Core Processor8 GB DDR4 RAM64 bit Windows 10 Operating System512 GB SSD39.62 cm (15.6 inch) DisplayHP Documentation, HP e-service, HP BIOS Recovery, HP SSRM, HP Smart, HP Jumpstarts1 Year Onsite Warranty  \n",
       "4                                                                                        Intel Core i5 Processor (10th Gen)8 GB DDR4 RAMWindows 11 Operating System512 GB SSD39.62 cm (15.6 inch) Display1 Year Onsite Warranty  "
      ]
     },
     "execution_count": 4,
     "metadata": {},
     "output_type": "execute_result"
    }
   ],
   "source": [
    "pd.options.display.max_colwidth=100000\n",
    "df.head()"
   ]
  },
  {
   "cell_type": "code",
   "execution_count": 5,
   "id": "0c0c3371",
   "metadata": {},
   "outputs": [
    {
     "data": {
      "text/plain": [
       "(720, 4)"
      ]
     },
     "execution_count": 5,
     "metadata": {},
     "output_type": "execute_result"
    }
   ],
   "source": [
    "df.shape"
   ]
  },
  {
   "cell_type": "code",
   "execution_count": 6,
   "id": "43cc3c11",
   "metadata": {},
   "outputs": [
    {
     "name": "stdout",
     "output_type": "stream",
     "text": [
      "<class 'pandas.core.frame.DataFrame'>\n",
      "RangeIndex: 720 entries, 0 to 719\n",
      "Data columns (total 4 columns):\n",
      " #   Column   Non-Null Count  Dtype  \n",
      "---  ------   --------------  -----  \n",
      " 0   Product  720 non-null    object \n",
      " 1   Rating   581 non-null    float64\n",
      " 2   MRP      720 non-null    object \n",
      " 3   Feature  720 non-null    object \n",
      "dtypes: float64(1), object(3)\n",
      "memory usage: 22.6+ KB\n"
     ]
    }
   ],
   "source": [
    "df.info()"
   ]
  },
  {
   "cell_type": "code",
   "execution_count": 7,
   "id": "d461fd0c",
   "metadata": {},
   "outputs": [],
   "source": [
    "#Converting MRP Feature from object to Integer\n",
    "df['MRP'] = df['MRP'].apply(lambda x : x.replace('₹', ''))\n",
    "df['MRP'] = df['MRP'].apply(lambda x : x.replace(',', ''))\n",
    "df['MRP'] = df['MRP'].astype(int)"
   ]
  },
  {
   "cell_type": "code",
   "execution_count": 8,
   "id": "5252a0b7",
   "metadata": {},
   "outputs": [
    {
     "data": {
      "text/plain": [
       "0       36990\n",
       "1       39990\n",
       "2       32990\n",
       "3       49990\n",
       "4       49990\n",
       "        ...  \n",
       "715     23490\n",
       "716     73490\n",
       "717    194990\n",
       "718    125990\n",
       "719     50990\n",
       "Name: MRP, Length: 720, dtype: int32"
      ]
     },
     "execution_count": 8,
     "metadata": {},
     "output_type": "execute_result"
    }
   ],
   "source": [
    "df['MRP']"
   ]
  },
  {
   "cell_type": "code",
   "execution_count": 9,
   "id": "b613eb26",
   "metadata": {},
   "outputs": [
    {
     "name": "stdout",
     "output_type": "stream",
     "text": [
      "<class 'pandas.core.frame.DataFrame'>\n",
      "RangeIndex: 720 entries, 0 to 719\n",
      "Data columns (total 4 columns):\n",
      " #   Column   Non-Null Count  Dtype  \n",
      "---  ------   --------------  -----  \n",
      " 0   Product  720 non-null    object \n",
      " 1   Rating   581 non-null    float64\n",
      " 2   MRP      720 non-null    int32  \n",
      " 3   Feature  720 non-null    object \n",
      "dtypes: float64(1), int32(1), object(2)\n",
      "memory usage: 19.8+ KB\n"
     ]
    }
   ],
   "source": [
    "df.info()"
   ]
  },
  {
   "cell_type": "markdown",
   "id": "dc2a9f50",
   "metadata": {},
   "source": [
    "# Extracting different features of Laptop from the given dataset using RegEx"
   ]
  },
  {
   "cell_type": "code",
   "execution_count": 10,
   "id": "ebb17945",
   "metadata": {},
   "outputs": [],
   "source": [
    "import re\n"
   ]
  },
  {
   "cell_type": "code",
   "execution_count": 11,
   "id": "d4895d0b",
   "metadata": {},
   "outputs": [],
   "source": [
    "#Extracting Brand feature...\n",
    "pattern = r'^\\w+'\n",
    "df['Brand']=df['Product'].apply(lambda x : re.findall(pattern, x))\n",
    "df['Brand']= df['Brand'].apply(lambda x : ''.join(x))"
   ]
  },
  {
   "cell_type": "code",
   "execution_count": 12,
   "id": "b85c5975",
   "metadata": {},
   "outputs": [
    {
     "data": {
      "text/plain": [
       "0      Lenovo\n",
       "1      Lenovo\n",
       "2        ASUS\n",
       "3          HP\n",
       "4        ASUS\n",
       "        ...  \n",
       "715      ASUS\n",
       "716    Lenovo\n",
       "717      ASUS\n",
       "718      ASUS\n",
       "719    Lenovo\n",
       "Name: Brand, Length: 720, dtype: object"
      ]
     },
     "execution_count": 12,
     "metadata": {},
     "output_type": "execute_result"
    }
   ],
   "source": [
    "df['Brand']"
   ]
  },
  {
   "cell_type": "code",
   "execution_count": 13,
   "id": "a0896090",
   "metadata": {
    "scrolled": true
   },
   "outputs": [],
   "source": [
    "#Processor Type feature\n",
    "pt= r'^(?:Intel|AMD|M1|Apple)[\\s\\w]+Processor'\n",
    "df['Processor Type']=df['Feature'].apply(lambda x : re.findall(pt, x))\n",
    "df['Processor Type'] = df['Processor Type'].str.join('').str.replace(' Processor', '')\n"
   ]
  },
  {
   "cell_type": "code",
   "execution_count": 14,
   "id": "9254455b",
   "metadata": {
    "scrolled": true
   },
   "outputs": [
    {
     "data": {
      "text/plain": [
       "array(['Intel Core i3', 'AMD Ryzen 5 Hexa Core', 'Intel Core i5', '',\n",
       "       'AMD Ryzen 7 Quad Core', 'AMD Ryzen 5 Quad Core',\n",
       "       'AMD Ryzen 9 Octa Core', 'AMD Ryzen 7 Octa Core', 'Apple M1',\n",
       "       'Intel Celeron Dual Core', 'AMD Ryzen 3 Dual Core',\n",
       "       'AMD Athlon Dual Core', 'AMD Ryzen 3 Quad Core', 'Apple M2',\n",
       "       'Intel Celeron Quad Core', 'Intel Core i7', 'Apple M1 Pro',\n",
       "       'Apple M1 Max', 'Intel Core i9', 'Intel Pentium Silver',\n",
       "       'AMD Ryzen 5 Dual Core', 'Intel Pentium Quad Core',\n",
       "       'AMD Dual Core', 'AMD Ryzen 3 Hexa Core'], dtype=object)"
      ]
     },
     "execution_count": 14,
     "metadata": {},
     "output_type": "execute_result"
    }
   ],
   "source": [
    "df['Processor Type'].unique()"
   ]
  },
  {
   "cell_type": "code",
   "execution_count": 15,
   "id": "ad55f80c",
   "metadata": {},
   "outputs": [
    {
     "data": {
      "text/plain": [
       "32"
      ]
     },
     "execution_count": 15,
     "metadata": {},
     "output_type": "execute_result"
    }
   ],
   "source": [
    "len(df[df['Processor Type']==''])"
   ]
  },
  {
   "cell_type": "code",
   "execution_count": 16,
   "id": "4df2271a",
   "metadata": {},
   "outputs": [
    {
     "data": {
      "text/html": [
       "<div>\n",
       "<style scoped>\n",
       "    .dataframe tbody tr th:only-of-type {\n",
       "        vertical-align: middle;\n",
       "    }\n",
       "\n",
       "    .dataframe tbody tr th {\n",
       "        vertical-align: top;\n",
       "    }\n",
       "\n",
       "    .dataframe thead th {\n",
       "        text-align: right;\n",
       "    }\n",
       "</style>\n",
       "<table border=\"1\" class=\"dataframe\">\n",
       "  <thead>\n",
       "    <tr style=\"text-align: right;\">\n",
       "      <th></th>\n",
       "      <th>Product</th>\n",
       "      <th>Rating</th>\n",
       "      <th>MRP</th>\n",
       "      <th>Feature</th>\n",
       "      <th>Brand</th>\n",
       "      <th>Processor Type</th>\n",
       "    </tr>\n",
       "  </thead>\n",
       "  <tbody>\n",
       "    <tr>\n",
       "      <th>6</th>\n",
       "      <td>DELL Inspiron Core i3 11th Gen - (8 GB/1 TB HDD/256 GB SSD/Windows 11 Home) D560841WIN9S Thin and Ligh...</td>\n",
       "      <td>4.3</td>\n",
       "      <td>38990</td>\n",
       "      <td>Processor: Intel i3-1115G4 (Base- 1.70 GHz &amp; Turbo up to 4.10 GHz) 2 CoresRAM &amp; Storage: 8GB DDR4 &amp; 1TB + 256GB SSDGraphics &amp; Keyboard: Integrated &amp; Standard KeyboardDisplay: 15.6\" FHD WVA AG Narrow BorderPorts: 2x USB 3.2 Gen1 ,1x USB 2.0, HDMI 1.4, SD Card reader, Audio jack, 1 M.2 2230/2280 slot for solid-state drive/Intel OptaneIntel Core i3 Processor (11th Gen)8 GB DDR4 RAMWindows 11 Operating System1 TB HDD|256 GB SSD39.62 cm (15.6 inch) Display1 YEAR</td>\n",
       "      <td>DELL</td>\n",
       "      <td></td>\n",
       "    </tr>\n",
       "    <tr>\n",
       "      <th>8</th>\n",
       "      <td>realme Book (Slim) Core i3 11th Gen - (8 GB/256 GB SSD/Windows 10 Home) RMNB1001 Thin and Light Laptop</td>\n",
       "      <td>4.4</td>\n",
       "      <td>46990</td>\n",
       "      <td>Stylish &amp; Portable Thin and Light Laptop14 inch 2K QHD, IPS LCD Display ( 400nits peak brightness, 100% sRGB, 3:2 aspect ratio, Full Vision Display)Finger Print Sensor for Faster System AccessLight Laptop without Optical Disk DriveIntel Core i3 Processor (11th Gen)8 GB DDR4 RAM64 bit Windows 10 Operating System256 GB SSD35.56 cm (14 inch) DisplayNA1 Year Domestic Warranty</td>\n",
       "      <td>realme</td>\n",
       "      <td></td>\n",
       "    </tr>\n",
       "    <tr>\n",
       "      <th>29</th>\n",
       "      <td>realme Book (Slim) Core i3 11th Gen - (8 GB/256 GB SSD/Windows 10 Home) RMNB1001 Thin and Light Laptop</td>\n",
       "      <td>4.4</td>\n",
       "      <td>46990</td>\n",
       "      <td>Stylish &amp; Portable Thin and Light Laptop14 inch 2K QHD, IPS LCD Display ( 400nits peak brightness, 100% sRGB, 3:2 aspect ratio, Full Vision Display)Finger Print Sensor for Faster System AccessLight Laptop without Optical Disk DriveIntel Core i3 Processor (11th Gen)8 GB DDR4 RAM64 bit Windows 10 Operating System256 GB SSD35.56 cm (14 inch) DisplayNA1 Year Domestic Warranty</td>\n",
       "      <td>realme</td>\n",
       "      <td></td>\n",
       "    </tr>\n",
       "    <tr>\n",
       "      <th>33</th>\n",
       "      <td>acer Aspire 7 Ryzen 5 Hexa Core AMD R5-5500U - (8 GB/512 GB SSD/Windows 11 Home/4 GB Graphics/NVIDIA G...</td>\n",
       "      <td>4.4</td>\n",
       "      <td>47990</td>\n",
       "      <td>Free upgrade to Windows 11 when availableAMD Ryzen 5 Hexa Core Processor8 GB DDR4 RAM64 bit Windows 11 Operating System512 GB SSD39.62 cm (15.6 inch) DisplayAcer Collection , Acer Product Registration, Acer Care Center, Quick Access1 Year International Travelers Warranty (ITW)</td>\n",
       "      <td>acer</td>\n",
       "      <td></td>\n",
       "    </tr>\n",
       "    <tr>\n",
       "      <th>53</th>\n",
       "      <td>realme Book(Slim) Intel Evo Core i5 11th Gen - (8 GB/512 GB SSD/Windows 10 Home) RMNB1002 Thin and Lig...</td>\n",
       "      <td>4.4</td>\n",
       "      <td>59990</td>\n",
       "      <td>Powered by 11th Gen Intel Evo Core i5 ProcessorMicrosoft Office 2019 Home &amp; Student IncludedStylish Thin and Light Laptop without Optical Disk DriveIntel Core i5 Processor (11th Gen)8 GB DDR4 RAM64 bit Windows 10 Operating System512 GB SSD35.56 cm (14 inch) DisplayMicrosoft Office 2019 Home &amp; Student1 Year Domestic Warranty</td>\n",
       "      <td>realme</td>\n",
       "      <td></td>\n",
       "    </tr>\n",
       "    <tr>\n",
       "      <th>54</th>\n",
       "      <td>acer Aspire 7 Core i5 10th Gen - (8 GB/512 GB SSD/Windows 10 Home/4 GB Graphics/NVIDIA GeForce GTX 165...</td>\n",
       "      <td>4.4</td>\n",
       "      <td>47990</td>\n",
       "      <td>Free upgrade to Windows 11 when availableIntel Core i5 Processor (10th Gen)8 GB DDR4 RAM64 bit Windows 10 Operating System512 GB SSD39.62 cm (15.6 inch) DisplayQuick Access, Acer Care Center, Acer Product Registration, Acer Collection1 Year International Travelers Warranty</td>\n",
       "      <td>acer</td>\n",
       "      <td></td>\n",
       "    </tr>\n",
       "    <tr>\n",
       "      <th>69</th>\n",
       "      <td>DELL Ryzen 5 Hexa Core AMD R5-5600H - (16 GB/512 GB SSD/Windows 11 Home/4 GB Graphics/NVIDIA GeForce R...</td>\n",
       "      <td>4.6</td>\n",
       "      <td>70990</td>\n",
       "      <td>Processor: AMD Ryzen R5-5600H (3.30 GHz up to 4.20 GHz) 16MB L3RAM &amp; Storage: 16GB DDR4 (2 DIMM Slots) &amp; 512GB SSDGraphics: NVIDIA GEFORCE RTX 3050 (4GB GDDR6) TGP Up To 80WDisplay: 15.6\" FHD WVA AG 250 nits 120Hz Narrow Border, Backlit Keyboard OrangeColor: Phantom Grey with specklesPorts: (1) HDMI 2.1, (2) SuperSpeed USB 2.0 Gen 1 Type-A including (1) with PowerShare, (1) SuperSpeed USB 3.2, (1) USB-C Data/Display Port Alt-Mode, Headphone/Mic, (1) RJ45WiFi &amp; BT: Killer Wi-Fi 6 AX1650 (2x2) and BluetoothAMD Ryzen 5 Hexa Core Processor16 GB DDR4 RAM64 bit Windows 11 Operating System512 GB SSD39.62 cm (15.6 inch) DisplayOffice Home and Student 20211 Year Onsite Hardware Service</td>\n",
       "      <td>DELL</td>\n",
       "      <td></td>\n",
       "    </tr>\n",
       "    <tr>\n",
       "      <th>83</th>\n",
       "      <td>SAMSUNG Galaxy Book Go Snapdragon 7c Gen 2 - (4 GB/128 GB EMMC Storage/Windows 11 Home) NP340XLA-KA1IN...</td>\n",
       "      <td>4.4</td>\n",
       "      <td>32990</td>\n",
       "      <td>Qualcomm Snapdragon 7c Gen 2 Processor4 GB LPDDR4X RAMWindows 11 Operating System35.56 cm (14 Inch) DisplayOffice Home and Student 20211 Year Onsite Warranty</td>\n",
       "      <td>SAMSUNG</td>\n",
       "      <td></td>\n",
       "    </tr>\n",
       "    <tr>\n",
       "      <th>94</th>\n",
       "      <td>DELL Inspiron Pentium Silver - (8 GB/256 GB SSD/Windows 11 Home) Inspiron 3521 Notebook</td>\n",
       "      <td>4.2</td>\n",
       "      <td>30428</td>\n",
       "      <td>Processor: Intel PQC-N5030 (1.10 GHz up to 3.10 GHz)RAM &amp; Storage: 8GB DDR4 &amp; 256GB SSDDisplay: 15.6\" HD AG Narrow BorderSoftware: Win 11 + Office H&amp;S 20212x USB 3.2 Gen1 ,1x USB 2.0, HDMI 1.4, SD Card reader, Audio jack, 1 M.2 2230/2280 slot for solid-state drive/Intel OptaneWiFi &amp; BT: 802.11ac 1x1 WiFi and BluetoothIntel Pentium Silver Processor8 GB DDR4 RAM64 bit Windows 11 Operating System256 GB SSD39.62 cm (15.6 Inch) Display1 Year Onsite Warranty</td>\n",
       "      <td>DELL</td>\n",
       "      <td></td>\n",
       "    </tr>\n",
       "    <tr>\n",
       "      <th>116</th>\n",
       "      <td>realme Book(Slim) Intel Evo Core i5 11th Gen - (8 GB/512 GB SSD/Windows 10 Home) RMNB1002 Thin and Lig...</td>\n",
       "      <td>4.4</td>\n",
       "      <td>59990</td>\n",
       "      <td>Powered by 11th Gen Intel Evo Core i5 ProcessorMicrosoft Office 2019 Home &amp; Student IncludedStylish Thin and Light Laptop without Optical Disk DriveIntel Core i5 Processor (11th Gen)8 GB DDR4 RAM64 bit Windows 10 Operating System512 GB SSD35.56 cm (14 inch) DisplayMicrosoft Office 2019 Home &amp; Student1 Year Domestic Warranty</td>\n",
       "      <td>realme</td>\n",
       "      <td></td>\n",
       "    </tr>\n",
       "    <tr>\n",
       "      <th>122</th>\n",
       "      <td>DELL Ryzen 7 Octa Core AMD R7-5800H - (16 GB/512 GB SSD/Windows 11 Home/4 GB Graphics/NVIDIA GeForce R...</td>\n",
       "      <td>5.0</td>\n",
       "      <td>89081</td>\n",
       "      <td>NVIDIA RTX 3050 Graphics upto 90W TGP15.6 inch Full HD AG Display (250 nits Brightness, 120Hz, Narrow Border)Alienware Command CenterAMD Ryzen 7 Octa Core Processor16 GB DDR4 RAM64 bit Windows 11 Operating System512 GB SSD39.62 cm (15.6 inch) DisplayOffice Home and Student 20211 Year Premium Support</td>\n",
       "      <td>DELL</td>\n",
       "      <td></td>\n",
       "    </tr>\n",
       "    <tr>\n",
       "      <th>142</th>\n",
       "      <td>DELL Vostro Ryzen 3 Dual Core R3-3250U - (8 GB/1 TB HDD/Windows 11 Home) Vostro 3405 Thin and Light La...</td>\n",
       "      <td>3.8</td>\n",
       "      <td>33099</td>\n",
       "      <td>Processor: AMD Ryzen 3-3250U (2.60 GHz up to 3.50 GHz)RAM &amp; Storage: 8GB DDR4 (2 DIMM Slots) &amp; 1TB HDDSoftware: Win 11 + Office H&amp;S 2021Display: 14.0\" FHD WVA AG Narrow BorderPorts: USB 3.2 Gen 1 (x2), USB2.0 (x1), HDMI 1.4, SD Media Card Reader (SD, SDHC, SDXC), RJ45 - 10/100MbpsWiFi &amp; BT: 802.11ac 1x1 WiFi and BluetoothAMD Ryzen 3 Dual Core Processor8 GB DDR4 RAM64 bit Windows 11 Operating System1 TB HDD88.9 cm (35 cm) DisplayMicrosoft Office Home and Student 20211 Year Onsite Warranty1 Year Onsite Warranty</td>\n",
       "      <td>DELL</td>\n",
       "      <td></td>\n",
       "    </tr>\n",
       "    <tr>\n",
       "      <th>172</th>\n",
       "      <td>DELL Inspiron Core i3 11th Gen - (8 GB/1 TB HDD/256 GB SSD/Windows 11 Home) Inspiron 3511,Inspiron 300...</td>\n",
       "      <td>4.3</td>\n",
       "      <td>45900</td>\n",
       "      <td>Processor: Intel i3-1115G4 (Base- 1.70 GHz &amp; Turbo up to 4.10 GHz) 2 CoresRAM &amp; Storage: 8GB DDR4 &amp; 1TB + 256GB SSDGraphics &amp; Keyboard: Integrated &amp; Standard KeyboardDisplay: 15.6\" FHD WVA AG Narrow BorderPorts: 2x USB 3.2 Gen1 ,1x USB 2.0, HDMI 1.4, SD Card reader, Audio jack, 1 M.2 2230/2280 slot for solid-state drive/Intel OptaneIntel Core i3 Processor (11th Gen)8 GB DDR4 RAM64 bit Windows 11 Operating System1 TB HDD|256 GB SSD39.62 cm (15.6 inch) Display1 Year Onsite Warranty</td>\n",
       "      <td>DELL</td>\n",
       "      <td></td>\n",
       "    </tr>\n",
       "    <tr>\n",
       "      <th>232</th>\n",
       "      <td>MSI Pulse GL66 Core i7 11th Gen - (16 GB/1 TB SSD/Windows 10 Home/6 GB Graphics/NVIDIA GeForce RTX 306...</td>\n",
       "      <td>4.5</td>\n",
       "      <td>114990</td>\n",
       "      <td>Pre-installed Genuine Windows 10 Home OSIntel Core i7 Processor (11th Gen)16 GB DDR4 RAM64 bit Windows 10 Operating System1 TB SSD39.62 cm (15.6 inches) DisplayCooler Boost 5, Hi-Res Audio, Nahimic 3, Speaker Tuning Engine, MSI Center2 Year On-Site Warranty</td>\n",
       "      <td>MSI</td>\n",
       "      <td></td>\n",
       "    </tr>\n",
       "    <tr>\n",
       "      <th>249</th>\n",
       "      <td>DELL Inspiron Core i3 11th Gen - (8 GB/256 GB SSD/Windows 11 Home) INSPIRON 5410 2 in 1 Laptop</td>\n",
       "      <td>4.3</td>\n",
       "      <td>54900</td>\n",
       "      <td>Processor: Intel i3-1125G4 (2.00 GHz up to 3.70 GHz)RAM &amp; Storage: 8GB DDR4 (2 DIMM Slots) &amp; 256GB SSDSoftware: Win 11 + Office H&amp;S 2021Display: 14.0\" FHD WVA Truelife Touch Narrow Border 60HzPorts: \"1 HDMI out 1.4a, 2 USB 3.2 Gen 1 Type-A, 1 USB 3.2 Gen 2 Type-C with Power Delivery and Video, 1 DC-in port, 1 3.5mm Headphone/Microphone combination jack\"WiFi &amp; BT: Intel Wi-Fi 6 2x2 (Gig+) and Bluetooth 5.1Intel Core i3 Processor (11th Gen)8 GB DDR4 RAM64 bit Windows 11 Operating System256 GB SSD35.56 cm (14 inch) Touchscreen DisplayOffice Home and Student 20211 Year Onsite Warranty</td>\n",
       "      <td>DELL</td>\n",
       "      <td></td>\n",
       "    </tr>\n",
       "    <tr>\n",
       "      <th>253</th>\n",
       "      <td>DELL Inspiron Ryzen 5 Dual Core 3450U - (8 GB/512 GB SSD/Windows 11 Home) INSPIRON 3515 Thin and Light...</td>\n",
       "      <td>4.3</td>\n",
       "      <td>48184</td>\n",
       "      <td>Processor: AMD Ryzen 5-3450U (2.10 GHz up to 3.50 GHz)RAM &amp; Storage: 8GB DDR4 (2 DIMM Slots) &amp; 512GB SSDSoftware: Win 11 + Office H&amp;S 2021Display: 15.6\" FHD WVA AG Narrow BorderPorts: \"2x USB 3.2 Gen1 ,1x USB 2.0, HDMI 1.4b, SD Card reader, Audio jackWiFi &amp; BT: 802.11ac 1x1 WiFi and BluetoothAMD Ryzen 5 Dual Core Processor8 GB DDR4 RAM64 bit Windows 11 Operating System512 GB SSD39.62 cm (15.6 Inch) DisplayMicrosoft Office Home &amp; Student 20211 Year Onsite Warranty</td>\n",
       "      <td>DELL</td>\n",
       "      <td></td>\n",
       "    </tr>\n",
       "    <tr>\n",
       "      <th>259</th>\n",
       "      <td>DELL Core i5 11th Gen - (8 GB/512 GB SSD/Windows 11 Home/4 GB Graphics/NVIDIA GeForce RTX 3050) G15-55...</td>\n",
       "      <td>4.4</td>\n",
       "      <td>67990</td>\n",
       "      <td>NVIDIA RTX 3050 Graphics upto 90W TGP15.6 inch Full HD AG Display (250 nits Brightness, 120Hz, Narrow Border)Alienware Command CenterIntel Core i5 Processor (11th Gen)8 GB DDR4 RAM64 bit Windows 11 Operating System512 GB SSD39.62 cm (15.6 inch) DisplayOffice Home and Student 20211 Year Onsite Hardware Service</td>\n",
       "      <td>DELL</td>\n",
       "      <td></td>\n",
       "    </tr>\n",
       "    <tr>\n",
       "      <th>349</th>\n",
       "      <td>DELL Vostro Core i5 11th Gen - (8 GB/512 GB SSD/Windows 10/2 GB Graphics) Vostro 3400 Thin and Light L...</td>\n",
       "      <td>3.9</td>\n",
       "      <td>63090</td>\n",
       "      <td>Processor: 11th Generation Intel Core i5-1135G7 Processor (8MB Cache, up to 4.2 GHz),Memory &amp; Storage:8GB DDR4, 2666MHz | 512GB M.2 PCIe NVMe Solid State DriveDisplay:14.0-inch FHD (1920 x 1080) Anti-glare LED Backlight Narrow Border WVA DisplayGraphics: Dedicated NVIDIA MX330 2GB GDDR5Operating System &amp; Software:Windows 10 Home Single Language | Microsoft Office Home and Student 2019I/O ports: 2x USB 3.2 Gen-1, 1xUSB 2.0, 1xHDMI port, 1xEthernet port,1x Headset jack, 1xSD Media Card ReaderIntel Core i5 Processor (11th Gen)8 GB DDR4 RAM64 bit Windows 10 Operating System512 GB SSD88.9 cm (35 cm) Display1 Year Onsite Warranty</td>\n",
       "      <td>DELL</td>\n",
       "      <td></td>\n",
       "    </tr>\n",
       "    <tr>\n",
       "      <th>355</th>\n",
       "      <td>DELL Vostro Core i3 10th Gen - (8 GB/512 GB SSD/Windows 10) Vostro 3401 Thin and Light Laptop</td>\n",
       "      <td>4.1</td>\n",
       "      <td>43090</td>\n",
       "      <td>Processor: 10th Generation Intel Core i3-1005G1 Processor (4MB Cache, up to 3.4 GHz)RAM &amp; Storage:8GB RAM | 512GB M.2 PCIe NVMe Solid State DriveDisplay:14.0-inch FHD (1920 x 1080) Anti-glare LED Backlight Narrow Border WVA DisplayGraphics:Intel UHD Graphics with shared graphics memoryOperating System &amp; Software:Windows 10 Home Single Language | Microsoft Office Home and Student 2019Ports: USB 3.2 Gen 1 (x2), USB2.0 (x1), HDMI 1.4,SD Media Card Reader (SD, SDHC, SDXC), RJ45 - 10/100/1000Mbps GbEIntel Core i3 Processor (10th Gen)8 GB DDR4 RAM64 bit Windows 10 Operating System512 GB SSD35.56 cm (14 Inch) DisplayMicrosoft Office Home and Student 20191 Year Onsite Warranty</td>\n",
       "      <td>DELL</td>\n",
       "      <td></td>\n",
       "    </tr>\n",
       "    <tr>\n",
       "      <th>393</th>\n",
       "      <td>acer Aspire 5 Core i5 11th Gen - (8 GB/1 TB HDD/Windows 10 Home) A515-56 Thin and Light Laptop</td>\n",
       "      <td>4.0</td>\n",
       "      <td>47130</td>\n",
       "      <td>Free upgrade to Windows 11 when availableIntel Core i5 Processor (11th Gen)8 GB DDR4 RAM64 bit Windows 10 Operating System1 TB HDD39.62 cm (15.6 inch) DisplayAcer Care Center, Quick Access, Acer Product Registration1 Year International Travelers Warranty (ITW)</td>\n",
       "      <td>acer</td>\n",
       "      <td></td>\n",
       "    </tr>\n",
       "    <tr>\n",
       "      <th>438</th>\n",
       "      <td>acer Predator Helios 300 Core i5 7th Gen - (8 GB/1 TB HDD/128 GB SSD/Windows 10 Home/4 GB Graphics/NVI...</td>\n",
       "      <td>4.5</td>\n",
       "      <td>129999</td>\n",
       "      <td>Pre-installed Genuine Windows 10 Operating System (Includes Built-in Security, Free Automated Updates, Latest Features)Dual Fan Cooling with Metal AeroBlade 3D128 GB SSD for Reduced Boot Up Time and in Game LoadingUpgradable SSD Upto 512 GB and RAM Upto 32 GBNVIDIA Geforce GTX 1050Ti for Desktop Level PerformanceIntel Core i5 Processor (7th Gen)8 GB DDR4 RAM64 bit Windows 10 Operating System1 TB HDD|128 GB SSD39.62 cm (15.6 inch) DisplayAcer Care Center, Acer Collection, Acer Configuration Manager, Quick Access1 Year International Travelers Warranty (ITW)</td>\n",
       "      <td>acer</td>\n",
       "      <td></td>\n",
       "    </tr>\n",
       "    <tr>\n",
       "      <th>443</th>\n",
       "      <td>MSI Pulse GL66 Core i7 11th Gen - (16 GB/512 GB SSD/Windows 10 Home/4 GB Graphics/NVIDIA GeForce RTX 3...</td>\n",
       "      <td>4.6</td>\n",
       "      <td>107790</td>\n",
       "      <td>Pre-installed Genuine Windows 10 Home OSIntel Core i7 Processor (11th Gen)16 GB DDR4 RAM64 bit Windows 10 Operating System512 GB SSD39.62 cm (15.6 inches) DisplayCooler Boost 5, Hi-Res Audio, Nahimic 3, Speaker Tuning Engine, MSI Center2 Year Warranty Term</td>\n",
       "      <td>MSI</td>\n",
       "      <td></td>\n",
       "    </tr>\n",
       "    <tr>\n",
       "      <th>502</th>\n",
       "      <td>acer Nitro 5 Ryzen 5 Hexa Core 4600H - (8 GB/1 TB HDD/256 GB SSD/Windows 10 Home/4 GB Graphics/NVIDIA ...</td>\n",
       "      <td>4.5</td>\n",
       "      <td>61490</td>\n",
       "      <td>Free upgrade to Windows 11 when availableAMD Ryzen 5 Hexa Core Processor8 GB DDR4 RAM64 bit Windows 10 Operating System1 TB HDD|256 GB SSD39.62 cm (15.6 inch) DisplayAcer Care Center, Acer Product Registration, Acer Configuration Manager, NitroSense1 Year International Travelers Warranty (ITW)</td>\n",
       "      <td>acer</td>\n",
       "      <td></td>\n",
       "    </tr>\n",
       "    <tr>\n",
       "      <th>508</th>\n",
       "      <td>MSI GF63 Thin Core i5 9th Gen - (8 GB/1 TB HDD/Windows 10 Home/4 GB Graphics/NVIDIA GeForce GTX 1650 T...</td>\n",
       "      <td>4.2</td>\n",
       "      <td>62190</td>\n",
       "      <td>15.6 inches Full HD IPS Thin Bezel Display (60Hz, 45% NTSC Color Gamut)Intel Core i5 Processor (9th Gen)8 GB DDR4 RAM64 bit Windows 10 Operating System1 TB HDD39.62 cm (15.6 inch) DisplayCooler Boost, Audio Boost, Dragon Center, Nahimic 32 Year Warranty Term for Gaming</td>\n",
       "      <td>MSI</td>\n",
       "      <td></td>\n",
       "    </tr>\n",
       "    <tr>\n",
       "      <th>593</th>\n",
       "      <td>DELL Core i7 11th Gen - (16 GB/512 GB SSD/Windows 11 Home/4 GB Graphics/NVIDIA GeForce RTX 3050 Ti) G1...</td>\n",
       "      <td>4.2</td>\n",
       "      <td>101990</td>\n",
       "      <td>Processor: Intel i7-11800H- (2.30 GHz up to 4.60 GHz) 16MB L3RAM &amp; Storage: 16GB DDR4 (2 DIMM Slots) &amp; 512GB SSDGraphics: NVIDIA� GEFORCE� RTX 3050 Ti (4GB GDDR6)Display: 15.6\" FHD WVA AG 250 nits 120Hz Narrow Border, Backlit Keyboard OrangeColor: Dark Shadow GreyPorts: 1. HiSpeed USB 2.0 | 2. HiSpeed USB 2.0 with PowerShare | 3. USB 3.2 Gen 1 Type-C port with DisplayPort with alt mode | 4. SuperSpeed USB 3.2 | 5. HDMI | 6. Power in | 7. RJ45 | 8. Headphones/micIntel Core i7 Processor (11th Gen)16 GB DDR4 RAM64 bit Windows 11 Operating System512 GB SSD39.62 cm (15.6 inch) DisplayOffice Home and Student 20211 Year Premium Support</td>\n",
       "      <td>DELL</td>\n",
       "      <td></td>\n",
       "    </tr>\n",
       "    <tr>\n",
       "      <th>622</th>\n",
       "      <td>MSI GP65 Leopard Core i7 10th Gen - (16 GB/1 TB HDD/256 GB SSD/Windows 10 Home/6 GB Graphics/NVIDIA Ge...</td>\n",
       "      <td>4.5</td>\n",
       "      <td>99990</td>\n",
       "      <td>15.6 inches Full HD IPS Thin Bezel Display (144Hz, 45% NTSC Color Gamut)Intel Core i7 Processor (10th Gen)16 GB DDR4 RAM64 bit Windows 10 Operating System1 TB HDD|256 GB SSD39.62 cm (15.6 inch) DisplaySHIFT, SteelSeries Engine 3, Matrix Display (Extend), Dragon Center, GamingMode, VR Ready, Cooler Boost 5, Nahimic 3, Nahimic VR, Giant Speaker2 Year Warranty Term for Gaming</td>\n",
       "      <td>MSI</td>\n",
       "      <td></td>\n",
       "    </tr>\n",
       "    <tr>\n",
       "      <th>628</th>\n",
       "      <td>ALIENWARE Core i9 10th Gen - (32 GB/1 TB SSD/Windows 10 Home/8 GB Graphics/NVIDIA GeForce RTX 2080 wit...</td>\n",
       "      <td>4.6</td>\n",
       "      <td>345390</td>\n",
       "      <td>NVIDIA GeForce RTX 2080 with Max-Q15.6 inch Full HD LED Backlit Anti-glare IPS Display, 300 Hz, 300 NitsAlienware Cryo-tech thermal technology to keep the system cool and running at highest performanceTobii-eye tracking to track head pose, presence, fine gaze and eye positionIn-built Alienware Command center software with enhanced control over system settingsIntel Core i9 Processor (10th Gen)32 GB DDR4 RAM64 bit Windows 10 Operating System1 TB SSD39.62 cm (15.6 inch) DisplayMicrosoft Office Home and Student 20191 Year Limited Hardware Warranty, In Home Service After Remote Diagnosis - Retail</td>\n",
       "      <td>ALIENWARE</td>\n",
       "      <td></td>\n",
       "    </tr>\n",
       "    <tr>\n",
       "      <th>643</th>\n",
       "      <td>ASUS ZenBook Pro 15 Core i7 8th Gen - (16 GB/1 TB SSD/Windows 10 Home/4 GB Graphics) UX580GE-E2014T La...</td>\n",
       "      <td>4.8</td>\n",
       "      <td>110990</td>\n",
       "      <td>First Ever ScreenpadNVIDIA GeForce GTX 1050 TiIntel Core i7 Processor (8th Gen)16 GB DDR4 RAM64 bit Windows 10 Operating System1 TB SSD39.62 cm (15.6 inch) Touchscreen Display1 Year Onsite Warranty</td>\n",
       "      <td>ASUS</td>\n",
       "      <td></td>\n",
       "    </tr>\n",
       "    <tr>\n",
       "      <th>644</th>\n",
       "      <td>acer Predator Helios 300 Core i5 8th Gen - (8 GB/1 TB HDD/128 GB SSD/Windows 10 Home/4 GB Graphics/NVI...</td>\n",
       "      <td>4.6</td>\n",
       "      <td>74590</td>\n",
       "      <td>NVIDIA Geforce GTX 1050 Ti for Desktop Level PerformanceOptimized Dolby Audio Premium Sound Enhancement128 GB SSD Capacity for Reduced Boot Up Time and in Game LoadingDual Fan Cooling with Metal AeroBlade for Interuption Free GamingFineTip Backlit Keyboard with Independent Standard Numeric KeypadIntel Core i5 Processor (8th Gen)8 GB DDR4 RAM64 bit Windows 10 Operating System1 TB HDD|128 GB SSD39.62 cm (15.6 inch) DisplayAcer Care Center, Acer Portal, Acer Quick Access, Acer Configuration Manager1 Year International Travelers Warranty (ITW)</td>\n",
       "      <td>acer</td>\n",
       "      <td></td>\n",
       "    </tr>\n",
       "    <tr>\n",
       "      <th>645</th>\n",
       "      <td>DELL Ryzen 5 Hexa Core AMD R5-5600H - (8 GB/512 GB SSD/Windows 11 Home/4 GB Graphics/NVIDIA GeForce RT...</td>\n",
       "      <td>4.7</td>\n",
       "      <td>71990</td>\n",
       "      <td>NVIDIA RTX 3050 Graphics upto 90W TGP15.6 inch Full HD AG Display (250 nits Brightness, 120Hz, Narrow Border)Alienware Command CenterAMD Ryzen 5 Hexa Core Processor8 GB DDR4 RAM64 bit Windows 11 Operating System512 GB SSD39.62 cm (15.6 inch) DisplayOffice Home and Student 20211 Year Onsite Hardware Service</td>\n",
       "      <td>DELL</td>\n",
       "      <td></td>\n",
       "    </tr>\n",
       "    <tr>\n",
       "      <th>688</th>\n",
       "      <td>ALIENWARE Core i7 10th Gen - (16 GB/1 TB SSD/Windows 10 Home/6 GB Graphics/NVIDIA GeForce RTX 2060/300...</td>\n",
       "      <td>4.1</td>\n",
       "      <td>214790</td>\n",
       "      <td>NVIDIA GeForce RTX 206015.6 inch Full HD LED Backlit Anti-glare IPS Display, 300 Hz, 300 NitsAlienware Cryo-tech thermal technology to keep the system cool and running at highest performanceTobii-eye tracking to track head pose, presence, fine gaze and eye positionIn-built Alienware Command center software with enhanced control over system settingsIntel Core i7 Processor (10th Gen)16 GB DDR4 RAM64 bit Windows 10 Operating System1 TB SSD39.62 cm (15.6 inch) DisplayMicrosoft Office Home and Student 20191 Year Complete Cover Warranty</td>\n",
       "      <td>ALIENWARE</td>\n",
       "      <td></td>\n",
       "    </tr>\n",
       "    <tr>\n",
       "      <th>689</th>\n",
       "      <td>ALIENWARE Core i7 10th Gen - (16 GB/512 GB SSD/Windows 10 Home/6 GB Graphics/NVIDIA GeForce GTX 1660 T...</td>\n",
       "      <td>4.9</td>\n",
       "      <td>199990</td>\n",
       "      <td>NVIDIA GeForce GTX 1660 Ti15.6 inch Full HD LED Backlit Anti-glare IPS Display, 300 Hz, 300 NitsAlienware Cryo-tech thermal technology to keep the system cool and running at highest performanceTobii-eye tracking to track head pose, presence, fine gaze and eye positionIn-built Alienware Command center software with enhanced control over system settingsIntel Core i7 Processor (10th Gen)16 GB DDR4 RAM64 bit Windows 10 Operating System512 GB SSD39.62 cm (15.6 inch) DisplayMicrosoft Office Home and Student 20191 Year Limited Hardware Warranty, In Home Service After Remote Diagnosis - Retail</td>\n",
       "      <td>ALIENWARE</td>\n",
       "      <td></td>\n",
       "    </tr>\n",
       "  </tbody>\n",
       "</table>\n",
       "</div>"
      ],
      "text/plain": [
       "                                                                                                       Product  \\\n",
       "6    DELL Inspiron Core i3 11th Gen - (8 GB/1 TB HDD/256 GB SSD/Windows 11 Home) D560841WIN9S Thin and Ligh...   \n",
       "8       realme Book (Slim) Core i3 11th Gen - (8 GB/256 GB SSD/Windows 10 Home) RMNB1001 Thin and Light Laptop   \n",
       "29      realme Book (Slim) Core i3 11th Gen - (8 GB/256 GB SSD/Windows 10 Home) RMNB1001 Thin and Light Laptop   \n",
       "33   acer Aspire 7 Ryzen 5 Hexa Core AMD R5-5500U - (8 GB/512 GB SSD/Windows 11 Home/4 GB Graphics/NVIDIA G...   \n",
       "53   realme Book(Slim) Intel Evo Core i5 11th Gen - (8 GB/512 GB SSD/Windows 10 Home) RMNB1002 Thin and Lig...   \n",
       "54   acer Aspire 7 Core i5 10th Gen - (8 GB/512 GB SSD/Windows 10 Home/4 GB Graphics/NVIDIA GeForce GTX 165...   \n",
       "69   DELL Ryzen 5 Hexa Core AMD R5-5600H - (16 GB/512 GB SSD/Windows 11 Home/4 GB Graphics/NVIDIA GeForce R...   \n",
       "83   SAMSUNG Galaxy Book Go Snapdragon 7c Gen 2 - (4 GB/128 GB EMMC Storage/Windows 11 Home) NP340XLA-KA1IN...   \n",
       "94                     DELL Inspiron Pentium Silver - (8 GB/256 GB SSD/Windows 11 Home) Inspiron 3521 Notebook   \n",
       "116  realme Book(Slim) Intel Evo Core i5 11th Gen - (8 GB/512 GB SSD/Windows 10 Home) RMNB1002 Thin and Lig...   \n",
       "122  DELL Ryzen 7 Octa Core AMD R7-5800H - (16 GB/512 GB SSD/Windows 11 Home/4 GB Graphics/NVIDIA GeForce R...   \n",
       "142  DELL Vostro Ryzen 3 Dual Core R3-3250U - (8 GB/1 TB HDD/Windows 11 Home) Vostro 3405 Thin and Light La...   \n",
       "172  DELL Inspiron Core i3 11th Gen - (8 GB/1 TB HDD/256 GB SSD/Windows 11 Home) Inspiron 3511,Inspiron 300...   \n",
       "232  MSI Pulse GL66 Core i7 11th Gen - (16 GB/1 TB SSD/Windows 10 Home/6 GB Graphics/NVIDIA GeForce RTX 306...   \n",
       "249             DELL Inspiron Core i3 11th Gen - (8 GB/256 GB SSD/Windows 11 Home) INSPIRON 5410 2 in 1 Laptop   \n",
       "253  DELL Inspiron Ryzen 5 Dual Core 3450U - (8 GB/512 GB SSD/Windows 11 Home) INSPIRON 3515 Thin and Light...   \n",
       "259  DELL Core i5 11th Gen - (8 GB/512 GB SSD/Windows 11 Home/4 GB Graphics/NVIDIA GeForce RTX 3050) G15-55...   \n",
       "349  DELL Vostro Core i5 11th Gen - (8 GB/512 GB SSD/Windows 10/2 GB Graphics) Vostro 3400 Thin and Light L...   \n",
       "355              DELL Vostro Core i3 10th Gen - (8 GB/512 GB SSD/Windows 10) Vostro 3401 Thin and Light Laptop   \n",
       "393             acer Aspire 5 Core i5 11th Gen - (8 GB/1 TB HDD/Windows 10 Home) A515-56 Thin and Light Laptop   \n",
       "438  acer Predator Helios 300 Core i5 7th Gen - (8 GB/1 TB HDD/128 GB SSD/Windows 10 Home/4 GB Graphics/NVI...   \n",
       "443  MSI Pulse GL66 Core i7 11th Gen - (16 GB/512 GB SSD/Windows 10 Home/4 GB Graphics/NVIDIA GeForce RTX 3...   \n",
       "502  acer Nitro 5 Ryzen 5 Hexa Core 4600H - (8 GB/1 TB HDD/256 GB SSD/Windows 10 Home/4 GB Graphics/NVIDIA ...   \n",
       "508  MSI GF63 Thin Core i5 9th Gen - (8 GB/1 TB HDD/Windows 10 Home/4 GB Graphics/NVIDIA GeForce GTX 1650 T...   \n",
       "593  DELL Core i7 11th Gen - (16 GB/512 GB SSD/Windows 11 Home/4 GB Graphics/NVIDIA GeForce RTX 3050 Ti) G1...   \n",
       "622  MSI GP65 Leopard Core i7 10th Gen - (16 GB/1 TB HDD/256 GB SSD/Windows 10 Home/6 GB Graphics/NVIDIA Ge...   \n",
       "628  ALIENWARE Core i9 10th Gen - (32 GB/1 TB SSD/Windows 10 Home/8 GB Graphics/NVIDIA GeForce RTX 2080 wit...   \n",
       "643  ASUS ZenBook Pro 15 Core i7 8th Gen - (16 GB/1 TB SSD/Windows 10 Home/4 GB Graphics) UX580GE-E2014T La...   \n",
       "644  acer Predator Helios 300 Core i5 8th Gen - (8 GB/1 TB HDD/128 GB SSD/Windows 10 Home/4 GB Graphics/NVI...   \n",
       "645  DELL Ryzen 5 Hexa Core AMD R5-5600H - (8 GB/512 GB SSD/Windows 11 Home/4 GB Graphics/NVIDIA GeForce RT...   \n",
       "688  ALIENWARE Core i7 10th Gen - (16 GB/1 TB SSD/Windows 10 Home/6 GB Graphics/NVIDIA GeForce RTX 2060/300...   \n",
       "689  ALIENWARE Core i7 10th Gen - (16 GB/512 GB SSD/Windows 10 Home/6 GB Graphics/NVIDIA GeForce GTX 1660 T...   \n",
       "\n",
       "     Rating     MRP  \\\n",
       "6       4.3   38990   \n",
       "8       4.4   46990   \n",
       "29      4.4   46990   \n",
       "33      4.4   47990   \n",
       "53      4.4   59990   \n",
       "54      4.4   47990   \n",
       "69      4.6   70990   \n",
       "83      4.4   32990   \n",
       "94      4.2   30428   \n",
       "116     4.4   59990   \n",
       "122     5.0   89081   \n",
       "142     3.8   33099   \n",
       "172     4.3   45900   \n",
       "232     4.5  114990   \n",
       "249     4.3   54900   \n",
       "253     4.3   48184   \n",
       "259     4.4   67990   \n",
       "349     3.9   63090   \n",
       "355     4.1   43090   \n",
       "393     4.0   47130   \n",
       "438     4.5  129999   \n",
       "443     4.6  107790   \n",
       "502     4.5   61490   \n",
       "508     4.2   62190   \n",
       "593     4.2  101990   \n",
       "622     4.5   99990   \n",
       "628     4.6  345390   \n",
       "643     4.8  110990   \n",
       "644     4.6   74590   \n",
       "645     4.7   71990   \n",
       "688     4.1  214790   \n",
       "689     4.9  199990   \n",
       "\n",
       "                                                                                                                                                                                                                                                                                                                                                                                                                                                                                                                                                                                                                                                                                                           Feature  \\\n",
       "6                                                                                                                                                                                                                                    Processor: Intel i3-1115G4 (Base- 1.70 GHz & Turbo up to 4.10 GHz) 2 CoresRAM & Storage: 8GB DDR4 & 1TB + 256GB SSDGraphics & Keyboard: Integrated & Standard KeyboardDisplay: 15.6\" FHD WVA AG Narrow BorderPorts: 2x USB 3.2 Gen1 ,1x USB 2.0, HDMI 1.4, SD Card reader, Audio jack, 1 M.2 2230/2280 slot for solid-state drive/Intel OptaneIntel Core i3 Processor (11th Gen)8 GB DDR4 RAMWindows 11 Operating System1 TB HDD|256 GB SSD39.62 cm (15.6 inch) Display1 YEAR   \n",
       "8                                                                                                                                                                                                                                                                                                                           Stylish & Portable Thin and Light Laptop14 inch 2K QHD, IPS LCD Display ( 400nits peak brightness, 100% sRGB, 3:2 aspect ratio, Full Vision Display)Finger Print Sensor for Faster System AccessLight Laptop without Optical Disk DriveIntel Core i3 Processor (11th Gen)8 GB DDR4 RAM64 bit Windows 10 Operating System256 GB SSD35.56 cm (14 inch) DisplayNA1 Year Domestic Warranty   \n",
       "29                                                                                                                                                                                                                                                                                                                          Stylish & Portable Thin and Light Laptop14 inch 2K QHD, IPS LCD Display ( 400nits peak brightness, 100% sRGB, 3:2 aspect ratio, Full Vision Display)Finger Print Sensor for Faster System AccessLight Laptop without Optical Disk DriveIntel Core i3 Processor (11th Gen)8 GB DDR4 RAM64 bit Windows 10 Operating System256 GB SSD35.56 cm (14 inch) DisplayNA1 Year Domestic Warranty   \n",
       "33                                                                                                                                                                                                                                                                                                                                                                                                                           Free upgrade to Windows 11 when availableAMD Ryzen 5 Hexa Core Processor8 GB DDR4 RAM64 bit Windows 11 Operating System512 GB SSD39.62 cm (15.6 inch) DisplayAcer Collection , Acer Product Registration, Acer Care Center, Quick Access1 Year International Travelers Warranty (ITW)   \n",
       "53                                                                                                                                                                                                                                                                                                                                                                           Powered by 11th Gen Intel Evo Core i5 ProcessorMicrosoft Office 2019 Home & Student IncludedStylish Thin and Light Laptop without Optical Disk DriveIntel Core i5 Processor (11th Gen)8 GB DDR4 RAM64 bit Windows 10 Operating System512 GB SSD35.56 cm (14 inch) DisplayMicrosoft Office 2019 Home & Student1 Year Domestic Warranty   \n",
       "54                                                                                                                                                                                                                                                                                                                                                                                                                               Free upgrade to Windows 11 when availableIntel Core i5 Processor (10th Gen)8 GB DDR4 RAM64 bit Windows 10 Operating System512 GB SSD39.62 cm (15.6 inch) DisplayQuick Access, Acer Care Center, Acer Product Registration, Acer Collection1 Year International Travelers Warranty   \n",
       "69   Processor: AMD Ryzen R5-5600H (3.30 GHz up to 4.20 GHz) 16MB L3RAM & Storage: 16GB DDR4 (2 DIMM Slots) & 512GB SSDGraphics: NVIDIA GEFORCE RTX 3050 (4GB GDDR6) TGP Up To 80WDisplay: 15.6\" FHD WVA AG 250 nits 120Hz Narrow Border, Backlit Keyboard OrangeColor: Phantom Grey with specklesPorts: (1) HDMI 2.1, (2) SuperSpeed USB 2.0 Gen 1 Type-A including (1) with PowerShare, (1) SuperSpeed USB 3.2, (1) USB-C Data/Display Port Alt-Mode, Headphone/Mic, (1) RJ45WiFi & BT: Killer Wi-Fi 6 AX1650 (2x2) and BluetoothAMD Ryzen 5 Hexa Core Processor16 GB DDR4 RAM64 bit Windows 11 Operating System512 GB SSD39.62 cm (15.6 inch) DisplayOffice Home and Student 20211 Year Onsite Hardware Service   \n",
       "83                                                                                                                                                                                                                                                                                                                                                                                                                                                                                                                                                   Qualcomm Snapdragon 7c Gen 2 Processor4 GB LPDDR4X RAMWindows 11 Operating System35.56 cm (14 Inch) DisplayOffice Home and Student 20211 Year Onsite Warranty   \n",
       "94                                                                                                                                                                                                                                        Processor: Intel PQC-N5030 (1.10 GHz up to 3.10 GHz)RAM & Storage: 8GB DDR4 & 256GB SSDDisplay: 15.6\" HD AG Narrow BorderSoftware: Win 11 + Office H&S 20212x USB 3.2 Gen1 ,1x USB 2.0, HDMI 1.4, SD Card reader, Audio jack, 1 M.2 2230/2280 slot for solid-state drive/Intel OptaneWiFi & BT: 802.11ac 1x1 WiFi and BluetoothIntel Pentium Silver Processor8 GB DDR4 RAM64 bit Windows 11 Operating System256 GB SSD39.62 cm (15.6 Inch) Display1 Year Onsite Warranty   \n",
       "116                                                                                                                                                                                                                                                                                                                                                                          Powered by 11th Gen Intel Evo Core i5 ProcessorMicrosoft Office 2019 Home & Student IncludedStylish Thin and Light Laptop without Optical Disk DriveIntel Core i5 Processor (11th Gen)8 GB DDR4 RAM64 bit Windows 10 Operating System512 GB SSD35.56 cm (14 inch) DisplayMicrosoft Office 2019 Home & Student1 Year Domestic Warranty   \n",
       "122                                                                                                                                                                                                                                                                                                                                                                                                   NVIDIA RTX 3050 Graphics upto 90W TGP15.6 inch Full HD AG Display (250 nits Brightness, 120Hz, Narrow Border)Alienware Command CenterAMD Ryzen 7 Octa Core Processor16 GB DDR4 RAM64 bit Windows 11 Operating System512 GB SSD39.62 cm (15.6 inch) DisplayOffice Home and Student 20211 Year Premium Support   \n",
       "142                                                                                                                                                                             Processor: AMD Ryzen 3-3250U (2.60 GHz up to 3.50 GHz)RAM & Storage: 8GB DDR4 (2 DIMM Slots) & 1TB HDDSoftware: Win 11 + Office H&S 2021Display: 14.0\" FHD WVA AG Narrow BorderPorts: USB 3.2 Gen 1 (x2), USB2.0 (x1), HDMI 1.4, SD Media Card Reader (SD, SDHC, SDXC), RJ45 - 10/100MbpsWiFi & BT: 802.11ac 1x1 WiFi and BluetoothAMD Ryzen 3 Dual Core Processor8 GB DDR4 RAM64 bit Windows 11 Operating System1 TB HDD88.9 cm (35 cm) DisplayMicrosoft Office Home and Student 20211 Year Onsite Warranty1 Year Onsite Warranty   \n",
       "172                                                                                                                                                                                                           Processor: Intel i3-1115G4 (Base- 1.70 GHz & Turbo up to 4.10 GHz) 2 CoresRAM & Storage: 8GB DDR4 & 1TB + 256GB SSDGraphics & Keyboard: Integrated & Standard KeyboardDisplay: 15.6\" FHD WVA AG Narrow BorderPorts: 2x USB 3.2 Gen1 ,1x USB 2.0, HDMI 1.4, SD Card reader, Audio jack, 1 M.2 2230/2280 slot for solid-state drive/Intel OptaneIntel Core i3 Processor (11th Gen)8 GB DDR4 RAM64 bit Windows 11 Operating System1 TB HDD|256 GB SSD39.62 cm (15.6 inch) Display1 Year Onsite Warranty   \n",
       "232                                                                                                                                                                                                                                                                                                                                                                                                                                              Pre-installed Genuine Windows 10 Home OSIntel Core i7 Processor (11th Gen)16 GB DDR4 RAM64 bit Windows 10 Operating System1 TB SSD39.62 cm (15.6 inches) DisplayCooler Boost 5, Hi-Res Audio, Nahimic 3, Speaker Tuning Engine, MSI Center2 Year On-Site Warranty   \n",
       "249                                                                                                    Processor: Intel i3-1125G4 (2.00 GHz up to 3.70 GHz)RAM & Storage: 8GB DDR4 (2 DIMM Slots) & 256GB SSDSoftware: Win 11 + Office H&S 2021Display: 14.0\" FHD WVA Truelife Touch Narrow Border 60HzPorts: \"1 HDMI out 1.4a, 2 USB 3.2 Gen 1 Type-A, 1 USB 3.2 Gen 2 Type-C with Power Delivery and Video, 1 DC-in port, 1 3.5mm Headphone/Microphone combination jack\"WiFi & BT: Intel Wi-Fi 6 2x2 (Gig+) and Bluetooth 5.1Intel Core i3 Processor (11th Gen)8 GB DDR4 RAM64 bit Windows 11 Operating System256 GB SSD35.56 cm (14 inch) Touchscreen DisplayOffice Home and Student 20211 Year Onsite Warranty   \n",
       "253                                                                                                                                                                                                                            Processor: AMD Ryzen 5-3450U (2.10 GHz up to 3.50 GHz)RAM & Storage: 8GB DDR4 (2 DIMM Slots) & 512GB SSDSoftware: Win 11 + Office H&S 2021Display: 15.6\" FHD WVA AG Narrow BorderPorts: \"2x USB 3.2 Gen1 ,1x USB 2.0, HDMI 1.4b, SD Card reader, Audio jackWiFi & BT: 802.11ac 1x1 WiFi and BluetoothAMD Ryzen 5 Dual Core Processor8 GB DDR4 RAM64 bit Windows 11 Operating System512 GB SSD39.62 cm (15.6 Inch) DisplayMicrosoft Office Home & Student 20211 Year Onsite Warranty   \n",
       "259                                                                                                                                                                                                                                                                                                                                                                                         NVIDIA RTX 3050 Graphics upto 90W TGP15.6 inch Full HD AG Display (250 nits Brightness, 120Hz, Narrow Border)Alienware Command CenterIntel Core i5 Processor (11th Gen)8 GB DDR4 RAM64 bit Windows 11 Operating System512 GB SSD39.62 cm (15.6 inch) DisplayOffice Home and Student 20211 Year Onsite Hardware Service   \n",
       "349                                                        Processor: 11th Generation Intel Core i5-1135G7 Processor (8MB Cache, up to 4.2 GHz),Memory & Storage:8GB DDR4, 2666MHz | 512GB M.2 PCIe NVMe Solid State DriveDisplay:14.0-inch FHD (1920 x 1080) Anti-glare LED Backlight Narrow Border WVA DisplayGraphics: Dedicated NVIDIA MX330 2GB GDDR5Operating System & Software:Windows 10 Home Single Language | Microsoft Office Home and Student 2019I/O ports: 2x USB 3.2 Gen-1, 1xUSB 2.0, 1xHDMI port, 1xEthernet port,1x Headset jack, 1xSD Media Card ReaderIntel Core i5 Processor (11th Gen)8 GB DDR4 RAM64 bit Windows 10 Operating System512 GB SSD88.9 cm (35 cm) Display1 Year Onsite Warranty   \n",
       "355          Processor: 10th Generation Intel Core i3-1005G1 Processor (4MB Cache, up to 3.4 GHz)RAM & Storage:8GB RAM | 512GB M.2 PCIe NVMe Solid State DriveDisplay:14.0-inch FHD (1920 x 1080) Anti-glare LED Backlight Narrow Border WVA DisplayGraphics:Intel UHD Graphics with shared graphics memoryOperating System & Software:Windows 10 Home Single Language | Microsoft Office Home and Student 2019Ports: USB 3.2 Gen 1 (x2), USB2.0 (x1), HDMI 1.4,SD Media Card Reader (SD, SDHC, SDXC), RJ45 - 10/100/1000Mbps GbEIntel Core i3 Processor (10th Gen)8 GB DDR4 RAM64 bit Windows 10 Operating System512 GB SSD35.56 cm (14 Inch) DisplayMicrosoft Office Home and Student 20191 Year Onsite Warranty   \n",
       "393                                                                                                                                                                                                                                                                                                                                                                                                                                           Free upgrade to Windows 11 when availableIntel Core i5 Processor (11th Gen)8 GB DDR4 RAM64 bit Windows 10 Operating System1 TB HDD39.62 cm (15.6 inch) DisplayAcer Care Center, Quick Access, Acer Product Registration1 Year International Travelers Warranty (ITW)   \n",
       "438                                                                                                                              Pre-installed Genuine Windows 10 Operating System (Includes Built-in Security, Free Automated Updates, Latest Features)Dual Fan Cooling with Metal AeroBlade 3D128 GB SSD for Reduced Boot Up Time and in Game LoadingUpgradable SSD Upto 512 GB and RAM Upto 32 GBNVIDIA Geforce GTX 1050Ti for Desktop Level PerformanceIntel Core i5 Processor (7th Gen)8 GB DDR4 RAM64 bit Windows 10 Operating System1 TB HDD|128 GB SSD39.62 cm (15.6 inch) DisplayAcer Care Center, Acer Collection, Acer Configuration Manager, Quick Access1 Year International Travelers Warranty (ITW)   \n",
       "443                                                                                                                                                                                                                                                                                                                                                                                                                                               Pre-installed Genuine Windows 10 Home OSIntel Core i7 Processor (11th Gen)16 GB DDR4 RAM64 bit Windows 10 Operating System512 GB SSD39.62 cm (15.6 inches) DisplayCooler Boost 5, Hi-Res Audio, Nahimic 3, Speaker Tuning Engine, MSI Center2 Year Warranty Term   \n",
       "502                                                                                                                                                                                                                                                                                                                                                                                                         Free upgrade to Windows 11 when availableAMD Ryzen 5 Hexa Core Processor8 GB DDR4 RAM64 bit Windows 10 Operating System1 TB HDD|256 GB SSD39.62 cm (15.6 inch) DisplayAcer Care Center, Acer Product Registration, Acer Configuration Manager, NitroSense1 Year International Travelers Warranty (ITW)   \n",
       "508                                                                                                                                                                                                                                                                                                                                                                                                                                  15.6 inches Full HD IPS Thin Bezel Display (60Hz, 45% NTSC Color Gamut)Intel Core i5 Processor (9th Gen)8 GB DDR4 RAM64 bit Windows 10 Operating System1 TB HDD39.62 cm (15.6 inch) DisplayCooler Boost, Audio Boost, Dragon Center, Nahimic 32 Year Warranty Term for Gaming   \n",
       "593                                                   Processor: Intel i7-11800H- (2.30 GHz up to 4.60 GHz) 16MB L3RAM & Storage: 16GB DDR4 (2 DIMM Slots) & 512GB SSDGraphics: NVIDIA� GEFORCE� RTX 3050 Ti (4GB GDDR6)Display: 15.6\" FHD WVA AG 250 nits 120Hz Narrow Border, Backlit Keyboard OrangeColor: Dark Shadow GreyPorts: 1. HiSpeed USB 2.0 | 2. HiSpeed USB 2.0 with PowerShare | 3. USB 3.2 Gen 1 Type-C port with DisplayPort with alt mode | 4. SuperSpeed USB 3.2 | 5. HDMI | 6. Power in | 7. RJ45 | 8. Headphones/micIntel Core i7 Processor (11th Gen)16 GB DDR4 RAM64 bit Windows 11 Operating System512 GB SSD39.62 cm (15.6 inch) DisplayOffice Home and Student 20211 Year Premium Support   \n",
       "622                                                                                                                                                                                                                                                                                                                        15.6 inches Full HD IPS Thin Bezel Display (144Hz, 45% NTSC Color Gamut)Intel Core i7 Processor (10th Gen)16 GB DDR4 RAM64 bit Windows 10 Operating System1 TB HDD|256 GB SSD39.62 cm (15.6 inch) DisplaySHIFT, SteelSeries Engine 3, Matrix Display (Extend), Dragon Center, GamingMode, VR Ready, Cooler Boost 5, Nahimic 3, Nahimic VR, Giant Speaker2 Year Warranty Term for Gaming   \n",
       "628                                                                                         NVIDIA GeForce RTX 2080 with Max-Q15.6 inch Full HD LED Backlit Anti-glare IPS Display, 300 Hz, 300 NitsAlienware Cryo-tech thermal technology to keep the system cool and running at highest performanceTobii-eye tracking to track head pose, presence, fine gaze and eye positionIn-built Alienware Command center software with enhanced control over system settingsIntel Core i9 Processor (10th Gen)32 GB DDR4 RAM64 bit Windows 10 Operating System1 TB SSD39.62 cm (15.6 inch) DisplayMicrosoft Office Home and Student 20191 Year Limited Hardware Warranty, In Home Service After Remote Diagnosis - Retail   \n",
       "643                                                                                                                                                                                                                                                                                                                                                                                                                                                                                                          First Ever ScreenpadNVIDIA GeForce GTX 1050 TiIntel Core i7 Processor (8th Gen)16 GB DDR4 RAM64 bit Windows 10 Operating System1 TB SSD39.62 cm (15.6 inch) Touchscreen Display1 Year Onsite Warranty   \n",
       "644                                                                                                                                              NVIDIA Geforce GTX 1050 Ti for Desktop Level PerformanceOptimized Dolby Audio Premium Sound Enhancement128 GB SSD Capacity for Reduced Boot Up Time and in Game LoadingDual Fan Cooling with Metal AeroBlade for Interuption Free GamingFineTip Backlit Keyboard with Independent Standard Numeric KeypadIntel Core i5 Processor (8th Gen)8 GB DDR4 RAM64 bit Windows 10 Operating System1 TB HDD|128 GB SSD39.62 cm (15.6 inch) DisplayAcer Care Center, Acer Portal, Acer Quick Access, Acer Configuration Manager1 Year International Travelers Warranty (ITW)   \n",
       "645                                                                                                                                                                                                                                                                                                                                                                                            NVIDIA RTX 3050 Graphics upto 90W TGP15.6 inch Full HD AG Display (250 nits Brightness, 120Hz, Narrow Border)Alienware Command CenterAMD Ryzen 5 Hexa Core Processor8 GB DDR4 RAM64 bit Windows 11 Operating System512 GB SSD39.62 cm (15.6 inch) DisplayOffice Home and Student 20211 Year Onsite Hardware Service   \n",
       "688                                                                                                                                                       NVIDIA GeForce RTX 206015.6 inch Full HD LED Backlit Anti-glare IPS Display, 300 Hz, 300 NitsAlienware Cryo-tech thermal technology to keep the system cool and running at highest performanceTobii-eye tracking to track head pose, presence, fine gaze and eye positionIn-built Alienware Command center software with enhanced control over system settingsIntel Core i7 Processor (10th Gen)16 GB DDR4 RAM64 bit Windows 10 Operating System1 TB SSD39.62 cm (15.6 inch) DisplayMicrosoft Office Home and Student 20191 Year Complete Cover Warranty   \n",
       "689                                                                                               NVIDIA GeForce GTX 1660 Ti15.6 inch Full HD LED Backlit Anti-glare IPS Display, 300 Hz, 300 NitsAlienware Cryo-tech thermal technology to keep the system cool and running at highest performanceTobii-eye tracking to track head pose, presence, fine gaze and eye positionIn-built Alienware Command center software with enhanced control over system settingsIntel Core i7 Processor (10th Gen)16 GB DDR4 RAM64 bit Windows 10 Operating System512 GB SSD39.62 cm (15.6 inch) DisplayMicrosoft Office Home and Student 20191 Year Limited Hardware Warranty, In Home Service After Remote Diagnosis - Retail   \n",
       "\n",
       "         Brand Processor Type  \n",
       "6         DELL                 \n",
       "8       realme                 \n",
       "29      realme                 \n",
       "33        acer                 \n",
       "53      realme                 \n",
       "54        acer                 \n",
       "69        DELL                 \n",
       "83     SAMSUNG                 \n",
       "94        DELL                 \n",
       "116     realme                 \n",
       "122       DELL                 \n",
       "142       DELL                 \n",
       "172       DELL                 \n",
       "232        MSI                 \n",
       "249       DELL                 \n",
       "253       DELL                 \n",
       "259       DELL                 \n",
       "349       DELL                 \n",
       "355       DELL                 \n",
       "393       acer                 \n",
       "438       acer                 \n",
       "443        MSI                 \n",
       "502       acer                 \n",
       "508        MSI                 \n",
       "593       DELL                 \n",
       "622        MSI                 \n",
       "628  ALIENWARE                 \n",
       "643       ASUS                 \n",
       "644       acer                 \n",
       "645       DELL                 \n",
       "688  ALIENWARE                 \n",
       "689  ALIENWARE                 "
      ]
     },
     "execution_count": 16,
     "metadata": {},
     "output_type": "execute_result"
    }
   ],
   "source": [
    "df[df['Processor Type']=='']"
   ]
  },
  {
   "cell_type": "code",
   "execution_count": 17,
   "id": "9ac63fc1",
   "metadata": {},
   "outputs": [],
   "source": [
    "# Filling Null Values using given data \n",
    "df.iloc[6,5]='Intel i3-1115G4'\n",
    "df.iloc[8,5]='Intel Core i3'\n",
    "df.iloc[29,5]='Intel Core i3'\n",
    "df.iloc[33,5]='AMD Ryzen 5 Hexa Core'\n",
    "df.iloc[53,5]='Intel Evo Core i5'\n",
    "df.iloc[54,5]='Intel Core i5'\n",
    "df.iloc[69,5]='AMD Ryzen R5-5600H'\n",
    "df.iloc[83,5]='Qualcomm Snapdragon 7c Gen 2'\n",
    "df.iloc[94,5]='Intel PQC-N5030'\n",
    "df.iloc[116,5]='Gen Intel Evo Core i5'\n",
    "df.iloc[122,5]='AMD Ryzen 7 Octa Core'\n",
    "df.iloc[142,5]='AMD Ryzen 3 Dual Core'\n",
    "df.iloc[172,5]='Intel i3-1115G4'\n",
    "df.iloc[232,5]='Intel Core i7'\n",
    "df.iloc[249,5]='Intel i3-1125G4'\n",
    "df.iloc[253,5]='AMD Ryzen 5-3450U'\n",
    "df.iloc[259,5]='Intel Core i5'"
   ]
  },
  {
   "cell_type": "code",
   "execution_count": 18,
   "id": "ca065a7b",
   "metadata": {},
   "outputs": [],
   "source": [
    "df.iloc[349,5]='Intel Core i5-1135G7'\n",
    "df.iloc[355,5]='Intel Core i3-1005G1'\n",
    "df.iloc[393,5]='Intel Core i5'\n",
    "df.iloc[438,5]='Intel Core i5'\n",
    "df.iloc[443,5]='Intel Core i7'\n",
    "df.iloc[502,5]='AMD Ryzen 5 Hexa Core'\n",
    "df.iloc[508,5]='Intel Core i5 Pro'\n",
    "df.iloc[593,5]='Intel i7-11800H'\n",
    "df.iloc[622,5]='Intel Core i7'\n",
    "df.iloc[628,5]='Intel Core i9'\n",
    "df.iloc[643,5]='Intel Core i7'\n",
    "df.iloc[644,5]='Intel Core i5'\n",
    "df.iloc[645,5]='AMD Ryzen 5 Hexa Core'\n",
    "df.iloc[688,5]='Intel Core i7'\n",
    "df.iloc[689,5]='Intel Core i7'"
   ]
  },
  {
   "cell_type": "code",
   "execution_count": 19,
   "id": "939a40c7",
   "metadata": {},
   "outputs": [
    {
     "data": {
      "text/plain": [
       "0"
      ]
     },
     "execution_count": 19,
     "metadata": {},
     "output_type": "execute_result"
    }
   ],
   "source": [
    "len(df[df['Processor Type']==''])"
   ]
  },
  {
   "cell_type": "code",
   "execution_count": 20,
   "id": "a40b6960",
   "metadata": {},
   "outputs": [
    {
     "data": {
      "text/plain": [
       "array(['Intel', 'AMD', 'Apple', 'Qualcomm', 'Gen'], dtype=object)"
      ]
     },
     "execution_count": 20,
     "metadata": {},
     "output_type": "execute_result"
    }
   ],
   "source": [
    "df[['Processor', 'x', 'y', 'z', 'a']] = df['Processor Type'].str.split(\" \", expand=True)\n",
    "df.drop(['Processor Type','x','y','z','a'], axis=1, inplace=True)\n",
    "df['Processor'].unique()"
   ]
  },
  {
   "cell_type": "code",
   "execution_count": 21,
   "id": "ac20aa3e",
   "metadata": {},
   "outputs": [],
   "source": [
    "#Operating Systems feature\n",
    "os = r'[\\d]+[\\s]bit[\\s\\w]+Operating System|[\\(Windows)\\d\\s]+Operating System|[\\(Chrome|Mac OS)]+Operating System'\n",
    "df['Operating System']=df['Feature'].apply(lambda x : re.findall(os, x))\n",
    "df['Operating System'] = df['Operating System'].str.join('').str.replace(' Operating System', '')"
   ]
  },
  {
   "cell_type": "code",
   "execution_count": 22,
   "id": "42157961",
   "metadata": {},
   "outputs": [
    {
     "data": {
      "text/plain": [
       "0      64 bit Windows 11\n",
       "1      64 bit Windows 11\n",
       "2      64 bit Windows 11\n",
       "3      64 bit Windows 10\n",
       "4             Windows 11\n",
       "             ...        \n",
       "715              MChrome\n",
       "716    64 bit Windows 11\n",
       "717    64 bit Windows 11\n",
       "718    64 bit Windows 11\n",
       "719    64 bit Windows 10\n",
       "Name: Operating System, Length: 720, dtype: object"
      ]
     },
     "execution_count": 22,
     "metadata": {},
     "output_type": "execute_result"
    }
   ],
   "source": [
    "df['Operating System']"
   ]
  },
  {
   "cell_type": "code",
   "execution_count": 23,
   "id": "e66a6417",
   "metadata": {},
   "outputs": [
    {
     "name": "stdout",
     "output_type": "stream",
     "text": [
      "0\n"
     ]
    }
   ],
   "source": [
    "#Missing values\n",
    "n=len(df[df['Operating System']==''])\n",
    "print(n)"
   ]
  },
  {
   "cell_type": "code",
   "execution_count": 24,
   "id": "4da57af8",
   "metadata": {},
   "outputs": [
    {
     "data": {
      "text/plain": [
       "array(['64 bit Windows 11', '64 bit Windows 10', 'Windows 11', 'MMac OS',\n",
       "       'OS', 'Windows 10', 'MChrome', '32 bit Windows 11',\n",
       "       '5Operating System64 bit Windows 10', '64 bit DOS',\n",
       "       ' Windows 1064 bit Windows 10', '64 bit Chrome'], dtype=object)"
      ]
     },
     "execution_count": 24,
     "metadata": {},
     "output_type": "execute_result"
    }
   ],
   "source": [
    "df['Operating System'].unique()"
   ]
  },
  {
   "cell_type": "code",
   "execution_count": 25,
   "id": "5b99cc79",
   "metadata": {},
   "outputs": [],
   "source": [
    "df['Operating System'].replace({'MChrome':'Chrome','MMac OS':'Mac', 'OS':'Mac',\n",
    "                                ' Windows 1064 bit Windows 10':'Windows 10',\n",
    "                               '5Operating System64 bit Windows 10':'Windows 10',\n",
    "                               '64 bit Chrome':'Chrome'}, inplace=True)"
   ]
  },
  {
   "cell_type": "code",
   "execution_count": 26,
   "id": "5f1750f4",
   "metadata": {},
   "outputs": [],
   "source": [
    "df['Operating System']=df['Operating System'].apply(lambda x: x.replace('64 bit ', ''))\n",
    "df['Operating System']=df['Operating System'].apply(lambda x: x.replace('32 bit ',''))\n",
    "df['Operating System']=df['Operating System'].apply(lambda x: x.replace('64 bit ',''))"
   ]
  },
  {
   "cell_type": "code",
   "execution_count": 27,
   "id": "62452f84",
   "metadata": {},
   "outputs": [
    {
     "data": {
      "text/plain": [
       "array(['Windows 11', 'Windows 10', 'Mac', 'Chrome', 'DOS'], dtype=object)"
      ]
     },
     "execution_count": 27,
     "metadata": {},
     "output_type": "execute_result"
    }
   ],
   "source": [
    "df['Operating System'].unique()"
   ]
  },
  {
   "cell_type": "code",
   "execution_count": 28,
   "id": "196b1597",
   "metadata": {},
   "outputs": [],
   "source": [
    "#Storage feature\n",
    "st=r'[\\d]+\\s(?:GB|TB)\\s(?:HDD|SSD)'\n",
    "df['Storage'] = df['Feature'].apply(lambda x: ''.join(re.findall(st, x)))"
   ]
  },
  {
   "cell_type": "code",
   "execution_count": 29,
   "id": "fd377840",
   "metadata": {
    "scrolled": true
   },
   "outputs": [
    {
     "data": {
      "text/plain": [
       "0              256 GB SSD\n",
       "1              512 GB SSD\n",
       "2              512 GB SSD\n",
       "3              512 GB SSD\n",
       "4              512 GB SSD\n",
       "              ...        \n",
       "715                      \n",
       "716            512 GB SSD\n",
       "717              1 TB SSD\n",
       "718            512 GB SSD\n",
       "719    1 TB HDD256 GB SSD\n",
       "Name: Storage, Length: 720, dtype: object"
      ]
     },
     "execution_count": 29,
     "metadata": {},
     "output_type": "execute_result"
    }
   ],
   "source": [
    "df['Storage']"
   ]
  },
  {
   "cell_type": "code",
   "execution_count": 30,
   "id": "aad8bc4a",
   "metadata": {},
   "outputs": [
    {
     "data": {
      "text/plain": [
       "array(['256 GB SSD', '512 GB SSD', '1 TB HDD256 GB SSD', '1 TB SSD',\n",
       "       '256 GB HDD256 GB SSD', '', '1 TB HDD', '128 GB SSD',\n",
       "       '1 TB HDD512 GB SSD', '128 GB SSD1 TB HDD128 GB SSD', '2 TB SSD'],\n",
       "      dtype=object)"
      ]
     },
     "execution_count": 30,
     "metadata": {},
     "output_type": "execute_result"
    }
   ],
   "source": [
    "df['Storage'].unique()"
   ]
  },
  {
   "cell_type": "code",
   "execution_count": 31,
   "id": "7a11079d",
   "metadata": {},
   "outputs": [
    {
     "name": "stdout",
     "output_type": "stream",
     "text": [
      "10\n"
     ]
    }
   ],
   "source": [
    "n=len(df[df['Storage']==''])\n",
    "print(n)"
   ]
  },
  {
   "cell_type": "code",
   "execution_count": 32,
   "id": "f233b865",
   "metadata": {
    "scrolled": true
   },
   "outputs": [
    {
     "data": {
      "text/html": [
       "<div>\n",
       "<style scoped>\n",
       "    .dataframe tbody tr th:only-of-type {\n",
       "        vertical-align: middle;\n",
       "    }\n",
       "\n",
       "    .dataframe tbody tr th {\n",
       "        vertical-align: top;\n",
       "    }\n",
       "\n",
       "    .dataframe thead th {\n",
       "        text-align: right;\n",
       "    }\n",
       "</style>\n",
       "<table border=\"1\" class=\"dataframe\">\n",
       "  <thead>\n",
       "    <tr style=\"text-align: right;\">\n",
       "      <th></th>\n",
       "      <th>Product</th>\n",
       "      <th>Rating</th>\n",
       "      <th>MRP</th>\n",
       "      <th>Feature</th>\n",
       "      <th>Brand</th>\n",
       "      <th>Processor</th>\n",
       "      <th>Operating System</th>\n",
       "      <th>Storage</th>\n",
       "    </tr>\n",
       "  </thead>\n",
       "  <tbody>\n",
       "    <tr>\n",
       "      <th>83</th>\n",
       "      <td>SAMSUNG Galaxy Book Go Snapdragon 7c Gen 2 - (4 GB/128 GB EMMC Storage/Windows 11 Home) NP340XLA-KA1IN...</td>\n",
       "      <td>4.4</td>\n",
       "      <td>32990</td>\n",
       "      <td>Qualcomm Snapdragon 7c Gen 2 Processor4 GB LPDDR4X RAMWindows 11 Operating System35.56 cm (14 Inch) DisplayOffice Home and Student 20211 Year Onsite Warranty</td>\n",
       "      <td>SAMSUNG</td>\n",
       "      <td>Qualcomm</td>\n",
       "      <td>Windows 11</td>\n",
       "      <td></td>\n",
       "    </tr>\n",
       "    <tr>\n",
       "      <th>89</th>\n",
       "      <td>Lenovo IdeaPad 3 CB Celeron Dual Core - (4 GB/64 GB EMMC Storage/Chrome OS) 14IGL05 Thin and Light Lap...</td>\n",
       "      <td>NaN</td>\n",
       "      <td>19490</td>\n",
       "      <td>Intel Celeron Dual Core Processor4 GB DDR4 RAMChrome Operating System35.56 cm (14 Inch) Display1 Year Carry-in Warranty</td>\n",
       "      <td>Lenovo</td>\n",
       "      <td>Intel</td>\n",
       "      <td>Chrome</td>\n",
       "      <td></td>\n",
       "    </tr>\n",
       "    <tr>\n",
       "      <th>96</th>\n",
       "      <td>Lenovo IdeaPad 3 CB Celeron Dual Core - (4 GB/64 GB EMMC Storage/Chrome OS) 14IGL05 Thin and Light Lap...</td>\n",
       "      <td>NaN</td>\n",
       "      <td>19490</td>\n",
       "      <td>Intel Celeron Dual Core Processor4 GB DDR4 RAMChrome Operating System35.56 cm (14 Inch) Display1 Year Carry-in Warranty</td>\n",
       "      <td>Lenovo</td>\n",
       "      <td>Intel</td>\n",
       "      <td>Chrome</td>\n",
       "      <td></td>\n",
       "    </tr>\n",
       "    <tr>\n",
       "      <th>345</th>\n",
       "      <td>ASUS Chromebook Flip Touch Celeron Dual Core - (4 GB/32 GB EMMC Storage/Chrome OS) C214MA-BU0704 Chrom...</td>\n",
       "      <td>4.0</td>\n",
       "      <td>14990</td>\n",
       "      <td>Intel Celeron Dual Core Processor4 GB LPDDR4 RAMChrome Operating System29.46 cm (11.6 inch) Touchscreen Display1 Year Onsite Warranty</td>\n",
       "      <td>ASUS</td>\n",
       "      <td>Intel</td>\n",
       "      <td>Chrome</td>\n",
       "      <td></td>\n",
       "    </tr>\n",
       "    <tr>\n",
       "      <th>509</th>\n",
       "      <td>ASUS Chromebook Flip Touch Celeron Dual Core - (4 GB/64 GB EMMC Storage/Chrome OS) C523NA-A20303 Chrom...</td>\n",
       "      <td>4.0</td>\n",
       "      <td>24390</td>\n",
       "      <td>Intel Celeron Dual Core Processor4 GB LPDDR4 RAMChrome Operating System39.62 cm (15.6 inch) Touchscreen Display1 Year Onsite Warranty</td>\n",
       "      <td>ASUS</td>\n",
       "      <td>Intel</td>\n",
       "      <td>Chrome</td>\n",
       "      <td></td>\n",
       "    </tr>\n",
       "    <tr>\n",
       "      <th>544</th>\n",
       "      <td>ASUS EeeBook 12 Celeron Dual Core - (4 GB/64 GB EMMC Storage/Windows 11 Home) E210MA-GJ011W Thin and L...</td>\n",
       "      <td>4.5</td>\n",
       "      <td>21990</td>\n",
       "      <td>Intel Celeron Dual Core Processor4 GB DDR4 RAM64 bit Windows 11 Operating System29.46 cm (11.6 Inch) Display1 Year Onsite warranty</td>\n",
       "      <td>ASUS</td>\n",
       "      <td>Intel</td>\n",
       "      <td>Windows 11</td>\n",
       "      <td></td>\n",
       "    </tr>\n",
       "    <tr>\n",
       "      <th>559</th>\n",
       "      <td>ASUS EeeBook 12 Celeron Dual Core - (4 GB/64 GB EMMC Storage/Windows 11 Home) E210MA-GJ012W Thin and L...</td>\n",
       "      <td>4.0</td>\n",
       "      <td>19990</td>\n",
       "      <td>Intel Celeron Dual Core Processor4 GB DDR4 RAM64 bit Windows 11 Operating System29.46 cm (11.6 Inch) Display1 Year Onsite warranty</td>\n",
       "      <td>ASUS</td>\n",
       "      <td>Intel</td>\n",
       "      <td>Windows 11</td>\n",
       "      <td></td>\n",
       "    </tr>\n",
       "    <tr>\n",
       "      <th>632</th>\n",
       "      <td>Lenovo IdeaPad Flex 3 Chromebook Celeron Dual Core - (4 GB/128 GB EMMC Storage/Chrome OS) CB 11IJL6 Ch...</td>\n",
       "      <td>3.6</td>\n",
       "      <td>28490</td>\n",
       "      <td>Intel Celeron Dual Core Processor4 GB LPDDR4X RAM64 bit Chrome Operating System29.46 cm (11.6 inch) Touchscreen Display1 Year Onsite�Warranty</td>\n",
       "      <td>Lenovo</td>\n",
       "      <td>Intel</td>\n",
       "      <td>Chrome</td>\n",
       "      <td></td>\n",
       "    </tr>\n",
       "    <tr>\n",
       "      <th>695</th>\n",
       "      <td>ASUS Chromebook Celeron Dual Core - (4 GB/64 GB EMMC Storage/Chrome OS) C423NA-EC0521 Chromebook</td>\n",
       "      <td>4.1</td>\n",
       "      <td>25990</td>\n",
       "      <td>Intel Celeron Dual Core Processor4 GB LPDDR4 RAMChrome Operating System35.56 cm (14 inch) Touchscreen Display1 Year Onsite Warranty</td>\n",
       "      <td>ASUS</td>\n",
       "      <td>Intel</td>\n",
       "      <td>Chrome</td>\n",
       "      <td></td>\n",
       "    </tr>\n",
       "    <tr>\n",
       "      <th>715</th>\n",
       "      <td>ASUS Chromebook Flip Touch Celeron Dual Core - (4 GB/64 GB EMMC Storage/Chrome OS) C214MA-BU0452 Chrom...</td>\n",
       "      <td>4.0</td>\n",
       "      <td>23490</td>\n",
       "      <td>Intel Celeron Dual Core Processor4 GB LPDDR4 RAMChrome Operating System29.46 cm (11.6 inch) Touchscreen Display1 Year Onsite Warranty</td>\n",
       "      <td>ASUS</td>\n",
       "      <td>Intel</td>\n",
       "      <td>Chrome</td>\n",
       "      <td></td>\n",
       "    </tr>\n",
       "  </tbody>\n",
       "</table>\n",
       "</div>"
      ],
      "text/plain": [
       "                                                                                                       Product  \\\n",
       "83   SAMSUNG Galaxy Book Go Snapdragon 7c Gen 2 - (4 GB/128 GB EMMC Storage/Windows 11 Home) NP340XLA-KA1IN...   \n",
       "89   Lenovo IdeaPad 3 CB Celeron Dual Core - (4 GB/64 GB EMMC Storage/Chrome OS) 14IGL05 Thin and Light Lap...   \n",
       "96   Lenovo IdeaPad 3 CB Celeron Dual Core - (4 GB/64 GB EMMC Storage/Chrome OS) 14IGL05 Thin and Light Lap...   \n",
       "345  ASUS Chromebook Flip Touch Celeron Dual Core - (4 GB/32 GB EMMC Storage/Chrome OS) C214MA-BU0704 Chrom...   \n",
       "509  ASUS Chromebook Flip Touch Celeron Dual Core - (4 GB/64 GB EMMC Storage/Chrome OS) C523NA-A20303 Chrom...   \n",
       "544  ASUS EeeBook 12 Celeron Dual Core - (4 GB/64 GB EMMC Storage/Windows 11 Home) E210MA-GJ011W Thin and L...   \n",
       "559  ASUS EeeBook 12 Celeron Dual Core - (4 GB/64 GB EMMC Storage/Windows 11 Home) E210MA-GJ012W Thin and L...   \n",
       "632  Lenovo IdeaPad Flex 3 Chromebook Celeron Dual Core - (4 GB/128 GB EMMC Storage/Chrome OS) CB 11IJL6 Ch...   \n",
       "695           ASUS Chromebook Celeron Dual Core - (4 GB/64 GB EMMC Storage/Chrome OS) C423NA-EC0521 Chromebook   \n",
       "715  ASUS Chromebook Flip Touch Celeron Dual Core - (4 GB/64 GB EMMC Storage/Chrome OS) C214MA-BU0452 Chrom...   \n",
       "\n",
       "     Rating    MRP  \\\n",
       "83      4.4  32990   \n",
       "89      NaN  19490   \n",
       "96      NaN  19490   \n",
       "345     4.0  14990   \n",
       "509     4.0  24390   \n",
       "544     4.5  21990   \n",
       "559     4.0  19990   \n",
       "632     3.6  28490   \n",
       "695     4.1  25990   \n",
       "715     4.0  23490   \n",
       "\n",
       "                                                                                                                                                           Feature  \\\n",
       "83   Qualcomm Snapdragon 7c Gen 2 Processor4 GB LPDDR4X RAMWindows 11 Operating System35.56 cm (14 Inch) DisplayOffice Home and Student 20211 Year Onsite Warranty   \n",
       "89                                         Intel Celeron Dual Core Processor4 GB DDR4 RAMChrome Operating System35.56 cm (14 Inch) Display1 Year Carry-in Warranty   \n",
       "96                                         Intel Celeron Dual Core Processor4 GB DDR4 RAMChrome Operating System35.56 cm (14 Inch) Display1 Year Carry-in Warranty   \n",
       "345                          Intel Celeron Dual Core Processor4 GB LPDDR4 RAMChrome Operating System29.46 cm (11.6 inch) Touchscreen Display1 Year Onsite Warranty   \n",
       "509                          Intel Celeron Dual Core Processor4 GB LPDDR4 RAMChrome Operating System39.62 cm (15.6 inch) Touchscreen Display1 Year Onsite Warranty   \n",
       "544                             Intel Celeron Dual Core Processor4 GB DDR4 RAM64 bit Windows 11 Operating System29.46 cm (11.6 Inch) Display1 Year Onsite warranty   \n",
       "559                             Intel Celeron Dual Core Processor4 GB DDR4 RAM64 bit Windows 11 Operating System29.46 cm (11.6 Inch) Display1 Year Onsite warranty   \n",
       "632                  Intel Celeron Dual Core Processor4 GB LPDDR4X RAM64 bit Chrome Operating System29.46 cm (11.6 inch) Touchscreen Display1 Year Onsite�Warranty   \n",
       "695                            Intel Celeron Dual Core Processor4 GB LPDDR4 RAMChrome Operating System35.56 cm (14 inch) Touchscreen Display1 Year Onsite Warranty   \n",
       "715                          Intel Celeron Dual Core Processor4 GB LPDDR4 RAMChrome Operating System29.46 cm (11.6 inch) Touchscreen Display1 Year Onsite Warranty   \n",
       "\n",
       "       Brand Processor Operating System Storage  \n",
       "83   SAMSUNG  Qualcomm       Windows 11          \n",
       "89    Lenovo     Intel           Chrome          \n",
       "96    Lenovo     Intel           Chrome          \n",
       "345     ASUS     Intel           Chrome          \n",
       "509     ASUS     Intel           Chrome          \n",
       "544     ASUS     Intel       Windows 11          \n",
       "559     ASUS     Intel       Windows 11          \n",
       "632   Lenovo     Intel           Chrome          \n",
       "695     ASUS     Intel           Chrome          \n",
       "715     ASUS     Intel           Chrome          "
      ]
     },
     "execution_count": 32,
     "metadata": {},
     "output_type": "execute_result"
    }
   ],
   "source": [
    "df[df['Storage']=='']"
   ]
  },
  {
   "cell_type": "code",
   "execution_count": 33,
   "id": "1d5593eb",
   "metadata": {},
   "outputs": [],
   "source": [
    "df.iloc[83,7]='128GB EMMC'\n",
    "df.iloc[89,7]='64GB EMMC'\n",
    "df.iloc[96,7]='64GB EMMC'\n",
    "df.iloc[345,7]='32GB EMMC'\n",
    "df.iloc[509,7]='64GB EMMC'\n",
    "df.iloc[544,7]='64GB EMMC'\n",
    "df.iloc[559,7]='64GB EMMC'\n",
    "df.iloc[632,7]='128GB EMMC'\n",
    "df.iloc[695,7]='64GB EMMC'\n",
    "df.iloc[715,7]='64GB EMMC'"
   ]
  },
  {
   "cell_type": "code",
   "execution_count": 34,
   "id": "6b41a954",
   "metadata": {},
   "outputs": [],
   "source": [
    "df['Storage Type'] = df['Product'].apply(lambda x:'HDD' if 'HDD' in x else 'SSD' )"
   ]
  },
  {
   "cell_type": "code",
   "execution_count": 35,
   "id": "77c16c85",
   "metadata": {},
   "outputs": [
    {
     "data": {
      "text/plain": [
       "array(['SSD', 'HDD'], dtype=object)"
      ]
     },
     "execution_count": 35,
     "metadata": {},
     "output_type": "execute_result"
    }
   ],
   "source": [
    "df['Storage Type'].unique()"
   ]
  },
  {
   "cell_type": "code",
   "execution_count": 36,
   "id": "ebb555b5",
   "metadata": {},
   "outputs": [],
   "source": [
    "df['Storage'].replace({'256 GB SSD':'256GB SSD'}, inplace=True)\n",
    "df['Storage'].replace({'512 GB SSD':'512GB SSD'}, inplace=True)\n",
    "df['Storage'].replace({'1 TB SSD':'1TB SSD'}, inplace=True)\n",
    "df['Storage'].replace({'1 TB HDD':'1TB HDD'}, inplace=True)\n",
    "df['Storage'].replace({'128 GB SSD':'128GB SSD'}, inplace=True)\n",
    "df['Storage'].replace({'2 TB SSD':'2TB SSD'}, inplace=True)\n",
    "df['Storage'].replace({'1 TB HDD256 GB SSD':'1TB HDD'}, inplace=True)\n",
    "df['Storage'].replace({'256 GB HDD256 GB SSD':'256GB HDD'}, inplace=True)\n",
    "df['Storage'].replace({'1 TB HDD512 GB SSD':'1TB HDD'}, inplace=True)\n",
    "df['Storage'].replace({'128 GB SSD1 TB HDD128 GB SSD':'1TB HDD'}, inplace=True)"
   ]
  },
  {
   "cell_type": "code",
   "execution_count": 37,
   "id": "f8770777",
   "metadata": {},
   "outputs": [
    {
     "data": {
      "text/plain": [
       "array(['256GB SSD', '512GB SSD', '1TB HDD', '1TB SSD', '256GB HDD',\n",
       "       '128GB EMMC', '64GB EMMC', '128GB SSD', '32GB EMMC', '2TB SSD'],\n",
       "      dtype=object)"
      ]
     },
     "execution_count": 37,
     "metadata": {},
     "output_type": "execute_result"
    }
   ],
   "source": [
    "df['Storage'].unique()"
   ]
  },
  {
   "cell_type": "code",
   "execution_count": 38,
   "id": "c85aaae5",
   "metadata": {},
   "outputs": [],
   "source": [
    "#Ram feature\n",
    "ram = r'\\d+\\sGB[\\s\\w]+RAM'\n",
    "df['RAM'] = df['Feature'].str.findall(ram).str.join('')"
   ]
  },
  {
   "cell_type": "code",
   "execution_count": 39,
   "id": "109e9431",
   "metadata": {},
   "outputs": [
    {
     "data": {
      "text/plain": [
       "0         8 GB DDR4 RAM\n",
       "1         8 GB DDR4 RAM\n",
       "2         8 GB DDR4 RAM\n",
       "3         8 GB DDR4 RAM\n",
       "4         8 GB DDR4 RAM\n",
       "             ...       \n",
       "715     4 GB LPDDR4 RAM\n",
       "716       8 GB DDR4 RAM\n",
       "717      16 GB DDR5 RAM\n",
       "718    16 GB LPDDR5 RAM\n",
       "719       8 GB DDR4 RAM\n",
       "Name: RAM, Length: 720, dtype: object"
      ]
     },
     "execution_count": 39,
     "metadata": {},
     "output_type": "execute_result"
    }
   ],
   "source": [
    "df['RAM']"
   ]
  },
  {
   "cell_type": "code",
   "execution_count": 40,
   "id": "033b2b7f",
   "metadata": {},
   "outputs": [
    {
     "data": {
      "text/html": [
       "<div>\n",
       "<style scoped>\n",
       "    .dataframe tbody tr th:only-of-type {\n",
       "        vertical-align: middle;\n",
       "    }\n",
       "\n",
       "    .dataframe tbody tr th {\n",
       "        vertical-align: top;\n",
       "    }\n",
       "\n",
       "    .dataframe thead th {\n",
       "        text-align: right;\n",
       "    }\n",
       "</style>\n",
       "<table border=\"1\" class=\"dataframe\">\n",
       "  <thead>\n",
       "    <tr style=\"text-align: right;\">\n",
       "      <th></th>\n",
       "      <th>Product</th>\n",
       "      <th>Rating</th>\n",
       "      <th>MRP</th>\n",
       "      <th>Feature</th>\n",
       "      <th>Brand</th>\n",
       "      <th>Processor</th>\n",
       "      <th>Operating System</th>\n",
       "      <th>Storage</th>\n",
       "      <th>Storage Type</th>\n",
       "      <th>RAM</th>\n",
       "    </tr>\n",
       "  </thead>\n",
       "  <tbody>\n",
       "    <tr>\n",
       "      <th>0</th>\n",
       "      <td>Lenovo IdeaPad 3 Core i3 11th Gen - (8 GB/256 GB SSD/Windows 11 Home) 14ITL05 Thin and Light Laptop</td>\n",
       "      <td>4.2</td>\n",
       "      <td>36990</td>\n",
       "      <td>Intel Core i3 Processor (11th Gen)8 GB DDR4 RAM64 bit Windows 11 Operating System256 GB SSD35.56 cm (14 inch) DisplayOffice Home and Student 20212 Year Onsite�Warranty</td>\n",
       "      <td>Lenovo</td>\n",
       "      <td>Intel</td>\n",
       "      <td>Windows 11</td>\n",
       "      <td>256GB SSD</td>\n",
       "      <td>SSD</td>\n",
       "      <td>8 GB DDR4 RAM</td>\n",
       "    </tr>\n",
       "    <tr>\n",
       "      <th>1</th>\n",
       "      <td>Lenovo IdeaPad 3 Core i3 11th Gen - (8 GB/512 GB SSD/Windows 11 Home) 82H801L7IN | 82H802FJIN | 82H802...</td>\n",
       "      <td>4.2</td>\n",
       "      <td>39990</td>\n",
       "      <td>Intel Core i3 Processor (11th Gen)8 GB DDR4 RAM64 bit Windows 11 Operating System512 GB SSD39.62 cm (15.6 inch) DisplayOffice Home and Student 20212 Year Onsite�Warranty</td>\n",
       "      <td>Lenovo</td>\n",
       "      <td>Intel</td>\n",
       "      <td>Windows 11</td>\n",
       "      <td>512GB SSD</td>\n",
       "      <td>SSD</td>\n",
       "      <td>8 GB DDR4 RAM</td>\n",
       "    </tr>\n",
       "    <tr>\n",
       "      <th>2</th>\n",
       "      <td>ASUS VivoBook 15 (2022) Core i3 10th Gen - (8 GB/512 GB SSD/Windows 11 Home) X515JA-EJ362WS | X515JA-E...</td>\n",
       "      <td>4.3</td>\n",
       "      <td>32990</td>\n",
       "      <td>Intel Core i3 Processor (10th Gen)8 GB DDR4 RAM64 bit Windows 11 Operating System512 GB SSD39.62 cm (15.6 inch) DisplayOffice Home and Student 20211 Year Onsite Warranty</td>\n",
       "      <td>ASUS</td>\n",
       "      <td>Intel</td>\n",
       "      <td>Windows 11</td>\n",
       "      <td>512GB SSD</td>\n",
       "      <td>SSD</td>\n",
       "      <td>8 GB DDR4 RAM</td>\n",
       "    </tr>\n",
       "    <tr>\n",
       "      <th>3</th>\n",
       "      <td>HP Pavilion Ryzen 5 Hexa Core AMD R5-5600H - (8 GB/512 GB SSD/Windows 10/4 GB Graphics/NVIDIA GeForce ...</td>\n",
       "      <td>4.4</td>\n",
       "      <td>49990</td>\n",
       "      <td>AMD Ryzen 5 Hexa Core Processor8 GB DDR4 RAM64 bit Windows 10 Operating System512 GB SSD39.62 cm (15.6 inch) DisplayHP Documentation, HP e-service, HP BIOS Recovery, HP SSRM, HP Smart, HP Jumpstarts1 Year Onsite Warranty</td>\n",
       "      <td>HP</td>\n",
       "      <td>AMD</td>\n",
       "      <td>Windows 10</td>\n",
       "      <td>512GB SSD</td>\n",
       "      <td>SSD</td>\n",
       "      <td>8 GB DDR4 RAM</td>\n",
       "    </tr>\n",
       "    <tr>\n",
       "      <th>4</th>\n",
       "      <td>ASUS TUF Gaming F15 Core i5 10th Gen - (8 GB/512 GB SSD/Windows 11 Home/4 GB Graphics/NVIDIA GeForce G...</td>\n",
       "      <td>4.4</td>\n",
       "      <td>49990</td>\n",
       "      <td>Intel Core i5 Processor (10th Gen)8 GB DDR4 RAMWindows 11 Operating System512 GB SSD39.62 cm (15.6 inch) Display1 Year Onsite Warranty</td>\n",
       "      <td>ASUS</td>\n",
       "      <td>Intel</td>\n",
       "      <td>Windows 11</td>\n",
       "      <td>512GB SSD</td>\n",
       "      <td>SSD</td>\n",
       "      <td>8 GB DDR4 RAM</td>\n",
       "    </tr>\n",
       "  </tbody>\n",
       "</table>\n",
       "</div>"
      ],
      "text/plain": [
       "                                                                                                     Product  \\\n",
       "0        Lenovo IdeaPad 3 Core i3 11th Gen - (8 GB/256 GB SSD/Windows 11 Home) 14ITL05 Thin and Light Laptop   \n",
       "1  Lenovo IdeaPad 3 Core i3 11th Gen - (8 GB/512 GB SSD/Windows 11 Home) 82H801L7IN | 82H802FJIN | 82H802...   \n",
       "2  ASUS VivoBook 15 (2022) Core i3 10th Gen - (8 GB/512 GB SSD/Windows 11 Home) X515JA-EJ362WS | X515JA-E...   \n",
       "3  HP Pavilion Ryzen 5 Hexa Core AMD R5-5600H - (8 GB/512 GB SSD/Windows 10/4 GB Graphics/NVIDIA GeForce ...   \n",
       "4  ASUS TUF Gaming F15 Core i5 10th Gen - (8 GB/512 GB SSD/Windows 11 Home/4 GB Graphics/NVIDIA GeForce G...   \n",
       "\n",
       "   Rating    MRP  \\\n",
       "0     4.2  36990   \n",
       "1     4.2  39990   \n",
       "2     4.3  32990   \n",
       "3     4.4  49990   \n",
       "4     4.4  49990   \n",
       "\n",
       "                                                                                                                                                                                                                        Feature  \\\n",
       "0                                                       Intel Core i3 Processor (11th Gen)8 GB DDR4 RAM64 bit Windows 11 Operating System256 GB SSD35.56 cm (14 inch) DisplayOffice Home and Student 20212 Year Onsite�Warranty   \n",
       "1                                                     Intel Core i3 Processor (11th Gen)8 GB DDR4 RAM64 bit Windows 11 Operating System512 GB SSD39.62 cm (15.6 inch) DisplayOffice Home and Student 20212 Year Onsite�Warranty   \n",
       "2                                                     Intel Core i3 Processor (10th Gen)8 GB DDR4 RAM64 bit Windows 11 Operating System512 GB SSD39.62 cm (15.6 inch) DisplayOffice Home and Student 20211 Year Onsite Warranty   \n",
       "3  AMD Ryzen 5 Hexa Core Processor8 GB DDR4 RAM64 bit Windows 10 Operating System512 GB SSD39.62 cm (15.6 inch) DisplayHP Documentation, HP e-service, HP BIOS Recovery, HP SSRM, HP Smart, HP Jumpstarts1 Year Onsite Warranty   \n",
       "4                                                                                        Intel Core i5 Processor (10th Gen)8 GB DDR4 RAMWindows 11 Operating System512 GB SSD39.62 cm (15.6 inch) Display1 Year Onsite Warranty   \n",
       "\n",
       "    Brand Processor Operating System    Storage Storage Type            RAM  \n",
       "0  Lenovo     Intel       Windows 11  256GB SSD          SSD  8 GB DDR4 RAM  \n",
       "1  Lenovo     Intel       Windows 11  512GB SSD          SSD  8 GB DDR4 RAM  \n",
       "2    ASUS     Intel       Windows 11  512GB SSD          SSD  8 GB DDR4 RAM  \n",
       "3      HP       AMD       Windows 10  512GB SSD          SSD  8 GB DDR4 RAM  \n",
       "4    ASUS     Intel       Windows 11  512GB SSD          SSD  8 GB DDR4 RAM  "
      ]
     },
     "execution_count": 40,
     "metadata": {},
     "output_type": "execute_result"
    }
   ],
   "source": [
    "df.head()"
   ]
  },
  {
   "cell_type": "code",
   "execution_count": 41,
   "id": "2d3f789c",
   "metadata": {},
   "outputs": [
    {
     "data": {
      "text/plain": [
       "array(['8 GB DDR4 RAM', '16 GB DDR4 RAM', '16 GB DDR5 RAM',\n",
       "       '4 GB LPDDR4 RAM', '4 GB DDR4 RAM', '8 GB Unified Memory RAM',\n",
       "       '8 GB LPDDR4X RAM', '16 GB Unified Memory RAM', '4 GB LPDDR4X RAM',\n",
       "       '16 GB LPDDR4X RAM', '16 GB LPDDR5 RAM',\n",
       "       '32 GB Unified Memory RAM', '16 GB LPDDR4 RAM', '32 GB DDR5 RAM',\n",
       "       '128 GB SSD for Reduced Boot Up Time and in Game LoadingUpgradable SSD Upto 512 GB and RAM8 GB DDR4 RAM',\n",
       "       '8 GB DDR5 RAM', '32 GB DDR4 RAM', '32 GB LPDDR4X RAM',\n",
       "       '16 GB LPDDR3 RAM'], dtype=object)"
      ]
     },
     "execution_count": 41,
     "metadata": {},
     "output_type": "execute_result"
    }
   ],
   "source": [
    "df['RAM'].unique()"
   ]
  },
  {
   "cell_type": "code",
   "execution_count": 42,
   "id": "a2472c43",
   "metadata": {},
   "outputs": [],
   "source": [
    "df['RAM Size'] = df['RAM'].apply(lambda x: int(re.findall(r'\\d+', x.split('DDR')[0])[-1]))"
   ]
  },
  {
   "cell_type": "code",
   "execution_count": 43,
   "id": "73252683",
   "metadata": {},
   "outputs": [
    {
     "data": {
      "text/plain": [
       "array([ 8, 16,  4, 32], dtype=int64)"
      ]
     },
     "execution_count": 43,
     "metadata": {},
     "output_type": "execute_result"
    }
   ],
   "source": [
    "df['RAM Size'].unique()"
   ]
  },
  {
   "cell_type": "code",
   "execution_count": 44,
   "id": "4b948a0c",
   "metadata": {},
   "outputs": [],
   "source": [
    "rt = r'(DDR[0-9L]*|LPDDR[0-9X]*)'\n",
    "\n",
    "def extract_ram_type(text):\n",
    "    match = re.search(rt, text, re.IGNORECASE)\n",
    "    if match:\n",
    "        return match.group(0)\n",
    "    else:\n",
    "        return None\n",
    "\n",
    "df['RAM Type'] = df['RAM'].apply(extract_ram_type)"
   ]
  },
  {
   "cell_type": "code",
   "execution_count": 45,
   "id": "8c74faee",
   "metadata": {},
   "outputs": [
    {
     "data": {
      "text/plain": [
       "array(['DDR4', 'DDR5', 'LPDDR4', None, 'LPDDR4X', 'LPDDR5', 'LPDDR3'],\n",
       "      dtype=object)"
      ]
     },
     "execution_count": 45,
     "metadata": {},
     "output_type": "execute_result"
    }
   ],
   "source": [
    "df['RAM Type'].unique()"
   ]
  },
  {
   "cell_type": "code",
   "execution_count": 46,
   "id": "4e8d60cd",
   "metadata": {},
   "outputs": [
    {
     "data": {
      "text/html": [
       "<div>\n",
       "<style scoped>\n",
       "    .dataframe tbody tr th:only-of-type {\n",
       "        vertical-align: middle;\n",
       "    }\n",
       "\n",
       "    .dataframe tbody tr th {\n",
       "        vertical-align: top;\n",
       "    }\n",
       "\n",
       "    .dataframe thead th {\n",
       "        text-align: right;\n",
       "    }\n",
       "</style>\n",
       "<table border=\"1\" class=\"dataframe\">\n",
       "  <thead>\n",
       "    <tr style=\"text-align: right;\">\n",
       "      <th></th>\n",
       "      <th>Product</th>\n",
       "      <th>Rating</th>\n",
       "      <th>MRP</th>\n",
       "      <th>Feature</th>\n",
       "      <th>Brand</th>\n",
       "      <th>Processor</th>\n",
       "      <th>Operating System</th>\n",
       "      <th>Storage</th>\n",
       "      <th>Storage Type</th>\n",
       "      <th>RAM</th>\n",
       "      <th>RAM Size</th>\n",
       "      <th>RAM Type</th>\n",
       "    </tr>\n",
       "  </thead>\n",
       "  <tbody>\n",
       "    <tr>\n",
       "      <th>0</th>\n",
       "      <td>Lenovo IdeaPad 3 Core i3 11th Gen - (8 GB/256 GB SSD/Windows 11 Home) 14ITL05 Thin and Light Laptop</td>\n",
       "      <td>4.2</td>\n",
       "      <td>36990</td>\n",
       "      <td>Intel Core i3 Processor (11th Gen)8 GB DDR4 RAM64 bit Windows 11 Operating System256 GB SSD35.56 cm (14 inch) DisplayOffice Home and Student 20212 Year Onsite�Warranty</td>\n",
       "      <td>Lenovo</td>\n",
       "      <td>Intel</td>\n",
       "      <td>Windows 11</td>\n",
       "      <td>256GB SSD</td>\n",
       "      <td>SSD</td>\n",
       "      <td>8 GB DDR4 RAM</td>\n",
       "      <td>8</td>\n",
       "      <td>DDR4</td>\n",
       "    </tr>\n",
       "    <tr>\n",
       "      <th>1</th>\n",
       "      <td>Lenovo IdeaPad 3 Core i3 11th Gen - (8 GB/512 GB SSD/Windows 11 Home) 82H801L7IN | 82H802FJIN | 82H802...</td>\n",
       "      <td>4.2</td>\n",
       "      <td>39990</td>\n",
       "      <td>Intel Core i3 Processor (11th Gen)8 GB DDR4 RAM64 bit Windows 11 Operating System512 GB SSD39.62 cm (15.6 inch) DisplayOffice Home and Student 20212 Year Onsite�Warranty</td>\n",
       "      <td>Lenovo</td>\n",
       "      <td>Intel</td>\n",
       "      <td>Windows 11</td>\n",
       "      <td>512GB SSD</td>\n",
       "      <td>SSD</td>\n",
       "      <td>8 GB DDR4 RAM</td>\n",
       "      <td>8</td>\n",
       "      <td>DDR4</td>\n",
       "    </tr>\n",
       "    <tr>\n",
       "      <th>2</th>\n",
       "      <td>ASUS VivoBook 15 (2022) Core i3 10th Gen - (8 GB/512 GB SSD/Windows 11 Home) X515JA-EJ362WS | X515JA-E...</td>\n",
       "      <td>4.3</td>\n",
       "      <td>32990</td>\n",
       "      <td>Intel Core i3 Processor (10th Gen)8 GB DDR4 RAM64 bit Windows 11 Operating System512 GB SSD39.62 cm (15.6 inch) DisplayOffice Home and Student 20211 Year Onsite Warranty</td>\n",
       "      <td>ASUS</td>\n",
       "      <td>Intel</td>\n",
       "      <td>Windows 11</td>\n",
       "      <td>512GB SSD</td>\n",
       "      <td>SSD</td>\n",
       "      <td>8 GB DDR4 RAM</td>\n",
       "      <td>8</td>\n",
       "      <td>DDR4</td>\n",
       "    </tr>\n",
       "    <tr>\n",
       "      <th>3</th>\n",
       "      <td>HP Pavilion Ryzen 5 Hexa Core AMD R5-5600H - (8 GB/512 GB SSD/Windows 10/4 GB Graphics/NVIDIA GeForce ...</td>\n",
       "      <td>4.4</td>\n",
       "      <td>49990</td>\n",
       "      <td>AMD Ryzen 5 Hexa Core Processor8 GB DDR4 RAM64 bit Windows 10 Operating System512 GB SSD39.62 cm (15.6 inch) DisplayHP Documentation, HP e-service, HP BIOS Recovery, HP SSRM, HP Smart, HP Jumpstarts1 Year Onsite Warranty</td>\n",
       "      <td>HP</td>\n",
       "      <td>AMD</td>\n",
       "      <td>Windows 10</td>\n",
       "      <td>512GB SSD</td>\n",
       "      <td>SSD</td>\n",
       "      <td>8 GB DDR4 RAM</td>\n",
       "      <td>8</td>\n",
       "      <td>DDR4</td>\n",
       "    </tr>\n",
       "    <tr>\n",
       "      <th>4</th>\n",
       "      <td>ASUS TUF Gaming F15 Core i5 10th Gen - (8 GB/512 GB SSD/Windows 11 Home/4 GB Graphics/NVIDIA GeForce G...</td>\n",
       "      <td>4.4</td>\n",
       "      <td>49990</td>\n",
       "      <td>Intel Core i5 Processor (10th Gen)8 GB DDR4 RAMWindows 11 Operating System512 GB SSD39.62 cm (15.6 inch) Display1 Year Onsite Warranty</td>\n",
       "      <td>ASUS</td>\n",
       "      <td>Intel</td>\n",
       "      <td>Windows 11</td>\n",
       "      <td>512GB SSD</td>\n",
       "      <td>SSD</td>\n",
       "      <td>8 GB DDR4 RAM</td>\n",
       "      <td>8</td>\n",
       "      <td>DDR4</td>\n",
       "    </tr>\n",
       "    <tr>\n",
       "      <th>...</th>\n",
       "      <td>...</td>\n",
       "      <td>...</td>\n",
       "      <td>...</td>\n",
       "      <td>...</td>\n",
       "      <td>...</td>\n",
       "      <td>...</td>\n",
       "      <td>...</td>\n",
       "      <td>...</td>\n",
       "      <td>...</td>\n",
       "      <td>...</td>\n",
       "      <td>...</td>\n",
       "      <td>...</td>\n",
       "    </tr>\n",
       "    <tr>\n",
       "      <th>715</th>\n",
       "      <td>ASUS Chromebook Flip Touch Celeron Dual Core - (4 GB/64 GB EMMC Storage/Chrome OS) C214MA-BU0452 Chrom...</td>\n",
       "      <td>4.0</td>\n",
       "      <td>23490</td>\n",
       "      <td>Intel Celeron Dual Core Processor4 GB LPDDR4 RAMChrome Operating System29.46 cm (11.6 inch) Touchscreen Display1 Year Onsite Warranty</td>\n",
       "      <td>ASUS</td>\n",
       "      <td>Intel</td>\n",
       "      <td>Chrome</td>\n",
       "      <td>64GB EMMC</td>\n",
       "      <td>SSD</td>\n",
       "      <td>4 GB LPDDR4 RAM</td>\n",
       "      <td>4</td>\n",
       "      <td>LPDDR4</td>\n",
       "    </tr>\n",
       "    <tr>\n",
       "      <th>716</th>\n",
       "      <td>Lenovo IdeaPad Gaming 3 Ryzen 7 Octa Core AMD R7-5800H - (8 GB/512 GB SSD/Windows 11 Home/4 GB Graphic...</td>\n",
       "      <td>4.5</td>\n",
       "      <td>73490</td>\n",
       "      <td>AMD Ryzen 7 Octa Core Processor8 GB DDR4 RAM64 bit Windows 11 Operating System512 GB SSD39.62 cm (15.6 inch) Display1 Year Onsite�Warranty�+ 1 Year Premium Care + 1 Year Accidental Damage Protection</td>\n",
       "      <td>Lenovo</td>\n",
       "      <td>AMD</td>\n",
       "      <td>Windows 11</td>\n",
       "      <td>512GB SSD</td>\n",
       "      <td>SSD</td>\n",
       "      <td>8 GB DDR4 RAM</td>\n",
       "      <td>8</td>\n",
       "      <td>DDR4</td>\n",
       "    </tr>\n",
       "    <tr>\n",
       "      <th>717</th>\n",
       "      <td>ASUS ROG Zephyrus G15 Ryzen 9 Octa Core 6900HS - (16 GB/1 TB SSD/Windows 11 Home/8 GB Graphics/NVIDIA ...</td>\n",
       "      <td>NaN</td>\n",
       "      <td>194990</td>\n",
       "      <td>AMD Ryzen 9 Octa Core Processor16 GB DDR5 RAM64 bit Windows 11 Operating System1 TB SSD39.62 cm (15.6 inch) Display1 Year Onsite Warranty</td>\n",
       "      <td>ASUS</td>\n",
       "      <td>AMD</td>\n",
       "      <td>Windows 11</td>\n",
       "      <td>1TB SSD</td>\n",
       "      <td>SSD</td>\n",
       "      <td>16 GB DDR5 RAM</td>\n",
       "      <td>16</td>\n",
       "      <td>DDR5</td>\n",
       "    </tr>\n",
       "    <tr>\n",
       "      <th>718</th>\n",
       "      <td>ASUS Zenbook Flip 14 OLED (2022) Touch Panel Core i7 12th Gen - (16 GB/512 GB SSD/Windows 11 Home) UP5...</td>\n",
       "      <td>3.0</td>\n",
       "      <td>125990</td>\n",
       "      <td>Intel Core i7 Processor (12th Gen)16 GB LPDDR5 RAM64 bit Windows 11 Operating System512 GB SSD35.56 cm (14 inch) Touchscreen Display1 Year Onsite Warranty</td>\n",
       "      <td>ASUS</td>\n",
       "      <td>Intel</td>\n",
       "      <td>Windows 11</td>\n",
       "      <td>512GB SSD</td>\n",
       "      <td>SSD</td>\n",
       "      <td>16 GB LPDDR5 RAM</td>\n",
       "      <td>16</td>\n",
       "      <td>LPDDR5</td>\n",
       "    </tr>\n",
       "    <tr>\n",
       "      <th>719</th>\n",
       "      <td>Lenovo Ideapad Slim 3i Core i5 10th Gen - (8 GB/1 TB HDD/256 GB SSD/Windows 10 Home) 15IIL05 Laptop</td>\n",
       "      <td>4.2</td>\n",
       "      <td>50990</td>\n",
       "      <td>Intel Core i5 Processor (10th Gen)8 GB DDR4 RAM64 bit Windows 10 Operating System1 TB HDD|256 GB SSD39.62 cm (15.6 inch) DisplayMicrosoft Office Home and Student 20191 Year Onsite Warranty</td>\n",
       "      <td>Lenovo</td>\n",
       "      <td>Intel</td>\n",
       "      <td>Windows 10</td>\n",
       "      <td>1TB HDD</td>\n",
       "      <td>HDD</td>\n",
       "      <td>8 GB DDR4 RAM</td>\n",
       "      <td>8</td>\n",
       "      <td>DDR4</td>\n",
       "    </tr>\n",
       "  </tbody>\n",
       "</table>\n",
       "<p>720 rows × 12 columns</p>\n",
       "</div>"
      ],
      "text/plain": [
       "                                                                                                       Product  \\\n",
       "0          Lenovo IdeaPad 3 Core i3 11th Gen - (8 GB/256 GB SSD/Windows 11 Home) 14ITL05 Thin and Light Laptop   \n",
       "1    Lenovo IdeaPad 3 Core i3 11th Gen - (8 GB/512 GB SSD/Windows 11 Home) 82H801L7IN | 82H802FJIN | 82H802...   \n",
       "2    ASUS VivoBook 15 (2022) Core i3 10th Gen - (8 GB/512 GB SSD/Windows 11 Home) X515JA-EJ362WS | X515JA-E...   \n",
       "3    HP Pavilion Ryzen 5 Hexa Core AMD R5-5600H - (8 GB/512 GB SSD/Windows 10/4 GB Graphics/NVIDIA GeForce ...   \n",
       "4    ASUS TUF Gaming F15 Core i5 10th Gen - (8 GB/512 GB SSD/Windows 11 Home/4 GB Graphics/NVIDIA GeForce G...   \n",
       "..                                                                                                         ...   \n",
       "715  ASUS Chromebook Flip Touch Celeron Dual Core - (4 GB/64 GB EMMC Storage/Chrome OS) C214MA-BU0452 Chrom...   \n",
       "716  Lenovo IdeaPad Gaming 3 Ryzen 7 Octa Core AMD R7-5800H - (8 GB/512 GB SSD/Windows 11 Home/4 GB Graphic...   \n",
       "717  ASUS ROG Zephyrus G15 Ryzen 9 Octa Core 6900HS - (16 GB/1 TB SSD/Windows 11 Home/8 GB Graphics/NVIDIA ...   \n",
       "718  ASUS Zenbook Flip 14 OLED (2022) Touch Panel Core i7 12th Gen - (16 GB/512 GB SSD/Windows 11 Home) UP5...   \n",
       "719        Lenovo Ideapad Slim 3i Core i5 10th Gen - (8 GB/1 TB HDD/256 GB SSD/Windows 10 Home) 15IIL05 Laptop   \n",
       "\n",
       "     Rating     MRP  \\\n",
       "0       4.2   36990   \n",
       "1       4.2   39990   \n",
       "2       4.3   32990   \n",
       "3       4.4   49990   \n",
       "4       4.4   49990   \n",
       "..      ...     ...   \n",
       "715     4.0   23490   \n",
       "716     4.5   73490   \n",
       "717     NaN  194990   \n",
       "718     3.0  125990   \n",
       "719     4.2   50990   \n",
       "\n",
       "                                                                                                                                                                                                                          Feature  \\\n",
       "0                                                         Intel Core i3 Processor (11th Gen)8 GB DDR4 RAM64 bit Windows 11 Operating System256 GB SSD35.56 cm (14 inch) DisplayOffice Home and Student 20212 Year Onsite�Warranty   \n",
       "1                                                       Intel Core i3 Processor (11th Gen)8 GB DDR4 RAM64 bit Windows 11 Operating System512 GB SSD39.62 cm (15.6 inch) DisplayOffice Home and Student 20212 Year Onsite�Warranty   \n",
       "2                                                       Intel Core i3 Processor (10th Gen)8 GB DDR4 RAM64 bit Windows 11 Operating System512 GB SSD39.62 cm (15.6 inch) DisplayOffice Home and Student 20211 Year Onsite Warranty   \n",
       "3    AMD Ryzen 5 Hexa Core Processor8 GB DDR4 RAM64 bit Windows 10 Operating System512 GB SSD39.62 cm (15.6 inch) DisplayHP Documentation, HP e-service, HP BIOS Recovery, HP SSRM, HP Smart, HP Jumpstarts1 Year Onsite Warranty   \n",
       "4                                                                                          Intel Core i5 Processor (10th Gen)8 GB DDR4 RAMWindows 11 Operating System512 GB SSD39.62 cm (15.6 inch) Display1 Year Onsite Warranty   \n",
       "..                                                                                                                                                                                                                            ...   \n",
       "715                                                                                         Intel Celeron Dual Core Processor4 GB LPDDR4 RAMChrome Operating System29.46 cm (11.6 inch) Touchscreen Display1 Year Onsite Warranty   \n",
       "716                        AMD Ryzen 7 Octa Core Processor8 GB DDR4 RAM64 bit Windows 11 Operating System512 GB SSD39.62 cm (15.6 inch) Display1 Year Onsite�Warranty�+ 1 Year Premium Care + 1 Year Accidental Damage Protection   \n",
       "717                                                                                     AMD Ryzen 9 Octa Core Processor16 GB DDR5 RAM64 bit Windows 11 Operating System1 TB SSD39.62 cm (15.6 inch) Display1 Year Onsite Warranty   \n",
       "718                                                                    Intel Core i7 Processor (12th Gen)16 GB LPDDR5 RAM64 bit Windows 11 Operating System512 GB SSD35.56 cm (14 inch) Touchscreen Display1 Year Onsite Warranty   \n",
       "719                                  Intel Core i5 Processor (10th Gen)8 GB DDR4 RAM64 bit Windows 10 Operating System1 TB HDD|256 GB SSD39.62 cm (15.6 inch) DisplayMicrosoft Office Home and Student 20191 Year Onsite Warranty   \n",
       "\n",
       "      Brand Processor Operating System    Storage Storage Type  \\\n",
       "0    Lenovo     Intel       Windows 11  256GB SSD          SSD   \n",
       "1    Lenovo     Intel       Windows 11  512GB SSD          SSD   \n",
       "2      ASUS     Intel       Windows 11  512GB SSD          SSD   \n",
       "3        HP       AMD       Windows 10  512GB SSD          SSD   \n",
       "4      ASUS     Intel       Windows 11  512GB SSD          SSD   \n",
       "..      ...       ...              ...        ...          ...   \n",
       "715    ASUS     Intel           Chrome  64GB EMMC          SSD   \n",
       "716  Lenovo       AMD       Windows 11  512GB SSD          SSD   \n",
       "717    ASUS       AMD       Windows 11    1TB SSD          SSD   \n",
       "718    ASUS     Intel       Windows 11  512GB SSD          SSD   \n",
       "719  Lenovo     Intel       Windows 10    1TB HDD          HDD   \n",
       "\n",
       "                  RAM  RAM Size RAM Type  \n",
       "0       8 GB DDR4 RAM         8     DDR4  \n",
       "1       8 GB DDR4 RAM         8     DDR4  \n",
       "2       8 GB DDR4 RAM         8     DDR4  \n",
       "3       8 GB DDR4 RAM         8     DDR4  \n",
       "4       8 GB DDR4 RAM         8     DDR4  \n",
       "..                ...       ...      ...  \n",
       "715   4 GB LPDDR4 RAM         4   LPDDR4  \n",
       "716     8 GB DDR4 RAM         8     DDR4  \n",
       "717    16 GB DDR5 RAM        16     DDR5  \n",
       "718  16 GB LPDDR5 RAM        16   LPDDR5  \n",
       "719     8 GB DDR4 RAM         8     DDR4  \n",
       "\n",
       "[720 rows x 12 columns]"
      ]
     },
     "execution_count": 46,
     "metadata": {},
     "output_type": "execute_result"
    }
   ],
   "source": [
    "df"
   ]
  },
  {
   "cell_type": "code",
   "execution_count": 47,
   "id": "32656c3a",
   "metadata": {},
   "outputs": [],
   "source": [
    "#Duplicate Rows\n",
    "#df.duplicated().sum()"
   ]
  },
  {
   "cell_type": "code",
   "execution_count": 48,
   "id": "ef715f5f",
   "metadata": {},
   "outputs": [
    {
     "data": {
      "text/plain": [
       "Product               0\n",
       "Rating              139\n",
       "MRP                   0\n",
       "Feature               0\n",
       "Brand                 0\n",
       "Processor             0\n",
       "Operating System      0\n",
       "Storage               0\n",
       "Storage Type          0\n",
       "RAM                   0\n",
       "RAM Size              0\n",
       "RAM Type             12\n",
       "dtype: int64"
      ]
     },
     "execution_count": 48,
     "metadata": {},
     "output_type": "execute_result"
    }
   ],
   "source": [
    "df.isnull().sum()"
   ]
  },
  {
   "cell_type": "code",
   "execution_count": 49,
   "id": "dbba38d1",
   "metadata": {},
   "outputs": [
    {
     "data": {
      "text/html": [
       "<div>\n",
       "<style scoped>\n",
       "    .dataframe tbody tr th:only-of-type {\n",
       "        vertical-align: middle;\n",
       "    }\n",
       "\n",
       "    .dataframe tbody tr th {\n",
       "        vertical-align: top;\n",
       "    }\n",
       "\n",
       "    .dataframe thead th {\n",
       "        text-align: right;\n",
       "    }\n",
       "</style>\n",
       "<table border=\"1\" class=\"dataframe\">\n",
       "  <thead>\n",
       "    <tr style=\"text-align: right;\">\n",
       "      <th></th>\n",
       "      <th>Product</th>\n",
       "      <th>Rating</th>\n",
       "      <th>MRP</th>\n",
       "      <th>Feature</th>\n",
       "      <th>Brand</th>\n",
       "      <th>Processor</th>\n",
       "      <th>Operating System</th>\n",
       "      <th>Storage</th>\n",
       "      <th>Storage Type</th>\n",
       "      <th>RAM</th>\n",
       "      <th>RAM Size</th>\n",
       "      <th>RAM Type</th>\n",
       "    </tr>\n",
       "  </thead>\n",
       "  <tbody>\n",
       "    <tr>\n",
       "      <th>0</th>\n",
       "      <td>Lenovo IdeaPad 3 Core i3 11th Gen - (8 GB/256 GB SSD/Windows 11 Home) 14ITL05 Thin and Light Laptop</td>\n",
       "      <td>4.2</td>\n",
       "      <td>36990</td>\n",
       "      <td>Intel Core i3 Processor (11th Gen)8 GB DDR4 RAM64 bit Windows 11 Operating System256 GB SSD35.56 cm (14 inch) DisplayOffice Home and Student 20212 Year Onsite�Warranty</td>\n",
       "      <td>Lenovo</td>\n",
       "      <td>Intel</td>\n",
       "      <td>Windows 11</td>\n",
       "      <td>256GB SSD</td>\n",
       "      <td>SSD</td>\n",
       "      <td>8 GB DDR4 RAM</td>\n",
       "      <td>8</td>\n",
       "      <td>DDR4</td>\n",
       "    </tr>\n",
       "    <tr>\n",
       "      <th>1</th>\n",
       "      <td>Lenovo IdeaPad 3 Core i3 11th Gen - (8 GB/512 GB SSD/Windows 11 Home) 82H801L7IN | 82H802FJIN | 82H802...</td>\n",
       "      <td>4.2</td>\n",
       "      <td>39990</td>\n",
       "      <td>Intel Core i3 Processor (11th Gen)8 GB DDR4 RAM64 bit Windows 11 Operating System512 GB SSD39.62 cm (15.6 inch) DisplayOffice Home and Student 20212 Year Onsite�Warranty</td>\n",
       "      <td>Lenovo</td>\n",
       "      <td>Intel</td>\n",
       "      <td>Windows 11</td>\n",
       "      <td>512GB SSD</td>\n",
       "      <td>SSD</td>\n",
       "      <td>8 GB DDR4 RAM</td>\n",
       "      <td>8</td>\n",
       "      <td>DDR4</td>\n",
       "    </tr>\n",
       "    <tr>\n",
       "      <th>2</th>\n",
       "      <td>ASUS VivoBook 15 (2022) Core i3 10th Gen - (8 GB/512 GB SSD/Windows 11 Home) X515JA-EJ362WS | X515JA-E...</td>\n",
       "      <td>4.3</td>\n",
       "      <td>32990</td>\n",
       "      <td>Intel Core i3 Processor (10th Gen)8 GB DDR4 RAM64 bit Windows 11 Operating System512 GB SSD39.62 cm (15.6 inch) DisplayOffice Home and Student 20211 Year Onsite Warranty</td>\n",
       "      <td>ASUS</td>\n",
       "      <td>Intel</td>\n",
       "      <td>Windows 11</td>\n",
       "      <td>512GB SSD</td>\n",
       "      <td>SSD</td>\n",
       "      <td>8 GB DDR4 RAM</td>\n",
       "      <td>8</td>\n",
       "      <td>DDR4</td>\n",
       "    </tr>\n",
       "    <tr>\n",
       "      <th>3</th>\n",
       "      <td>HP Pavilion Ryzen 5 Hexa Core AMD R5-5600H - (8 GB/512 GB SSD/Windows 10/4 GB Graphics/NVIDIA GeForce ...</td>\n",
       "      <td>4.4</td>\n",
       "      <td>49990</td>\n",
       "      <td>AMD Ryzen 5 Hexa Core Processor8 GB DDR4 RAM64 bit Windows 10 Operating System512 GB SSD39.62 cm (15.6 inch) DisplayHP Documentation, HP e-service, HP BIOS Recovery, HP SSRM, HP Smart, HP Jumpstarts1 Year Onsite Warranty</td>\n",
       "      <td>HP</td>\n",
       "      <td>AMD</td>\n",
       "      <td>Windows 10</td>\n",
       "      <td>512GB SSD</td>\n",
       "      <td>SSD</td>\n",
       "      <td>8 GB DDR4 RAM</td>\n",
       "      <td>8</td>\n",
       "      <td>DDR4</td>\n",
       "    </tr>\n",
       "    <tr>\n",
       "      <th>4</th>\n",
       "      <td>ASUS TUF Gaming F15 Core i5 10th Gen - (8 GB/512 GB SSD/Windows 11 Home/4 GB Graphics/NVIDIA GeForce G...</td>\n",
       "      <td>4.4</td>\n",
       "      <td>49990</td>\n",
       "      <td>Intel Core i5 Processor (10th Gen)8 GB DDR4 RAMWindows 11 Operating System512 GB SSD39.62 cm (15.6 inch) Display1 Year Onsite Warranty</td>\n",
       "      <td>ASUS</td>\n",
       "      <td>Intel</td>\n",
       "      <td>Windows 11</td>\n",
       "      <td>512GB SSD</td>\n",
       "      <td>SSD</td>\n",
       "      <td>8 GB DDR4 RAM</td>\n",
       "      <td>8</td>\n",
       "      <td>DDR4</td>\n",
       "    </tr>\n",
       "  </tbody>\n",
       "</table>\n",
       "</div>"
      ],
      "text/plain": [
       "                                                                                                     Product  \\\n",
       "0        Lenovo IdeaPad 3 Core i3 11th Gen - (8 GB/256 GB SSD/Windows 11 Home) 14ITL05 Thin and Light Laptop   \n",
       "1  Lenovo IdeaPad 3 Core i3 11th Gen - (8 GB/512 GB SSD/Windows 11 Home) 82H801L7IN | 82H802FJIN | 82H802...   \n",
       "2  ASUS VivoBook 15 (2022) Core i3 10th Gen - (8 GB/512 GB SSD/Windows 11 Home) X515JA-EJ362WS | X515JA-E...   \n",
       "3  HP Pavilion Ryzen 5 Hexa Core AMD R5-5600H - (8 GB/512 GB SSD/Windows 10/4 GB Graphics/NVIDIA GeForce ...   \n",
       "4  ASUS TUF Gaming F15 Core i5 10th Gen - (8 GB/512 GB SSD/Windows 11 Home/4 GB Graphics/NVIDIA GeForce G...   \n",
       "\n",
       "   Rating    MRP  \\\n",
       "0     4.2  36990   \n",
       "1     4.2  39990   \n",
       "2     4.3  32990   \n",
       "3     4.4  49990   \n",
       "4     4.4  49990   \n",
       "\n",
       "                                                                                                                                                                                                                        Feature  \\\n",
       "0                                                       Intel Core i3 Processor (11th Gen)8 GB DDR4 RAM64 bit Windows 11 Operating System256 GB SSD35.56 cm (14 inch) DisplayOffice Home and Student 20212 Year Onsite�Warranty   \n",
       "1                                                     Intel Core i3 Processor (11th Gen)8 GB DDR4 RAM64 bit Windows 11 Operating System512 GB SSD39.62 cm (15.6 inch) DisplayOffice Home and Student 20212 Year Onsite�Warranty   \n",
       "2                                                     Intel Core i3 Processor (10th Gen)8 GB DDR4 RAM64 bit Windows 11 Operating System512 GB SSD39.62 cm (15.6 inch) DisplayOffice Home and Student 20211 Year Onsite Warranty   \n",
       "3  AMD Ryzen 5 Hexa Core Processor8 GB DDR4 RAM64 bit Windows 10 Operating System512 GB SSD39.62 cm (15.6 inch) DisplayHP Documentation, HP e-service, HP BIOS Recovery, HP SSRM, HP Smart, HP Jumpstarts1 Year Onsite Warranty   \n",
       "4                                                                                        Intel Core i5 Processor (10th Gen)8 GB DDR4 RAMWindows 11 Operating System512 GB SSD39.62 cm (15.6 inch) Display1 Year Onsite Warranty   \n",
       "\n",
       "    Brand Processor Operating System    Storage Storage Type            RAM  \\\n",
       "0  Lenovo     Intel       Windows 11  256GB SSD          SSD  8 GB DDR4 RAM   \n",
       "1  Lenovo     Intel       Windows 11  512GB SSD          SSD  8 GB DDR4 RAM   \n",
       "2    ASUS     Intel       Windows 11  512GB SSD          SSD  8 GB DDR4 RAM   \n",
       "3      HP       AMD       Windows 10  512GB SSD          SSD  8 GB DDR4 RAM   \n",
       "4    ASUS     Intel       Windows 11  512GB SSD          SSD  8 GB DDR4 RAM   \n",
       "\n",
       "   RAM Size RAM Type  \n",
       "0         8     DDR4  \n",
       "1         8     DDR4  \n",
       "2         8     DDR4  \n",
       "3         8     DDR4  \n",
       "4         8     DDR4  "
      ]
     },
     "execution_count": 49,
     "metadata": {},
     "output_type": "execute_result"
    }
   ],
   "source": [
    "df.head()"
   ]
  },
  {
   "cell_type": "code",
   "execution_count": 50,
   "id": "978dece8",
   "metadata": {},
   "outputs": [
    {
     "data": {
      "text/html": [
       "<div>\n",
       "<style scoped>\n",
       "    .dataframe tbody tr th:only-of-type {\n",
       "        vertical-align: middle;\n",
       "    }\n",
       "\n",
       "    .dataframe tbody tr th {\n",
       "        vertical-align: top;\n",
       "    }\n",
       "\n",
       "    .dataframe thead th {\n",
       "        text-align: right;\n",
       "    }\n",
       "</style>\n",
       "<table border=\"1\" class=\"dataframe\">\n",
       "  <thead>\n",
       "    <tr style=\"text-align: right;\">\n",
       "      <th></th>\n",
       "      <th>Product</th>\n",
       "      <th>Rating</th>\n",
       "      <th>MRP</th>\n",
       "      <th>Feature</th>\n",
       "      <th>Brand</th>\n",
       "      <th>Processor</th>\n",
       "      <th>Operating System</th>\n",
       "      <th>Storage</th>\n",
       "      <th>Storage Type</th>\n",
       "      <th>RAM Size</th>\n",
       "      <th>RAM Type</th>\n",
       "    </tr>\n",
       "  </thead>\n",
       "  <tbody>\n",
       "    <tr>\n",
       "      <th>0</th>\n",
       "      <td>Lenovo IdeaPad 3 Core i3 11th Gen - (8 GB/256 GB SSD/Windows 11 Home) 14ITL05 Thin and Light Laptop</td>\n",
       "      <td>4.2</td>\n",
       "      <td>36990</td>\n",
       "      <td>Intel Core i3 Processor (11th Gen)8 GB DDR4 RAM64 bit Windows 11 Operating System256 GB SSD35.56 cm (14 inch) DisplayOffice Home and Student 20212 Year Onsite�Warranty</td>\n",
       "      <td>Lenovo</td>\n",
       "      <td>Intel</td>\n",
       "      <td>Windows 11</td>\n",
       "      <td>256GB SSD</td>\n",
       "      <td>SSD</td>\n",
       "      <td>8</td>\n",
       "      <td>DDR4</td>\n",
       "    </tr>\n",
       "    <tr>\n",
       "      <th>1</th>\n",
       "      <td>Lenovo IdeaPad 3 Core i3 11th Gen - (8 GB/512 GB SSD/Windows 11 Home) 82H801L7IN | 82H802FJIN | 82H802...</td>\n",
       "      <td>4.2</td>\n",
       "      <td>39990</td>\n",
       "      <td>Intel Core i3 Processor (11th Gen)8 GB DDR4 RAM64 bit Windows 11 Operating System512 GB SSD39.62 cm (15.6 inch) DisplayOffice Home and Student 20212 Year Onsite�Warranty</td>\n",
       "      <td>Lenovo</td>\n",
       "      <td>Intel</td>\n",
       "      <td>Windows 11</td>\n",
       "      <td>512GB SSD</td>\n",
       "      <td>SSD</td>\n",
       "      <td>8</td>\n",
       "      <td>DDR4</td>\n",
       "    </tr>\n",
       "    <tr>\n",
       "      <th>2</th>\n",
       "      <td>ASUS VivoBook 15 (2022) Core i3 10th Gen - (8 GB/512 GB SSD/Windows 11 Home) X515JA-EJ362WS | X515JA-E...</td>\n",
       "      <td>4.3</td>\n",
       "      <td>32990</td>\n",
       "      <td>Intel Core i3 Processor (10th Gen)8 GB DDR4 RAM64 bit Windows 11 Operating System512 GB SSD39.62 cm (15.6 inch) DisplayOffice Home and Student 20211 Year Onsite Warranty</td>\n",
       "      <td>ASUS</td>\n",
       "      <td>Intel</td>\n",
       "      <td>Windows 11</td>\n",
       "      <td>512GB SSD</td>\n",
       "      <td>SSD</td>\n",
       "      <td>8</td>\n",
       "      <td>DDR4</td>\n",
       "    </tr>\n",
       "    <tr>\n",
       "      <th>3</th>\n",
       "      <td>HP Pavilion Ryzen 5 Hexa Core AMD R5-5600H - (8 GB/512 GB SSD/Windows 10/4 GB Graphics/NVIDIA GeForce ...</td>\n",
       "      <td>4.4</td>\n",
       "      <td>49990</td>\n",
       "      <td>AMD Ryzen 5 Hexa Core Processor8 GB DDR4 RAM64 bit Windows 10 Operating System512 GB SSD39.62 cm (15.6 inch) DisplayHP Documentation, HP e-service, HP BIOS Recovery, HP SSRM, HP Smart, HP Jumpstarts1 Year Onsite Warranty</td>\n",
       "      <td>HP</td>\n",
       "      <td>AMD</td>\n",
       "      <td>Windows 10</td>\n",
       "      <td>512GB SSD</td>\n",
       "      <td>SSD</td>\n",
       "      <td>8</td>\n",
       "      <td>DDR4</td>\n",
       "    </tr>\n",
       "    <tr>\n",
       "      <th>4</th>\n",
       "      <td>ASUS TUF Gaming F15 Core i5 10th Gen - (8 GB/512 GB SSD/Windows 11 Home/4 GB Graphics/NVIDIA GeForce G...</td>\n",
       "      <td>4.4</td>\n",
       "      <td>49990</td>\n",
       "      <td>Intel Core i5 Processor (10th Gen)8 GB DDR4 RAMWindows 11 Operating System512 GB SSD39.62 cm (15.6 inch) Display1 Year Onsite Warranty</td>\n",
       "      <td>ASUS</td>\n",
       "      <td>Intel</td>\n",
       "      <td>Windows 11</td>\n",
       "      <td>512GB SSD</td>\n",
       "      <td>SSD</td>\n",
       "      <td>8</td>\n",
       "      <td>DDR4</td>\n",
       "    </tr>\n",
       "  </tbody>\n",
       "</table>\n",
       "</div>"
      ],
      "text/plain": [
       "                                                                                                     Product  \\\n",
       "0        Lenovo IdeaPad 3 Core i3 11th Gen - (8 GB/256 GB SSD/Windows 11 Home) 14ITL05 Thin and Light Laptop   \n",
       "1  Lenovo IdeaPad 3 Core i3 11th Gen - (8 GB/512 GB SSD/Windows 11 Home) 82H801L7IN | 82H802FJIN | 82H802...   \n",
       "2  ASUS VivoBook 15 (2022) Core i3 10th Gen - (8 GB/512 GB SSD/Windows 11 Home) X515JA-EJ362WS | X515JA-E...   \n",
       "3  HP Pavilion Ryzen 5 Hexa Core AMD R5-5600H - (8 GB/512 GB SSD/Windows 10/4 GB Graphics/NVIDIA GeForce ...   \n",
       "4  ASUS TUF Gaming F15 Core i5 10th Gen - (8 GB/512 GB SSD/Windows 11 Home/4 GB Graphics/NVIDIA GeForce G...   \n",
       "\n",
       "   Rating    MRP  \\\n",
       "0     4.2  36990   \n",
       "1     4.2  39990   \n",
       "2     4.3  32990   \n",
       "3     4.4  49990   \n",
       "4     4.4  49990   \n",
       "\n",
       "                                                                                                                                                                                                                        Feature  \\\n",
       "0                                                       Intel Core i3 Processor (11th Gen)8 GB DDR4 RAM64 bit Windows 11 Operating System256 GB SSD35.56 cm (14 inch) DisplayOffice Home and Student 20212 Year Onsite�Warranty   \n",
       "1                                                     Intel Core i3 Processor (11th Gen)8 GB DDR4 RAM64 bit Windows 11 Operating System512 GB SSD39.62 cm (15.6 inch) DisplayOffice Home and Student 20212 Year Onsite�Warranty   \n",
       "2                                                     Intel Core i3 Processor (10th Gen)8 GB DDR4 RAM64 bit Windows 11 Operating System512 GB SSD39.62 cm (15.6 inch) DisplayOffice Home and Student 20211 Year Onsite Warranty   \n",
       "3  AMD Ryzen 5 Hexa Core Processor8 GB DDR4 RAM64 bit Windows 10 Operating System512 GB SSD39.62 cm (15.6 inch) DisplayHP Documentation, HP e-service, HP BIOS Recovery, HP SSRM, HP Smart, HP Jumpstarts1 Year Onsite Warranty   \n",
       "4                                                                                        Intel Core i5 Processor (10th Gen)8 GB DDR4 RAMWindows 11 Operating System512 GB SSD39.62 cm (15.6 inch) Display1 Year Onsite Warranty   \n",
       "\n",
       "    Brand Processor Operating System    Storage Storage Type  RAM Size  \\\n",
       "0  Lenovo     Intel       Windows 11  256GB SSD          SSD         8   \n",
       "1  Lenovo     Intel       Windows 11  512GB SSD          SSD         8   \n",
       "2    ASUS     Intel       Windows 11  512GB SSD          SSD         8   \n",
       "3      HP       AMD       Windows 10  512GB SSD          SSD         8   \n",
       "4    ASUS     Intel       Windows 11  512GB SSD          SSD         8   \n",
       "\n",
       "  RAM Type  \n",
       "0     DDR4  \n",
       "1     DDR4  \n",
       "2     DDR4  \n",
       "3     DDR4  \n",
       "4     DDR4  "
      ]
     },
     "execution_count": 50,
     "metadata": {},
     "output_type": "execute_result"
    }
   ],
   "source": [
    "#Dropping \"RAM\" feature \n",
    "\n",
    "df.drop ('RAM', axis = 1, inplace = True)\n",
    "df.head()"
   ]
  },
  {
   "cell_type": "code",
   "execution_count": 51,
   "id": "daaa784c",
   "metadata": {
    "scrolled": true
   },
   "outputs": [
    {
     "name": "stdout",
     "output_type": "stream",
     "text": [
      "<class 'pandas.core.frame.DataFrame'>\n",
      "RangeIndex: 720 entries, 0 to 719\n",
      "Data columns (total 11 columns):\n",
      " #   Column            Non-Null Count  Dtype  \n",
      "---  ------            --------------  -----  \n",
      " 0   Product           720 non-null    object \n",
      " 1   Rating            581 non-null    float64\n",
      " 2   MRP               720 non-null    int32  \n",
      " 3   Feature           720 non-null    object \n",
      " 4   Brand             720 non-null    object \n",
      " 5   Processor         720 non-null    object \n",
      " 6   Operating System  720 non-null    object \n",
      " 7   Storage           720 non-null    object \n",
      " 8   Storage Type      720 non-null    object \n",
      " 9   RAM Size          720 non-null    int64  \n",
      " 10  RAM Type          708 non-null    object \n",
      "dtypes: float64(1), int32(1), int64(1), object(8)\n",
      "memory usage: 59.2+ KB\n"
     ]
    }
   ],
   "source": [
    "df.info()"
   ]
  },
  {
   "cell_type": "code",
   "execution_count": 52,
   "id": "714339a3",
   "metadata": {},
   "outputs": [
    {
     "name": "stdout",
     "output_type": "stream",
     "text": [
      "Mean = 4.321170395869185\n",
      "Median = 4.3\n"
     ]
    }
   ],
   "source": [
    "# Rating has 581 non null values so ...\n",
    "mean=df['Rating'].mean()\n",
    "median=df['Rating'].median()\n",
    "print(\"Mean =\",mean)\n",
    "print(\"Median =\",median)"
   ]
  },
  {
   "cell_type": "code",
   "execution_count": 53,
   "id": "0c6a640c",
   "metadata": {},
   "outputs": [
    {
     "data": {
      "text/plain": [
       "<AxesSubplot:xlabel='Rating', ylabel='count'>"
      ]
     },
     "execution_count": 53,
     "metadata": {},
     "output_type": "execute_result"
    },
    {
     "data": {
      "image/png": "[encoded data removed]",
      "text/plain": [
       "<Figure size 640x480 with 1 Axes>"
      ]
     },
     "metadata": {},
     "output_type": "display_data"
    }
   ],
   "source": [
    "sns.countplot(df['Rating'])"
   ]
  },
  {
   "cell_type": "markdown",
   "id": "4fe7f72d",
   "metadata": {},
   "source": [
    "# Insight: Maximum laptop from the given dataset has 4.2 Rating which is good."
   ]
  },
  {
   "cell_type": "code",
   "execution_count": 54,
   "id": "c48d0047",
   "metadata": {},
   "outputs": [],
   "source": [
    "#Treating Missing values...\n",
    "df['Rating'].fillna(df['Rating'].median(), inplace=True)"
   ]
  },
  {
   "cell_type": "code",
   "execution_count": 55,
   "id": "6cc64d0d",
   "metadata": {},
   "outputs": [
    {
     "name": "stdout",
     "output_type": "stream",
     "text": [
      "<class 'pandas.core.frame.DataFrame'>\n",
      "RangeIndex: 720 entries, 0 to 719\n",
      "Data columns (total 11 columns):\n",
      " #   Column            Non-Null Count  Dtype  \n",
      "---  ------            --------------  -----  \n",
      " 0   Product           720 non-null    object \n",
      " 1   Rating            720 non-null    float64\n",
      " 2   MRP               720 non-null    int32  \n",
      " 3   Feature           720 non-null    object \n",
      " 4   Brand             720 non-null    object \n",
      " 5   Processor         720 non-null    object \n",
      " 6   Operating System  720 non-null    object \n",
      " 7   Storage           720 non-null    object \n",
      " 8   Storage Type      720 non-null    object \n",
      " 9   RAM Size          720 non-null    int64  \n",
      " 10  RAM Type          708 non-null    object \n",
      "dtypes: float64(1), int32(1), int64(1), object(8)\n",
      "memory usage: 59.2+ KB\n"
     ]
    }
   ],
   "source": [
    "df.info()"
   ]
  },
  {
   "cell_type": "code",
   "execution_count": 56,
   "id": "5a0cfaa7",
   "metadata": {},
   "outputs": [
    {
     "data": {
      "text/html": [
       "<div>\n",
       "<style scoped>\n",
       "    .dataframe tbody tr th:only-of-type {\n",
       "        vertical-align: middle;\n",
       "    }\n",
       "\n",
       "    .dataframe tbody tr th {\n",
       "        vertical-align: top;\n",
       "    }\n",
       "\n",
       "    .dataframe thead th {\n",
       "        text-align: right;\n",
       "    }\n",
       "</style>\n",
       "<table border=\"1\" class=\"dataframe\">\n",
       "  <thead>\n",
       "    <tr style=\"text-align: right;\">\n",
       "      <th></th>\n",
       "      <th>Product</th>\n",
       "      <th>Rating</th>\n",
       "      <th>MRP</th>\n",
       "      <th>Feature</th>\n",
       "      <th>Brand</th>\n",
       "      <th>Processor</th>\n",
       "      <th>Operating System</th>\n",
       "      <th>Storage</th>\n",
       "      <th>Storage Type</th>\n",
       "      <th>RAM Size</th>\n",
       "      <th>RAM Type</th>\n",
       "    </tr>\n",
       "  </thead>\n",
       "  <tbody>\n",
       "    <tr>\n",
       "      <th>0</th>\n",
       "      <td>Lenovo IdeaPad 3 Core i3 11th Gen - (8 GB/256 GB SSD/Windows 11 Home) 14ITL05 Thin and Light Laptop</td>\n",
       "      <td>4.2</td>\n",
       "      <td>36990</td>\n",
       "      <td>Intel Core i3 Processor (11th Gen)8 GB DDR4 RAM64 bit Windows 11 Operating System256 GB SSD35.56 cm (14 inch) DisplayOffice Home and Student 20212 Year Onsite�Warranty</td>\n",
       "      <td>Lenovo</td>\n",
       "      <td>Intel</td>\n",
       "      <td>Windows 11</td>\n",
       "      <td>256GB SSD</td>\n",
       "      <td>SSD</td>\n",
       "      <td>8</td>\n",
       "      <td>DDR4</td>\n",
       "    </tr>\n",
       "    <tr>\n",
       "      <th>1</th>\n",
       "      <td>Lenovo IdeaPad 3 Core i3 11th Gen - (8 GB/512 GB SSD/Windows 11 Home) 82H801L7IN | 82H802FJIN | 82H802...</td>\n",
       "      <td>4.2</td>\n",
       "      <td>39990</td>\n",
       "      <td>Intel Core i3 Processor (11th Gen)8 GB DDR4 RAM64 bit Windows 11 Operating System512 GB SSD39.62 cm (15.6 inch) DisplayOffice Home and Student 20212 Year Onsite�Warranty</td>\n",
       "      <td>Lenovo</td>\n",
       "      <td>Intel</td>\n",
       "      <td>Windows 11</td>\n",
       "      <td>512GB SSD</td>\n",
       "      <td>SSD</td>\n",
       "      <td>8</td>\n",
       "      <td>DDR4</td>\n",
       "    </tr>\n",
       "    <tr>\n",
       "      <th>2</th>\n",
       "      <td>ASUS VivoBook 15 (2022) Core i3 10th Gen - (8 GB/512 GB SSD/Windows 11 Home) X515JA-EJ362WS | X515JA-E...</td>\n",
       "      <td>4.3</td>\n",
       "      <td>32990</td>\n",
       "      <td>Intel Core i3 Processor (10th Gen)8 GB DDR4 RAM64 bit Windows 11 Operating System512 GB SSD39.62 cm (15.6 inch) DisplayOffice Home and Student 20211 Year Onsite Warranty</td>\n",
       "      <td>ASUS</td>\n",
       "      <td>Intel</td>\n",
       "      <td>Windows 11</td>\n",
       "      <td>512GB SSD</td>\n",
       "      <td>SSD</td>\n",
       "      <td>8</td>\n",
       "      <td>DDR4</td>\n",
       "    </tr>\n",
       "    <tr>\n",
       "      <th>3</th>\n",
       "      <td>HP Pavilion Ryzen 5 Hexa Core AMD R5-5600H - (8 GB/512 GB SSD/Windows 10/4 GB Graphics/NVIDIA GeForce ...</td>\n",
       "      <td>4.4</td>\n",
       "      <td>49990</td>\n",
       "      <td>AMD Ryzen 5 Hexa Core Processor8 GB DDR4 RAM64 bit Windows 10 Operating System512 GB SSD39.62 cm (15.6 inch) DisplayHP Documentation, HP e-service, HP BIOS Recovery, HP SSRM, HP Smart, HP Jumpstarts1 Year Onsite Warranty</td>\n",
       "      <td>HP</td>\n",
       "      <td>AMD</td>\n",
       "      <td>Windows 10</td>\n",
       "      <td>512GB SSD</td>\n",
       "      <td>SSD</td>\n",
       "      <td>8</td>\n",
       "      <td>DDR4</td>\n",
       "    </tr>\n",
       "    <tr>\n",
       "      <th>4</th>\n",
       "      <td>ASUS TUF Gaming F15 Core i5 10th Gen - (8 GB/512 GB SSD/Windows 11 Home/4 GB Graphics/NVIDIA GeForce G...</td>\n",
       "      <td>4.4</td>\n",
       "      <td>49990</td>\n",
       "      <td>Intel Core i5 Processor (10th Gen)8 GB DDR4 RAMWindows 11 Operating System512 GB SSD39.62 cm (15.6 inch) Display1 Year Onsite Warranty</td>\n",
       "      <td>ASUS</td>\n",
       "      <td>Intel</td>\n",
       "      <td>Windows 11</td>\n",
       "      <td>512GB SSD</td>\n",
       "      <td>SSD</td>\n",
       "      <td>8</td>\n",
       "      <td>DDR4</td>\n",
       "    </tr>\n",
       "    <tr>\n",
       "      <th>...</th>\n",
       "      <td>...</td>\n",
       "      <td>...</td>\n",
       "      <td>...</td>\n",
       "      <td>...</td>\n",
       "      <td>...</td>\n",
       "      <td>...</td>\n",
       "      <td>...</td>\n",
       "      <td>...</td>\n",
       "      <td>...</td>\n",
       "      <td>...</td>\n",
       "      <td>...</td>\n",
       "    </tr>\n",
       "    <tr>\n",
       "      <th>715</th>\n",
       "      <td>ASUS Chromebook Flip Touch Celeron Dual Core - (4 GB/64 GB EMMC Storage/Chrome OS) C214MA-BU0452 Chrom...</td>\n",
       "      <td>4.0</td>\n",
       "      <td>23490</td>\n",
       "      <td>Intel Celeron Dual Core Processor4 GB LPDDR4 RAMChrome Operating System29.46 cm (11.6 inch) Touchscreen Display1 Year Onsite Warranty</td>\n",
       "      <td>ASUS</td>\n",
       "      <td>Intel</td>\n",
       "      <td>Chrome</td>\n",
       "      <td>64GB EMMC</td>\n",
       "      <td>SSD</td>\n",
       "      <td>4</td>\n",
       "      <td>LPDDR4</td>\n",
       "    </tr>\n",
       "    <tr>\n",
       "      <th>716</th>\n",
       "      <td>Lenovo IdeaPad Gaming 3 Ryzen 7 Octa Core AMD R7-5800H - (8 GB/512 GB SSD/Windows 11 Home/4 GB Graphic...</td>\n",
       "      <td>4.5</td>\n",
       "      <td>73490</td>\n",
       "      <td>AMD Ryzen 7 Octa Core Processor8 GB DDR4 RAM64 bit Windows 11 Operating System512 GB SSD39.62 cm (15.6 inch) Display1 Year Onsite�Warranty�+ 1 Year Premium Care + 1 Year Accidental Damage Protection</td>\n",
       "      <td>Lenovo</td>\n",
       "      <td>AMD</td>\n",
       "      <td>Windows 11</td>\n",
       "      <td>512GB SSD</td>\n",
       "      <td>SSD</td>\n",
       "      <td>8</td>\n",
       "      <td>DDR4</td>\n",
       "    </tr>\n",
       "    <tr>\n",
       "      <th>717</th>\n",
       "      <td>ASUS ROG Zephyrus G15 Ryzen 9 Octa Core 6900HS - (16 GB/1 TB SSD/Windows 11 Home/8 GB Graphics/NVIDIA ...</td>\n",
       "      <td>4.3</td>\n",
       "      <td>194990</td>\n",
       "      <td>AMD Ryzen 9 Octa Core Processor16 GB DDR5 RAM64 bit Windows 11 Operating System1 TB SSD39.62 cm (15.6 inch) Display1 Year Onsite Warranty</td>\n",
       "      <td>ASUS</td>\n",
       "      <td>AMD</td>\n",
       "      <td>Windows 11</td>\n",
       "      <td>1TB SSD</td>\n",
       "      <td>SSD</td>\n",
       "      <td>16</td>\n",
       "      <td>DDR5</td>\n",
       "    </tr>\n",
       "    <tr>\n",
       "      <th>718</th>\n",
       "      <td>ASUS Zenbook Flip 14 OLED (2022) Touch Panel Core i7 12th Gen - (16 GB/512 GB SSD/Windows 11 Home) UP5...</td>\n",
       "      <td>3.0</td>\n",
       "      <td>125990</td>\n",
       "      <td>Intel Core i7 Processor (12th Gen)16 GB LPDDR5 RAM64 bit Windows 11 Operating System512 GB SSD35.56 cm (14 inch) Touchscreen Display1 Year Onsite Warranty</td>\n",
       "      <td>ASUS</td>\n",
       "      <td>Intel</td>\n",
       "      <td>Windows 11</td>\n",
       "      <td>512GB SSD</td>\n",
       "      <td>SSD</td>\n",
       "      <td>16</td>\n",
       "      <td>LPDDR5</td>\n",
       "    </tr>\n",
       "    <tr>\n",
       "      <th>719</th>\n",
       "      <td>Lenovo Ideapad Slim 3i Core i5 10th Gen - (8 GB/1 TB HDD/256 GB SSD/Windows 10 Home) 15IIL05 Laptop</td>\n",
       "      <td>4.2</td>\n",
       "      <td>50990</td>\n",
       "      <td>Intel Core i5 Processor (10th Gen)8 GB DDR4 RAM64 bit Windows 10 Operating System1 TB HDD|256 GB SSD39.62 cm (15.6 inch) DisplayMicrosoft Office Home and Student 20191 Year Onsite Warranty</td>\n",
       "      <td>Lenovo</td>\n",
       "      <td>Intel</td>\n",
       "      <td>Windows 10</td>\n",
       "      <td>1TB HDD</td>\n",
       "      <td>HDD</td>\n",
       "      <td>8</td>\n",
       "      <td>DDR4</td>\n",
       "    </tr>\n",
       "  </tbody>\n",
       "</table>\n",
       "<p>708 rows × 11 columns</p>\n",
       "</div>"
      ],
      "text/plain": [
       "                                                                                                       Product  \\\n",
       "0          Lenovo IdeaPad 3 Core i3 11th Gen - (8 GB/256 GB SSD/Windows 11 Home) 14ITL05 Thin and Light Laptop   \n",
       "1    Lenovo IdeaPad 3 Core i3 11th Gen - (8 GB/512 GB SSD/Windows 11 Home) 82H801L7IN | 82H802FJIN | 82H802...   \n",
       "2    ASUS VivoBook 15 (2022) Core i3 10th Gen - (8 GB/512 GB SSD/Windows 11 Home) X515JA-EJ362WS | X515JA-E...   \n",
       "3    HP Pavilion Ryzen 5 Hexa Core AMD R5-5600H - (8 GB/512 GB SSD/Windows 10/4 GB Graphics/NVIDIA GeForce ...   \n",
       "4    ASUS TUF Gaming F15 Core i5 10th Gen - (8 GB/512 GB SSD/Windows 11 Home/4 GB Graphics/NVIDIA GeForce G...   \n",
       "..                                                                                                         ...   \n",
       "715  ASUS Chromebook Flip Touch Celeron Dual Core - (4 GB/64 GB EMMC Storage/Chrome OS) C214MA-BU0452 Chrom...   \n",
       "716  Lenovo IdeaPad Gaming 3 Ryzen 7 Octa Core AMD R7-5800H - (8 GB/512 GB SSD/Windows 11 Home/4 GB Graphic...   \n",
       "717  ASUS ROG Zephyrus G15 Ryzen 9 Octa Core 6900HS - (16 GB/1 TB SSD/Windows 11 Home/8 GB Graphics/NVIDIA ...   \n",
       "718  ASUS Zenbook Flip 14 OLED (2022) Touch Panel Core i7 12th Gen - (16 GB/512 GB SSD/Windows 11 Home) UP5...   \n",
       "719        Lenovo Ideapad Slim 3i Core i5 10th Gen - (8 GB/1 TB HDD/256 GB SSD/Windows 10 Home) 15IIL05 Laptop   \n",
       "\n",
       "     Rating     MRP  \\\n",
       "0       4.2   36990   \n",
       "1       4.2   39990   \n",
       "2       4.3   32990   \n",
       "3       4.4   49990   \n",
       "4       4.4   49990   \n",
       "..      ...     ...   \n",
       "715     4.0   23490   \n",
       "716     4.5   73490   \n",
       "717     4.3  194990   \n",
       "718     3.0  125990   \n",
       "719     4.2   50990   \n",
       "\n",
       "                                                                                                                                                                                                                          Feature  \\\n",
       "0                                                         Intel Core i3 Processor (11th Gen)8 GB DDR4 RAM64 bit Windows 11 Operating System256 GB SSD35.56 cm (14 inch) DisplayOffice Home and Student 20212 Year Onsite�Warranty   \n",
       "1                                                       Intel Core i3 Processor (11th Gen)8 GB DDR4 RAM64 bit Windows 11 Operating System512 GB SSD39.62 cm (15.6 inch) DisplayOffice Home and Student 20212 Year Onsite�Warranty   \n",
       "2                                                       Intel Core i3 Processor (10th Gen)8 GB DDR4 RAM64 bit Windows 11 Operating System512 GB SSD39.62 cm (15.6 inch) DisplayOffice Home and Student 20211 Year Onsite Warranty   \n",
       "3    AMD Ryzen 5 Hexa Core Processor8 GB DDR4 RAM64 bit Windows 10 Operating System512 GB SSD39.62 cm (15.6 inch) DisplayHP Documentation, HP e-service, HP BIOS Recovery, HP SSRM, HP Smart, HP Jumpstarts1 Year Onsite Warranty   \n",
       "4                                                                                          Intel Core i5 Processor (10th Gen)8 GB DDR4 RAMWindows 11 Operating System512 GB SSD39.62 cm (15.6 inch) Display1 Year Onsite Warranty   \n",
       "..                                                                                                                                                                                                                            ...   \n",
       "715                                                                                         Intel Celeron Dual Core Processor4 GB LPDDR4 RAMChrome Operating System29.46 cm (11.6 inch) Touchscreen Display1 Year Onsite Warranty   \n",
       "716                        AMD Ryzen 7 Octa Core Processor8 GB DDR4 RAM64 bit Windows 11 Operating System512 GB SSD39.62 cm (15.6 inch) Display1 Year Onsite�Warranty�+ 1 Year Premium Care + 1 Year Accidental Damage Protection   \n",
       "717                                                                                     AMD Ryzen 9 Octa Core Processor16 GB DDR5 RAM64 bit Windows 11 Operating System1 TB SSD39.62 cm (15.6 inch) Display1 Year Onsite Warranty   \n",
       "718                                                                    Intel Core i7 Processor (12th Gen)16 GB LPDDR5 RAM64 bit Windows 11 Operating System512 GB SSD35.56 cm (14 inch) Touchscreen Display1 Year Onsite Warranty   \n",
       "719                                  Intel Core i5 Processor (10th Gen)8 GB DDR4 RAM64 bit Windows 10 Operating System1 TB HDD|256 GB SSD39.62 cm (15.6 inch) DisplayMicrosoft Office Home and Student 20191 Year Onsite Warranty   \n",
       "\n",
       "      Brand Processor Operating System    Storage Storage Type  RAM Size  \\\n",
       "0    Lenovo     Intel       Windows 11  256GB SSD          SSD         8   \n",
       "1    Lenovo     Intel       Windows 11  512GB SSD          SSD         8   \n",
       "2      ASUS     Intel       Windows 11  512GB SSD          SSD         8   \n",
       "3        HP       AMD       Windows 10  512GB SSD          SSD         8   \n",
       "4      ASUS     Intel       Windows 11  512GB SSD          SSD         8   \n",
       "..      ...       ...              ...        ...          ...       ...   \n",
       "715    ASUS     Intel           Chrome  64GB EMMC          SSD         4   \n",
       "716  Lenovo       AMD       Windows 11  512GB SSD          SSD         8   \n",
       "717    ASUS       AMD       Windows 11    1TB SSD          SSD        16   \n",
       "718    ASUS     Intel       Windows 11  512GB SSD          SSD        16   \n",
       "719  Lenovo     Intel       Windows 10    1TB HDD          HDD         8   \n",
       "\n",
       "    RAM Type  \n",
       "0       DDR4  \n",
       "1       DDR4  \n",
       "2       DDR4  \n",
       "3       DDR4  \n",
       "4       DDR4  \n",
       "..       ...  \n",
       "715   LPDDR4  \n",
       "716     DDR4  \n",
       "717     DDR5  \n",
       "718   LPDDR5  \n",
       "719     DDR4  \n",
       "\n",
       "[708 rows x 11 columns]"
      ]
     },
     "execution_count": 56,
     "metadata": {},
     "output_type": "execute_result"
    }
   ],
   "source": [
    "# Dropping Rows which have Null Values\n",
    "dfresult = df.dropna()\n",
    "dfresult"
   ]
  },
  {
   "cell_type": "code",
   "execution_count": 57,
   "id": "8351f28c",
   "metadata": {},
   "outputs": [],
   "source": [
    "# dfresult is still showing INDEX wrong \n",
    "dfresult.reset_index(inplace = True)"
   ]
  },
  {
   "cell_type": "code",
   "execution_count": 58,
   "id": "d004e54e",
   "metadata": {},
   "outputs": [
    {
     "data": {
      "text/html": [
       "<div>\n",
       "<style scoped>\n",
       "    .dataframe tbody tr th:only-of-type {\n",
       "        vertical-align: middle;\n",
       "    }\n",
       "\n",
       "    .dataframe tbody tr th {\n",
       "        vertical-align: top;\n",
       "    }\n",
       "\n",
       "    .dataframe thead th {\n",
       "        text-align: right;\n",
       "    }\n",
       "</style>\n",
       "<table border=\"1\" class=\"dataframe\">\n",
       "  <thead>\n",
       "    <tr style=\"text-align: right;\">\n",
       "      <th></th>\n",
       "      <th>Product</th>\n",
       "      <th>Rating</th>\n",
       "      <th>MRP</th>\n",
       "      <th>Feature</th>\n",
       "      <th>Brand</th>\n",
       "      <th>Processor</th>\n",
       "      <th>Operating System</th>\n",
       "      <th>Storage</th>\n",
       "      <th>Storage Type</th>\n",
       "      <th>RAM Size</th>\n",
       "      <th>RAM Type</th>\n",
       "    </tr>\n",
       "  </thead>\n",
       "  <tbody>\n",
       "    <tr>\n",
       "      <th>703</th>\n",
       "      <td>ASUS Chromebook Flip Touch Celeron Dual Core - (4 GB/64 GB EMMC Storage/Chrome OS) C214MA-BU0452 Chrom...</td>\n",
       "      <td>4.0</td>\n",
       "      <td>23490</td>\n",
       "      <td>Intel Celeron Dual Core Processor4 GB LPDDR4 RAMChrome Operating System29.46 cm (11.6 inch) Touchscreen Display1 Year Onsite Warranty</td>\n",
       "      <td>ASUS</td>\n",
       "      <td>Intel</td>\n",
       "      <td>Chrome</td>\n",
       "      <td>64GB EMMC</td>\n",
       "      <td>SSD</td>\n",
       "      <td>4</td>\n",
       "      <td>LPDDR4</td>\n",
       "    </tr>\n",
       "    <tr>\n",
       "      <th>704</th>\n",
       "      <td>Lenovo IdeaPad Gaming 3 Ryzen 7 Octa Core AMD R7-5800H - (8 GB/512 GB SSD/Windows 11 Home/4 GB Graphic...</td>\n",
       "      <td>4.5</td>\n",
       "      <td>73490</td>\n",
       "      <td>AMD Ryzen 7 Octa Core Processor8 GB DDR4 RAM64 bit Windows 11 Operating System512 GB SSD39.62 cm (15.6 inch) Display1 Year Onsite�Warranty�+ 1 Year Premium Care + 1 Year Accidental Damage Protection</td>\n",
       "      <td>Lenovo</td>\n",
       "      <td>AMD</td>\n",
       "      <td>Windows 11</td>\n",
       "      <td>512GB SSD</td>\n",
       "      <td>SSD</td>\n",
       "      <td>8</td>\n",
       "      <td>DDR4</td>\n",
       "    </tr>\n",
       "    <tr>\n",
       "      <th>705</th>\n",
       "      <td>ASUS ROG Zephyrus G15 Ryzen 9 Octa Core 6900HS - (16 GB/1 TB SSD/Windows 11 Home/8 GB Graphics/NVIDIA ...</td>\n",
       "      <td>4.3</td>\n",
       "      <td>194990</td>\n",
       "      <td>AMD Ryzen 9 Octa Core Processor16 GB DDR5 RAM64 bit Windows 11 Operating System1 TB SSD39.62 cm (15.6 inch) Display1 Year Onsite Warranty</td>\n",
       "      <td>ASUS</td>\n",
       "      <td>AMD</td>\n",
       "      <td>Windows 11</td>\n",
       "      <td>1TB SSD</td>\n",
       "      <td>SSD</td>\n",
       "      <td>16</td>\n",
       "      <td>DDR5</td>\n",
       "    </tr>\n",
       "    <tr>\n",
       "      <th>706</th>\n",
       "      <td>ASUS Zenbook Flip 14 OLED (2022) Touch Panel Core i7 12th Gen - (16 GB/512 GB SSD/Windows 11 Home) UP5...</td>\n",
       "      <td>3.0</td>\n",
       "      <td>125990</td>\n",
       "      <td>Intel Core i7 Processor (12th Gen)16 GB LPDDR5 RAM64 bit Windows 11 Operating System512 GB SSD35.56 cm (14 inch) Touchscreen Display1 Year Onsite Warranty</td>\n",
       "      <td>ASUS</td>\n",
       "      <td>Intel</td>\n",
       "      <td>Windows 11</td>\n",
       "      <td>512GB SSD</td>\n",
       "      <td>SSD</td>\n",
       "      <td>16</td>\n",
       "      <td>LPDDR5</td>\n",
       "    </tr>\n",
       "    <tr>\n",
       "      <th>707</th>\n",
       "      <td>Lenovo Ideapad Slim 3i Core i5 10th Gen - (8 GB/1 TB HDD/256 GB SSD/Windows 10 Home) 15IIL05 Laptop</td>\n",
       "      <td>4.2</td>\n",
       "      <td>50990</td>\n",
       "      <td>Intel Core i5 Processor (10th Gen)8 GB DDR4 RAM64 bit Windows 10 Operating System1 TB HDD|256 GB SSD39.62 cm (15.6 inch) DisplayMicrosoft Office Home and Student 20191 Year Onsite Warranty</td>\n",
       "      <td>Lenovo</td>\n",
       "      <td>Intel</td>\n",
       "      <td>Windows 10</td>\n",
       "      <td>1TB HDD</td>\n",
       "      <td>HDD</td>\n",
       "      <td>8</td>\n",
       "      <td>DDR4</td>\n",
       "    </tr>\n",
       "  </tbody>\n",
       "</table>\n",
       "</div>"
      ],
      "text/plain": [
       "                                                                                                       Product  \\\n",
       "703  ASUS Chromebook Flip Touch Celeron Dual Core - (4 GB/64 GB EMMC Storage/Chrome OS) C214MA-BU0452 Chrom...   \n",
       "704  Lenovo IdeaPad Gaming 3 Ryzen 7 Octa Core AMD R7-5800H - (8 GB/512 GB SSD/Windows 11 Home/4 GB Graphic...   \n",
       "705  ASUS ROG Zephyrus G15 Ryzen 9 Octa Core 6900HS - (16 GB/1 TB SSD/Windows 11 Home/8 GB Graphics/NVIDIA ...   \n",
       "706  ASUS Zenbook Flip 14 OLED (2022) Touch Panel Core i7 12th Gen - (16 GB/512 GB SSD/Windows 11 Home) UP5...   \n",
       "707        Lenovo Ideapad Slim 3i Core i5 10th Gen - (8 GB/1 TB HDD/256 GB SSD/Windows 10 Home) 15IIL05 Laptop   \n",
       "\n",
       "     Rating     MRP  \\\n",
       "703     4.0   23490   \n",
       "704     4.5   73490   \n",
       "705     4.3  194990   \n",
       "706     3.0  125990   \n",
       "707     4.2   50990   \n",
       "\n",
       "                                                                                                                                                                                                    Feature  \\\n",
       "703                                                                   Intel Celeron Dual Core Processor4 GB LPDDR4 RAMChrome Operating System29.46 cm (11.6 inch) Touchscreen Display1 Year Onsite Warranty   \n",
       "704  AMD Ryzen 7 Octa Core Processor8 GB DDR4 RAM64 bit Windows 11 Operating System512 GB SSD39.62 cm (15.6 inch) Display1 Year Onsite�Warranty�+ 1 Year Premium Care + 1 Year Accidental Damage Protection   \n",
       "705                                                               AMD Ryzen 9 Octa Core Processor16 GB DDR5 RAM64 bit Windows 11 Operating System1 TB SSD39.62 cm (15.6 inch) Display1 Year Onsite Warranty   \n",
       "706                                              Intel Core i7 Processor (12th Gen)16 GB LPDDR5 RAM64 bit Windows 11 Operating System512 GB SSD35.56 cm (14 inch) Touchscreen Display1 Year Onsite Warranty   \n",
       "707            Intel Core i5 Processor (10th Gen)8 GB DDR4 RAM64 bit Windows 10 Operating System1 TB HDD|256 GB SSD39.62 cm (15.6 inch) DisplayMicrosoft Office Home and Student 20191 Year Onsite Warranty   \n",
       "\n",
       "      Brand Processor Operating System    Storage Storage Type  RAM Size  \\\n",
       "703    ASUS     Intel           Chrome  64GB EMMC          SSD         4   \n",
       "704  Lenovo       AMD       Windows 11  512GB SSD          SSD         8   \n",
       "705    ASUS       AMD       Windows 11    1TB SSD          SSD        16   \n",
       "706    ASUS     Intel       Windows 11  512GB SSD          SSD        16   \n",
       "707  Lenovo     Intel       Windows 10    1TB HDD          HDD         8   \n",
       "\n",
       "    RAM Type  \n",
       "703   LPDDR4  \n",
       "704     DDR4  \n",
       "705     DDR5  \n",
       "706   LPDDR5  \n",
       "707     DDR4  "
      ]
     },
     "execution_count": 58,
     "metadata": {},
     "output_type": "execute_result"
    }
   ],
   "source": [
    "dfresult=dfresult.drop(['index'], axis=1)\n",
    "dfresult.tail()"
   ]
  },
  {
   "cell_type": "markdown",
   "id": "186adeec",
   "metadata": {},
   "source": [
    "Now indexing is correct."
   ]
  },
  {
   "cell_type": "markdown",
   "id": "e28c1a4a",
   "metadata": {},
   "source": [
    "# Univariate Analysis and Bivariate analysis\n"
   ]
  },
  {
   "cell_type": "code",
   "execution_count": 59,
   "id": "389225f7",
   "metadata": {},
   "outputs": [
    {
     "data": {
      "text/plain": [
       "<AxesSubplot:xlabel='MRP', ylabel='Density'>"
      ]
     },
     "execution_count": 59,
     "metadata": {},
     "output_type": "execute_result"
    },
    {
     "data": {
      "image/png": "[encoded data removed]",
      "text/plain": [
       "<Figure size 640x480 with 1 Axes>"
      ]
     },
     "metadata": {},
     "output_type": "display_data"
    }
   ],
   "source": [
    "sns.distplot(dfresult['MRP'],rug=True)"
   ]
  },
  {
   "cell_type": "raw",
   "id": "7db22929",
   "metadata": {},
   "source": [
    "Conclusion: From the Distribution plot, Most laptops in the dataset are priced between the range of 50K to 60K Rupees."
   ]
  },
  {
   "cell_type": "code",
   "execution_count": 60,
   "id": "d6830ba2",
   "metadata": {
    "scrolled": true
   },
   "outputs": [
    {
     "data": {
      "image/png": "[encoded data removed]",
      "text/plain": [
       "<Figure size 1200x500 with 1 Axes>"
      ]
     },
     "metadata": {},
     "output_type": "display_data"
    }
   ],
   "source": [
    "# MRP and Brand features\n",
    "fig = plt.subplots(figsize=(12,5))\n",
    "sns.barplot(data=dfresult, x='Brand', y='MRP')\n",
    "plt.show()"
   ]
  },
  {
   "cell_type": "raw",
   "id": "27f1fe72",
   "metadata": {},
   "source": [
    "Alienware laptops Prices are High, then followed by MSI.\n",
    "Whereas Asus, HP, DELL, Lenovo are budget friendly laptops."
   ]
  },
  {
   "cell_type": "code",
   "execution_count": 61,
   "id": "f763259b",
   "metadata": {
    "scrolled": true
   },
   "outputs": [
    {
     "data": {
      "text/plain": [
       "<AxesSubplot:>"
      ]
     },
     "execution_count": 61,
     "metadata": {},
     "output_type": "execute_result"
    },
    {
     "data": {
      "image/png": "[encoded data removed]",
      "text/plain": [
       "<Figure size 1400x400 with 1 Axes>"
      ]
     },
     "metadata": {},
     "output_type": "display_data"
    }
   ],
   "source": [
    "df['MRP'].plot(kind='box', figsize=(14,4))"
   ]
  },
  {
   "cell_type": "raw",
   "id": "57d59026",
   "metadata": {},
   "source": [
    "Many Outliers are present in MRP Feature so if we drop these outliers then we will not get High Accuracy of Model so transformation should be applied."
   ]
  },
  {
   "cell_type": "code",
   "execution_count": 62,
   "id": "d0234662",
   "metadata": {},
   "outputs": [
    {
     "data": {
      "image/png": "[encoded data removed]",
      "text/plain": [
       "<Figure size 1200x500 with 2 Axes>"
      ]
     },
     "metadata": {},
     "output_type": "display_data"
    }
   ],
   "source": [
    "# MRP and Processors\n",
    "fig, axes = plt.subplots(1, 2, figsize=(12,5))\n",
    "sns.barplot(data=dfresult, x='Processor', y='MRP', ax=axes[0])\n",
    "sns.boxplot(data=dfresult, x='Processor', y='MRP', ax=axes[1])\n",
    "plt.show()"
   ]
  },
  {
   "cell_type": "code",
   "execution_count": 63,
   "id": "32063d4b",
   "metadata": {},
   "outputs": [
    {
     "data": {
      "image/png": "[encoded data removed]",
      "text/plain": [
       "<Figure size 1200x500 with 1 Axes>"
      ]
     },
     "metadata": {},
     "output_type": "display_data"
    }
   ],
   "source": [
    "# MRP and Operating System features\n",
    "fig = plt.subplots(figsize=(12,5))\n",
    "sns.barplot(data=dfresult, x='Operating System', y='MRP')\n",
    "plt.show()"
   ]
  },
  {
   "cell_type": "code",
   "execution_count": 64,
   "id": "26ae3e41",
   "metadata": {},
   "outputs": [
    {
     "data": {
      "image/png": "[encoded data removed]",
      "text/plain": [
       "<Figure size 1200x500 with 1 Axes>"
      ]
     },
     "metadata": {},
     "output_type": "display_data"
    }
   ],
   "source": [
    "fig = plt.subplots(figsize=(12,5))\n",
    "sns.boxplot(data=dfresult, x='Operating System', y='MRP')\n",
    "plt.show()"
   ]
  },
  {
   "cell_type": "raw",
   "id": "ea9832f7",
   "metadata": {},
   "source": [
    "Order of OUTLIERS in descending order: Win11 > Win10 > Mac"
   ]
  },
  {
   "cell_type": "code",
   "execution_count": 65,
   "id": "60361e0a",
   "metadata": {},
   "outputs": [
    {
     "data": {
      "image/png": "[encoded data removed]",
      "text/plain": [
       "<Figure size 800x640 with 2 Axes>"
      ]
     },
     "metadata": {},
     "output_type": "display_data"
    }
   ],
   "source": [
    "#Co-relation betweet MRP and Numerical Features using a HeatMap\n",
    "\n",
    "plt.figure(figsize=(10,8), dpi= 80)\n",
    "sns.heatmap(dfresult.corr(), cmap='Blues', center=0, annot=True)\n",
    "\n",
    "plt.title('Co-Relation among Features', fontsize=16)\n",
    "plt.xticks(fontsize= 12, rotation = 90)\n",
    "plt.yticks(fontsize= 12)\n",
    "plt.show()"
   ]
  },
  {
   "cell_type": "markdown",
   "id": "5bc27d86",
   "metadata": {},
   "source": [
    "# Insight: RAM Size has 65% Impact on the Laptop Pricing"
   ]
  },
  {
   "cell_type": "code",
   "execution_count": 66,
   "id": "91a0aedb",
   "metadata": {},
   "outputs": [
    {
     "data": {
      "image/png": "[encoded data removed]",
      "text/plain": [
       "<Figure size 1400x400 with 1 Axes>"
      ]
     },
     "metadata": {},
     "output_type": "display_data"
    }
   ],
   "source": [
    "# MRP and Storage\n",
    "fig= plt.subplots(figsize=(14,4))\n",
    "sns.barplot(data=dfresult, x='Storage', y='MRP')\n",
    "plt.show()"
   ]
  },
  {
   "cell_type": "code",
   "execution_count": 67,
   "id": "e91e5548",
   "metadata": {
    "scrolled": true
   },
   "outputs": [
    {
     "data": {
      "image/png": "[encoded data removed]",
      "text/plain": [
       "<Figure size 1400x400 with 1 Axes>"
      ]
     },
     "metadata": {},
     "output_type": "display_data"
    }
   ],
   "source": [
    "# MRP and Storage\n",
    "fig= plt.subplots(figsize=(14,4))\n",
    "sns.boxplot(data=dfresult, x='Storage', y='MRP')\n",
    "plt.show()"
   ]
  },
  {
   "cell_type": "code",
   "execution_count": 68,
   "id": "ce6e3e02",
   "metadata": {},
   "outputs": [
    {
     "data": {
      "image/png": "[encoded data removed]",
      "text/plain": [
       "<Figure size 400x200 with 1 Axes>"
      ]
     },
     "metadata": {},
     "output_type": "display_data"
    }
   ],
   "source": [
    "# MRP and Storage Type\n",
    "fig= plt.subplots(figsize=(4,2))\n",
    "sns.barplot(data=dfresult, x='Storage Type', y='MRP')\n",
    "plt.show()"
   ]
  },
  {
   "cell_type": "code",
   "execution_count": 69,
   "id": "c7c9bd0c",
   "metadata": {},
   "outputs": [
    {
     "data": {
      "image/png": "[encoded data removed]",
      "text/plain": [
       "<Figure size 600x400 with 1 Axes>"
      ]
     },
     "metadata": {},
     "output_type": "display_data"
    }
   ],
   "source": [
    "# MRP and Storage Type\n",
    "fig= plt.subplots(figsize=(6,4))\n",
    "sns.boxplot(data=dfresult, x='Storage Type', y='MRP')\n",
    "plt.show()"
   ]
  },
  {
   "cell_type": "code",
   "execution_count": 70,
   "id": "b9bb2f24",
   "metadata": {
    "scrolled": true
   },
   "outputs": [
    {
     "data": {
      "image/png": "[encoded data removed]",
      "text/plain": [
       "<Figure size 800x600 with 1 Axes>"
      ]
     },
     "metadata": {},
     "output_type": "display_data"
    }
   ],
   "source": [
    "# MRP and RAM Size\n",
    "fig= plt.subplots(figsize=(8,6))\n",
    "sns.boxplot(data=dfresult, x='RAM Size', y='MRP')\n",
    "plt.show()"
   ]
  },
  {
   "cell_type": "code",
   "execution_count": 71,
   "id": "1341a5a2",
   "metadata": {
    "scrolled": true
   },
   "outputs": [
    {
     "data": {
      "image/png": "[encoded data removed]",
      "text/plain": [
       "<Figure size 1200x400 with 1 Axes>"
      ]
     },
     "metadata": {},
     "output_type": "display_data"
    }
   ],
   "source": [
    "# MRP and RAM Type\n",
    "fig= plt.subplots(figsize=(12,4))\n",
    "sns.boxplot(data=dfresult, x='RAM Type', y='MRP')\n",
    "plt.show()"
   ]
  },
  {
   "cell_type": "code",
   "execution_count": 72,
   "id": "7f65d875",
   "metadata": {},
   "outputs": [
    {
     "data": {
      "text/plain": [
       "<AxesSubplot:xlabel='RAM Size', ylabel='count'>"
      ]
     },
     "execution_count": 72,
     "metadata": {},
     "output_type": "execute_result"
    },
    {
     "data": {
      "image/png": "[encoded data removed]",
      "text/plain": [
       "<Figure size 640x480 with 1 Axes>"
      ]
     },
     "metadata": {},
     "output_type": "display_data"
    }
   ],
   "source": [
    "sns.countplot(dfresult['RAM Size'])"
   ]
  },
  {
   "cell_type": "code",
   "execution_count": 73,
   "id": "c74b47f6",
   "metadata": {},
   "outputs": [
    {
     "data": {
      "text/plain": [
       "count    708.000000\n",
       "mean      11.237288\n",
       "std        5.161622\n",
       "min        4.000000\n",
       "25%        8.000000\n",
       "50%        8.000000\n",
       "75%       16.000000\n",
       "max       32.000000\n",
       "Name: RAM Size, dtype: float64"
      ]
     },
     "execution_count": 73,
     "metadata": {},
     "output_type": "execute_result"
    }
   ],
   "source": [
    "dfresult['RAM Size'].describe()"
   ]
  },
  {
   "cell_type": "code",
   "execution_count": 74,
   "id": "e9019a97",
   "metadata": {},
   "outputs": [
    {
     "data": {
      "text/plain": [
       "Index(['Product', 'Rating', 'MRP', 'Feature', 'Brand', 'Processor',\n",
       "       'Operating System', 'Storage', 'Storage Type', 'RAM Size', 'RAM Type'],\n",
       "      dtype='object')"
      ]
     },
     "execution_count": 74,
     "metadata": {},
     "output_type": "execute_result"
    }
   ],
   "source": [
    "dfresult.columns"
   ]
  },
  {
   "cell_type": "code",
   "execution_count": 75,
   "id": "ea6323aa",
   "metadata": {},
   "outputs": [
    {
     "data": {
      "text/html": [
       "<div>\n",
       "<style scoped>\n",
       "    .dataframe tbody tr th:only-of-type {\n",
       "        vertical-align: middle;\n",
       "    }\n",
       "\n",
       "    .dataframe tbody tr th {\n",
       "        vertical-align: top;\n",
       "    }\n",
       "\n",
       "    .dataframe thead th {\n",
       "        text-align: right;\n",
       "    }\n",
       "</style>\n",
       "<table border=\"1\" class=\"dataframe\">\n",
       "  <thead>\n",
       "    <tr style=\"text-align: right;\">\n",
       "      <th></th>\n",
       "      <th>MRP</th>\n",
       "      <th>Brand</th>\n",
       "      <th>Processor</th>\n",
       "      <th>Operating System</th>\n",
       "      <th>Storage</th>\n",
       "      <th>Storage Type</th>\n",
       "      <th>RAM Size</th>\n",
       "      <th>RAM Type</th>\n",
       "    </tr>\n",
       "  </thead>\n",
       "  <tbody>\n",
       "    <tr>\n",
       "      <th>0</th>\n",
       "      <td>36990</td>\n",
       "      <td>Lenovo</td>\n",
       "      <td>Intel</td>\n",
       "      <td>Windows 11</td>\n",
       "      <td>256GB SSD</td>\n",
       "      <td>SSD</td>\n",
       "      <td>8</td>\n",
       "      <td>DDR4</td>\n",
       "    </tr>\n",
       "    <tr>\n",
       "      <th>1</th>\n",
       "      <td>39990</td>\n",
       "      <td>Lenovo</td>\n",
       "      <td>Intel</td>\n",
       "      <td>Windows 11</td>\n",
       "      <td>512GB SSD</td>\n",
       "      <td>SSD</td>\n",
       "      <td>8</td>\n",
       "      <td>DDR4</td>\n",
       "    </tr>\n",
       "    <tr>\n",
       "      <th>2</th>\n",
       "      <td>32990</td>\n",
       "      <td>ASUS</td>\n",
       "      <td>Intel</td>\n",
       "      <td>Windows 11</td>\n",
       "      <td>512GB SSD</td>\n",
       "      <td>SSD</td>\n",
       "      <td>8</td>\n",
       "      <td>DDR4</td>\n",
       "    </tr>\n",
       "    <tr>\n",
       "      <th>3</th>\n",
       "      <td>49990</td>\n",
       "      <td>HP</td>\n",
       "      <td>AMD</td>\n",
       "      <td>Windows 10</td>\n",
       "      <td>512GB SSD</td>\n",
       "      <td>SSD</td>\n",
       "      <td>8</td>\n",
       "      <td>DDR4</td>\n",
       "    </tr>\n",
       "    <tr>\n",
       "      <th>4</th>\n",
       "      <td>49990</td>\n",
       "      <td>ASUS</td>\n",
       "      <td>Intel</td>\n",
       "      <td>Windows 11</td>\n",
       "      <td>512GB SSD</td>\n",
       "      <td>SSD</td>\n",
       "      <td>8</td>\n",
       "      <td>DDR4</td>\n",
       "    </tr>\n",
       "  </tbody>\n",
       "</table>\n",
       "</div>"
      ],
      "text/plain": [
       "     MRP   Brand Processor Operating System    Storage Storage Type  RAM Size  \\\n",
       "0  36990  Lenovo     Intel       Windows 11  256GB SSD          SSD         8   \n",
       "1  39990  Lenovo     Intel       Windows 11  512GB SSD          SSD         8   \n",
       "2  32990    ASUS     Intel       Windows 11  512GB SSD          SSD         8   \n",
       "3  49990      HP       AMD       Windows 10  512GB SSD          SSD         8   \n",
       "4  49990    ASUS     Intel       Windows 11  512GB SSD          SSD         8   \n",
       "\n",
       "  RAM Type  \n",
       "0     DDR4  \n",
       "1     DDR4  \n",
       "2     DDR4  \n",
       "3     DDR4  \n",
       "4     DDR4  "
      ]
     },
     "execution_count": 75,
     "metadata": {},
     "output_type": "execute_result"
    }
   ],
   "source": [
    "ml_df = dfresult.drop(['Product', 'Rating', 'Feature'], axis=1)\n",
    "ml_df.head()"
   ]
  },
  {
   "cell_type": "code",
   "execution_count": 76,
   "id": "55f82e89",
   "metadata": {},
   "outputs": [],
   "source": [
    "ml_df.to_csv('Final_laptop_details.csv', index = False)"
   ]
  },
  {
   "cell_type": "code",
   "execution_count": 77,
   "id": "111c954b",
   "metadata": {},
   "outputs": [
    {
     "name": "stdout",
     "output_type": "stream",
     "text": [
      "<class 'pandas.core.frame.DataFrame'>\n",
      "RangeIndex: 708 entries, 0 to 707\n",
      "Data columns (total 8 columns):\n",
      " #   Column            Non-Null Count  Dtype \n",
      "---  ------            --------------  ----- \n",
      " 0   MRP               708 non-null    int32 \n",
      " 1   Brand             708 non-null    object\n",
      " 2   Processor         708 non-null    object\n",
      " 3   Operating System  708 non-null    object\n",
      " 4   Storage           708 non-null    object\n",
      " 5   Storage Type      708 non-null    object\n",
      " 6   RAM Size          708 non-null    int64 \n",
      " 7   RAM Type          708 non-null    object\n",
      "dtypes: int32(1), int64(1), object(6)\n",
      "memory usage: 41.6+ KB\n"
     ]
    }
   ],
   "source": [
    "ml_df.info()"
   ]
  },
  {
   "cell_type": "code",
   "execution_count": 78,
   "id": "06ade736",
   "metadata": {},
   "outputs": [],
   "source": [
    "ml_df_2=ml_df.copy()"
   ]
  },
  {
   "cell_type": "code",
   "execution_count": 79,
   "id": "b5e86c5d",
   "metadata": {
    "scrolled": true
   },
   "outputs": [
    {
     "name": "stdout",
     "output_type": "stream",
     "text": [
      "<class 'pandas.core.frame.DataFrame'>\n",
      "RangeIndex: 708 entries, 0 to 707\n",
      "Data columns (total 8 columns):\n",
      " #   Column            Non-Null Count  Dtype \n",
      "---  ------            --------------  ----- \n",
      " 0   MRP               708 non-null    int32 \n",
      " 1   Brand             708 non-null    object\n",
      " 2   Processor         708 non-null    object\n",
      " 3   Operating System  708 non-null    object\n",
      " 4   Storage           708 non-null    object\n",
      " 5   Storage Type      708 non-null    object\n",
      " 6   RAM Size          708 non-null    int64 \n",
      " 7   RAM Type          708 non-null    object\n",
      "dtypes: int32(1), int64(1), object(6)\n",
      "memory usage: 41.6+ KB\n"
     ]
    }
   ],
   "source": [
    "ml_df_2.info()"
   ]
  },
  {
   "cell_type": "code",
   "execution_count": 80,
   "id": "0ba2c23e",
   "metadata": {
    "scrolled": true
   },
   "outputs": [
    {
     "data": {
      "text/plain": [
       "array([ 36990,  39990,  32990,  49990,  38990,  46990,  44990,  59990,\n",
       "        38705,  52990,  29990, 196990,  47990,  45990,  85990,  88990,\n",
       "        40990,  19490,  35590,  65990,  58990,  24990,  73990,  53490,\n",
       "       150990,  51990,  66990, 194990,  25990,  35990,  43990,  64490,\n",
       "        37499,  94990,  23990,  48990,  89990,  70990,  22990,  50990,\n",
       "        28990,  84990, 109990,  37990,  73490,  41890,  30428,  34990,\n",
       "        33490,  60990, 114990, 119990,  42990,  79990,  33900, 124990,\n",
       "        31990,  89081, 104990,  75990,  78800,  29390,  30990,  62490,\n",
       "        58899,  33099,  63490,  67990,  39790,  42190,  99990,  64990,\n",
       "        15990,  45900,  56990,  43580,  74990,  37490,  20990,  71990,\n",
       "       122990,  68990,  25950,  64999, 235283, 241990,  43490,  27990,\n",
       "        40190,  69990,  54900, 136990,  48184,  58000,  33990,  81990,\n",
       "       129990, 154990,  62990,  43667, 135990,  98990,  74770,  40799,\n",
       "        69490,  60390,  55990,  58499, 111990,  68490,  83990,  54990,\n",
       "        14990, 149990,  63090, 200000,  37390,  63990,  43090,  44700,\n",
       "        41150, 190890, 174990, 118990,  63980,  54300,  36400,  28590,\n",
       "        69999, 301990,  37000,  42690, 140990, 128990,  54999,  60130,\n",
       "        29490,  72490,  47130,  55600,  49690, 239990,  52490,  41990,\n",
       "        50490,  96490,  71345, 101490, 274990, 199990,  41090,  50499,\n",
       "        78950, 187990, 102990,  52575,  60125,  26490,  80249, 129999,\n",
       "        76990, 107790,  95990,  61999,  38216, 108250, 389990,  67224,\n",
       "        61249,  29980,  41600,  61986,  38999,  61490,  62190,  24390,\n",
       "       159990,  34490,  41490, 206581,  61990, 105990, 155490,  19990,\n",
       "        33499,  21990,  30100,  61130,  46890,  59790, 125990, 249990,\n",
       "        87900,  27490,  28999, 117990,  61497,  70400,  69000,  96579,\n",
       "       101990, 314990,  46900, 331990, 116490,  64590, 137990,  55690,\n",
       "       130500, 361990, 211990,  39890, 139990,  66700, 434830, 345390,\n",
       "       105822,  28490,  86999,  23250,  42390, 110990,  74590, 214990,\n",
       "        48790,  76000, 224990, 164990,  31490,  48077,  38980,  49348,\n",
       "       221774,  77990, 214790,  52414, 179990,  80615, 155990, 157990,\n",
       "        92990, 171990, 151990, 233990,  76590,  90000,  23490])"
      ]
     },
     "execution_count": 80,
     "metadata": {},
     "output_type": "execute_result"
    }
   ],
   "source": [
    "ml_df_2['MRP'].unique()"
   ]
  },
  {
   "cell_type": "code",
   "execution_count": 81,
   "id": "96b25128",
   "metadata": {},
   "outputs": [
    {
     "data": {
      "text/plain": [
       "array(['Lenovo', 'ASUS', 'HP', 'DELL', 'RedmiBook', 'realme', 'acer',\n",
       "       'MSI', 'APPLE', 'Infinix', 'SAMSUNG', 'Ultimus', 'Vaio',\n",
       "       'GIGABYTE', 'Nokia', 'ALIENWARE'], dtype=object)"
      ]
     },
     "execution_count": 81,
     "metadata": {},
     "output_type": "execute_result"
    }
   ],
   "source": [
    "ml_df_2['Brand'].unique()"
   ]
  },
  {
   "cell_type": "code",
   "execution_count": 82,
   "id": "2a124a1b",
   "metadata": {},
   "outputs": [
    {
     "data": {
      "text/plain": [
       "array(['Intel', 'AMD', 'Apple', 'Qualcomm', 'Gen'], dtype=object)"
      ]
     },
     "execution_count": 82,
     "metadata": {},
     "output_type": "execute_result"
    }
   ],
   "source": [
    "ml_df_2['Processor'].unique()"
   ]
  },
  {
   "cell_type": "code",
   "execution_count": 83,
   "id": "3feb34c5",
   "metadata": {},
   "outputs": [
    {
     "data": {
      "text/plain": [
       "array(['Windows 11', 'Windows 10', 'Mac', 'Chrome', 'DOS'], dtype=object)"
      ]
     },
     "execution_count": 83,
     "metadata": {},
     "output_type": "execute_result"
    }
   ],
   "source": [
    "ml_df_2['Operating System'].unique()"
   ]
  },
  {
   "cell_type": "code",
   "execution_count": 84,
   "id": "9c841754",
   "metadata": {},
   "outputs": [
    {
     "data": {
      "text/plain": [
       "array(['256GB SSD', '512GB SSD', '1TB HDD', '1TB SSD', '256GB HDD',\n",
       "       '128GB EMMC', '64GB EMMC', '128GB SSD', '32GB EMMC', '2TB SSD'],\n",
       "      dtype=object)"
      ]
     },
     "execution_count": 84,
     "metadata": {},
     "output_type": "execute_result"
    }
   ],
   "source": [
    "ml_df_2['Storage'].unique()"
   ]
  },
  {
   "cell_type": "code",
   "execution_count": 85,
   "id": "f27a1f4f",
   "metadata": {},
   "outputs": [
    {
     "data": {
      "text/plain": [
       "array(['SSD', 'HDD'], dtype=object)"
      ]
     },
     "execution_count": 85,
     "metadata": {},
     "output_type": "execute_result"
    }
   ],
   "source": [
    "ml_df_2['Storage Type'].unique()"
   ]
  },
  {
   "cell_type": "code",
   "execution_count": 86,
   "id": "3b080283",
   "metadata": {},
   "outputs": [
    {
     "data": {
      "text/plain": [
       "array(['DDR4', 'DDR5', 'LPDDR4', 'LPDDR4X', 'LPDDR5', 'LPDDR3'],\n",
       "      dtype=object)"
      ]
     },
     "execution_count": 86,
     "metadata": {},
     "output_type": "execute_result"
    }
   ],
   "source": [
    "ml_df_2['RAM Type'].unique()"
   ]
  },
  {
   "cell_type": "code",
   "execution_count": 87,
   "id": "f104f6b3",
   "metadata": {},
   "outputs": [
    {
     "data": {
      "text/plain": [
       "array([ 1,  2,  3,  4,  5,  6,  7,  8,  9, 10, 11, 12, 13, 14, 15, 16],\n",
       "      dtype=int64)"
      ]
     },
     "execution_count": 87,
     "metadata": {},
     "output_type": "execute_result"
    }
   ],
   "source": [
    "def brand_num(brand):\n",
    "    if brand=='Lenovo':\n",
    "        return 1\n",
    "    elif brand=='ASUS':\n",
    "        return 2\n",
    "    elif brand=='HP':\n",
    "        return 3\n",
    "    elif brand=='DELL':\n",
    "        return 4\n",
    "    elif brand=='RedmiBook':\n",
    "        return 5\n",
    "    elif brand=='realme':\n",
    "        return 6\n",
    "    elif brand=='acer':\n",
    "        return 7\n",
    "    elif brand=='MSI':\n",
    "        return 8\n",
    "    elif brand=='APPLE':\n",
    "        return 9\n",
    "    elif brand=='Infinix':\n",
    "        return 10\n",
    "    elif brand=='SAMSUNG':\n",
    "        return 11\n",
    "    elif brand=='Ultimus':\n",
    "        return 12\n",
    "    elif brand=='Vaio':\n",
    "        return 13\n",
    "    elif brand=='GIGABYTE':\n",
    "        return 14\n",
    "    elif brand=='Nokia':\n",
    "        return 15\n",
    "    elif brand=='ALIENWARE':\n",
    "        return 16\n",
    "    \n",
    "ml_df_2['Brand']=ml_df_2['Brand'].apply(brand_num)\n",
    "ml_df_2['Brand'].unique()"
   ]
  },
  {
   "cell_type": "code",
   "execution_count": 88,
   "id": "7df2be3e",
   "metadata": {},
   "outputs": [
    {
     "data": {
      "text/plain": [
       "array([1, 2, 3, 4, 5], dtype=int64)"
      ]
     },
     "execution_count": 88,
     "metadata": {},
     "output_type": "execute_result"
    }
   ],
   "source": [
    "def pro_num(Processor):\n",
    "    if Processor=='Intel':\n",
    "        return 1\n",
    "    elif Processor=='AMD':\n",
    "        return 2\n",
    "    elif Processor=='Apple':\n",
    "        return 3\n",
    "    elif Processor=='Qualcomm':\n",
    "        return 4\n",
    "    elif Processor=='Gen':\n",
    "        return 5\n",
    "                   \n",
    "ml_df_2['Processor']=ml_df_2['Processor'].apply(pro_num)\n",
    "ml_df_2['Processor'].unique()"
   ]
  },
  {
   "cell_type": "code",
   "execution_count": 89,
   "id": "502b271a",
   "metadata": {},
   "outputs": [
    {
     "data": {
      "text/plain": [
       "array([1, 2, 3, 5, 6, 7], dtype=int64)"
      ]
     },
     "execution_count": 89,
     "metadata": {},
     "output_type": "execute_result"
    }
   ],
   "source": [
    "def rt_num(r):\n",
    "    if r=='DDR4':\n",
    "        return 1\n",
    "    elif r=='DDR5':\n",
    "        return 2\n",
    "    elif r=='LPDDR4':\n",
    "        return 3\n",
    "    elif r=='Unified':\n",
    "        return 4\n",
    "    elif r=='LPDDR4X':\n",
    "        return 5\n",
    "    elif r=='LPDDR5':\n",
    "        return 6\n",
    "    elif r=='LPDDR3':\n",
    "        return 7\n",
    "    \n",
    "ml_df_2['RAM Type']=ml_df_2['RAM Type'].apply(rt_num)\n",
    "ml_df_2['RAM Type'].unique()"
   ]
  },
  {
   "cell_type": "code",
   "execution_count": 90,
   "id": "18dbb9a6",
   "metadata": {
    "scrolled": true
   },
   "outputs": [
    {
     "data": {
      "text/plain": [
       "array([1, 2], dtype=int64)"
      ]
     },
     "execution_count": 90,
     "metadata": {},
     "output_type": "execute_result"
    }
   ],
   "source": [
    "def storage_type(st):\n",
    "    if st=='SSD':\n",
    "        return 1\n",
    "    elif st=='HDD':\n",
    "        return 2\n",
    "    elif st=='EMMC':\n",
    "        return 3\n",
    "\n",
    "    \n",
    "ml_df_2['Storage Type']=ml_df_2['Storage Type'].apply(storage_type)\n",
    "\n",
    "ml_df_2['Storage Type'].unique()"
   ]
  },
  {
   "cell_type": "code",
   "execution_count": 91,
   "id": "1d15b022",
   "metadata": {},
   "outputs": [
    {
     "data": {
      "text/plain": [
       "array([ 1,  2,  3,  4,  5,  6,  7,  8,  9, 10], dtype=int64)"
      ]
     },
     "execution_count": 91,
     "metadata": {},
     "output_type": "execute_result"
    }
   ],
   "source": [
    "def st_num(storage):\n",
    "    if storage=='256GB SSD':\n",
    "        return 1\n",
    "    elif storage=='512GB SSD':\n",
    "        return 2\n",
    "    elif storage=='1TB HDD':\n",
    "        return 3\n",
    "    elif storage=='1TB SSD':\n",
    "        return 4\n",
    "    elif storage=='256GB HDD':\n",
    "        return 5\n",
    "    elif storage=='128GB EMMC':\n",
    "        return 6\n",
    "    elif storage=='64GB EMMC':\n",
    "        return 7\n",
    "    elif storage=='128GB SSD':\n",
    "        return 8\n",
    "    elif storage=='32GB EMMC':\n",
    "        return 9\n",
    "    elif storage=='2TB SSD':\n",
    "        return 10\n",
    "    \n",
    "ml_df_2['Storage']=ml_df_2['Storage'].apply(st_num)\n",
    "ml_df_2['Storage'].unique() "
   ]
  },
  {
   "cell_type": "code",
   "execution_count": 92,
   "id": "6cf249e4",
   "metadata": {},
   "outputs": [
    {
     "data": {
      "text/plain": [
       "array([1, 2, 3, 4, 5], dtype=int64)"
      ]
     },
     "execution_count": 92,
     "metadata": {},
     "output_type": "execute_result"
    }
   ],
   "source": [
    "def os_num(os):\n",
    "    if os=='Windows 11':\n",
    "        return 1\n",
    "    elif os=='Windows 10':\n",
    "        return 2\n",
    "    elif os=='Mac':\n",
    "        return 3\n",
    "    elif os=='Chrome':\n",
    "        return 4\n",
    "    elif os=='DOS':\n",
    "        return 5\n",
    "    \n",
    "ml_df_2['Operating System']=ml_df_2['Operating System'].apply(os_num)\n",
    "ml_df_2['Operating System'].unique()"
   ]
  },
  {
   "cell_type": "code",
   "execution_count": 93,
   "id": "b0e0d3bc",
   "metadata": {},
   "outputs": [
    {
     "data": {
      "text/html": [
       "<div>\n",
       "<style scoped>\n",
       "    .dataframe tbody tr th:only-of-type {\n",
       "        vertical-align: middle;\n",
       "    }\n",
       "\n",
       "    .dataframe tbody tr th {\n",
       "        vertical-align: top;\n",
       "    }\n",
       "\n",
       "    .dataframe thead th {\n",
       "        text-align: right;\n",
       "    }\n",
       "</style>\n",
       "<table border=\"1\" class=\"dataframe\">\n",
       "  <thead>\n",
       "    <tr style=\"text-align: right;\">\n",
       "      <th></th>\n",
       "      <th>MRP</th>\n",
       "      <th>Brand</th>\n",
       "      <th>Processor</th>\n",
       "      <th>Operating System</th>\n",
       "      <th>Storage</th>\n",
       "      <th>Storage Type</th>\n",
       "      <th>RAM Size</th>\n",
       "      <th>RAM Type</th>\n",
       "    </tr>\n",
       "  </thead>\n",
       "  <tbody>\n",
       "    <tr>\n",
       "      <th>0</th>\n",
       "      <td>36990</td>\n",
       "      <td>1</td>\n",
       "      <td>1</td>\n",
       "      <td>1</td>\n",
       "      <td>1</td>\n",
       "      <td>1</td>\n",
       "      <td>8</td>\n",
       "      <td>1</td>\n",
       "    </tr>\n",
       "    <tr>\n",
       "      <th>1</th>\n",
       "      <td>39990</td>\n",
       "      <td>1</td>\n",
       "      <td>1</td>\n",
       "      <td>1</td>\n",
       "      <td>2</td>\n",
       "      <td>1</td>\n",
       "      <td>8</td>\n",
       "      <td>1</td>\n",
       "    </tr>\n",
       "    <tr>\n",
       "      <th>2</th>\n",
       "      <td>32990</td>\n",
       "      <td>2</td>\n",
       "      <td>1</td>\n",
       "      <td>1</td>\n",
       "      <td>2</td>\n",
       "      <td>1</td>\n",
       "      <td>8</td>\n",
       "      <td>1</td>\n",
       "    </tr>\n",
       "    <tr>\n",
       "      <th>3</th>\n",
       "      <td>49990</td>\n",
       "      <td>3</td>\n",
       "      <td>2</td>\n",
       "      <td>2</td>\n",
       "      <td>2</td>\n",
       "      <td>1</td>\n",
       "      <td>8</td>\n",
       "      <td>1</td>\n",
       "    </tr>\n",
       "    <tr>\n",
       "      <th>4</th>\n",
       "      <td>49990</td>\n",
       "      <td>2</td>\n",
       "      <td>1</td>\n",
       "      <td>1</td>\n",
       "      <td>2</td>\n",
       "      <td>1</td>\n",
       "      <td>8</td>\n",
       "      <td>1</td>\n",
       "    </tr>\n",
       "    <tr>\n",
       "      <th>...</th>\n",
       "      <td>...</td>\n",
       "      <td>...</td>\n",
       "      <td>...</td>\n",
       "      <td>...</td>\n",
       "      <td>...</td>\n",
       "      <td>...</td>\n",
       "      <td>...</td>\n",
       "      <td>...</td>\n",
       "    </tr>\n",
       "    <tr>\n",
       "      <th>703</th>\n",
       "      <td>23490</td>\n",
       "      <td>2</td>\n",
       "      <td>1</td>\n",
       "      <td>4</td>\n",
       "      <td>7</td>\n",
       "      <td>1</td>\n",
       "      <td>4</td>\n",
       "      <td>3</td>\n",
       "    </tr>\n",
       "    <tr>\n",
       "      <th>704</th>\n",
       "      <td>73490</td>\n",
       "      <td>1</td>\n",
       "      <td>2</td>\n",
       "      <td>1</td>\n",
       "      <td>2</td>\n",
       "      <td>1</td>\n",
       "      <td>8</td>\n",
       "      <td>1</td>\n",
       "    </tr>\n",
       "    <tr>\n",
       "      <th>705</th>\n",
       "      <td>194990</td>\n",
       "      <td>2</td>\n",
       "      <td>2</td>\n",
       "      <td>1</td>\n",
       "      <td>4</td>\n",
       "      <td>1</td>\n",
       "      <td>16</td>\n",
       "      <td>2</td>\n",
       "    </tr>\n",
       "    <tr>\n",
       "      <th>706</th>\n",
       "      <td>125990</td>\n",
       "      <td>2</td>\n",
       "      <td>1</td>\n",
       "      <td>1</td>\n",
       "      <td>2</td>\n",
       "      <td>1</td>\n",
       "      <td>16</td>\n",
       "      <td>6</td>\n",
       "    </tr>\n",
       "    <tr>\n",
       "      <th>707</th>\n",
       "      <td>50990</td>\n",
       "      <td>1</td>\n",
       "      <td>1</td>\n",
       "      <td>2</td>\n",
       "      <td>3</td>\n",
       "      <td>2</td>\n",
       "      <td>8</td>\n",
       "      <td>1</td>\n",
       "    </tr>\n",
       "  </tbody>\n",
       "</table>\n",
       "<p>708 rows × 8 columns</p>\n",
       "</div>"
      ],
      "text/plain": [
       "        MRP  Brand  Processor  Operating System  Storage  Storage Type  \\\n",
       "0     36990      1          1                 1        1             1   \n",
       "1     39990      1          1                 1        2             1   \n",
       "2     32990      2          1                 1        2             1   \n",
       "3     49990      3          2                 2        2             1   \n",
       "4     49990      2          1                 1        2             1   \n",
       "..      ...    ...        ...               ...      ...           ...   \n",
       "703   23490      2          1                 4        7             1   \n",
       "704   73490      1          2                 1        2             1   \n",
       "705  194990      2          2                 1        4             1   \n",
       "706  125990      2          1                 1        2             1   \n",
       "707   50990      1          1                 2        3             2   \n",
       "\n",
       "     RAM Size  RAM Type  \n",
       "0           8         1  \n",
       "1           8         1  \n",
       "2           8         1  \n",
       "3           8         1  \n",
       "4           8         1  \n",
       "..        ...       ...  \n",
       "703         4         3  \n",
       "704         8         1  \n",
       "705        16         2  \n",
       "706        16         6  \n",
       "707         8         1  \n",
       "\n",
       "[708 rows x 8 columns]"
      ]
     },
     "execution_count": 93,
     "metadata": {},
     "output_type": "execute_result"
    }
   ],
   "source": [
    "ml_df_2"
   ]
  },
  {
   "cell_type": "code",
   "execution_count": 94,
   "id": "578063c2",
   "metadata": {},
   "outputs": [
    {
     "data": {
      "text/plain": [
       "<AxesSubplot:xlabel='MRP', ylabel='Density'>"
      ]
     },
     "execution_count": 94,
     "metadata": {},
     "output_type": "execute_result"
    },
    {
     "data": {
      "image/png": "[encoded data removed]",
      "text/plain": [
       "<Figure size 640x480 with 1 Axes>"
      ]
     },
     "metadata": {},
     "output_type": "display_data"
    }
   ],
   "source": [
    "sns.distplot((ml_df_2['MRP']))"
   ]
  },
  {
   "cell_type": "code",
   "execution_count": 95,
   "id": "875e333b",
   "metadata": {},
   "outputs": [],
   "source": [
    "X = ml_df_2.drop(columns='MRP')\n",
    "y = np.log(ml_df_2['MRP'])"
   ]
  },
  {
   "cell_type": "code",
   "execution_count": 96,
   "id": "eb9960f2",
   "metadata": {},
   "outputs": [
    {
     "data": {
      "text/html": [
       "<div>\n",
       "<style scoped>\n",
       "    .dataframe tbody tr th:only-of-type {\n",
       "        vertical-align: middle;\n",
       "    }\n",
       "\n",
       "    .dataframe tbody tr th {\n",
       "        vertical-align: top;\n",
       "    }\n",
       "\n",
       "    .dataframe thead th {\n",
       "        text-align: right;\n",
       "    }\n",
       "</style>\n",
       "<table border=\"1\" class=\"dataframe\">\n",
       "  <thead>\n",
       "    <tr style=\"text-align: right;\">\n",
       "      <th></th>\n",
       "      <th>Brand</th>\n",
       "      <th>Processor</th>\n",
       "      <th>Operating System</th>\n",
       "      <th>Storage</th>\n",
       "      <th>Storage Type</th>\n",
       "      <th>RAM Size</th>\n",
       "      <th>RAM Type</th>\n",
       "    </tr>\n",
       "  </thead>\n",
       "  <tbody>\n",
       "    <tr>\n",
       "      <th>0</th>\n",
       "      <td>1</td>\n",
       "      <td>1</td>\n",
       "      <td>1</td>\n",
       "      <td>1</td>\n",
       "      <td>1</td>\n",
       "      <td>8</td>\n",
       "      <td>1</td>\n",
       "    </tr>\n",
       "    <tr>\n",
       "      <th>1</th>\n",
       "      <td>1</td>\n",
       "      <td>1</td>\n",
       "      <td>1</td>\n",
       "      <td>2</td>\n",
       "      <td>1</td>\n",
       "      <td>8</td>\n",
       "      <td>1</td>\n",
       "    </tr>\n",
       "    <tr>\n",
       "      <th>2</th>\n",
       "      <td>2</td>\n",
       "      <td>1</td>\n",
       "      <td>1</td>\n",
       "      <td>2</td>\n",
       "      <td>1</td>\n",
       "      <td>8</td>\n",
       "      <td>1</td>\n",
       "    </tr>\n",
       "    <tr>\n",
       "      <th>3</th>\n",
       "      <td>3</td>\n",
       "      <td>2</td>\n",
       "      <td>2</td>\n",
       "      <td>2</td>\n",
       "      <td>1</td>\n",
       "      <td>8</td>\n",
       "      <td>1</td>\n",
       "    </tr>\n",
       "    <tr>\n",
       "      <th>4</th>\n",
       "      <td>2</td>\n",
       "      <td>1</td>\n",
       "      <td>1</td>\n",
       "      <td>2</td>\n",
       "      <td>1</td>\n",
       "      <td>8</td>\n",
       "      <td>1</td>\n",
       "    </tr>\n",
       "    <tr>\n",
       "      <th>...</th>\n",
       "      <td>...</td>\n",
       "      <td>...</td>\n",
       "      <td>...</td>\n",
       "      <td>...</td>\n",
       "      <td>...</td>\n",
       "      <td>...</td>\n",
       "      <td>...</td>\n",
       "    </tr>\n",
       "    <tr>\n",
       "      <th>703</th>\n",
       "      <td>2</td>\n",
       "      <td>1</td>\n",
       "      <td>4</td>\n",
       "      <td>7</td>\n",
       "      <td>1</td>\n",
       "      <td>4</td>\n",
       "      <td>3</td>\n",
       "    </tr>\n",
       "    <tr>\n",
       "      <th>704</th>\n",
       "      <td>1</td>\n",
       "      <td>2</td>\n",
       "      <td>1</td>\n",
       "      <td>2</td>\n",
       "      <td>1</td>\n",
       "      <td>8</td>\n",
       "      <td>1</td>\n",
       "    </tr>\n",
       "    <tr>\n",
       "      <th>705</th>\n",
       "      <td>2</td>\n",
       "      <td>2</td>\n",
       "      <td>1</td>\n",
       "      <td>4</td>\n",
       "      <td>1</td>\n",
       "      <td>16</td>\n",
       "      <td>2</td>\n",
       "    </tr>\n",
       "    <tr>\n",
       "      <th>706</th>\n",
       "      <td>2</td>\n",
       "      <td>1</td>\n",
       "      <td>1</td>\n",
       "      <td>2</td>\n",
       "      <td>1</td>\n",
       "      <td>16</td>\n",
       "      <td>6</td>\n",
       "    </tr>\n",
       "    <tr>\n",
       "      <th>707</th>\n",
       "      <td>1</td>\n",
       "      <td>1</td>\n",
       "      <td>2</td>\n",
       "      <td>3</td>\n",
       "      <td>2</td>\n",
       "      <td>8</td>\n",
       "      <td>1</td>\n",
       "    </tr>\n",
       "  </tbody>\n",
       "</table>\n",
       "<p>708 rows × 7 columns</p>\n",
       "</div>"
      ],
      "text/plain": [
       "     Brand  Processor  Operating System  Storage  Storage Type  RAM Size  \\\n",
       "0        1          1                 1        1             1         8   \n",
       "1        1          1                 1        2             1         8   \n",
       "2        2          1                 1        2             1         8   \n",
       "3        3          2                 2        2             1         8   \n",
       "4        2          1                 1        2             1         8   \n",
       "..     ...        ...               ...      ...           ...       ...   \n",
       "703      2          1                 4        7             1         4   \n",
       "704      1          2                 1        2             1         8   \n",
       "705      2          2                 1        4             1        16   \n",
       "706      2          1                 1        2             1        16   \n",
       "707      1          1                 2        3             2         8   \n",
       "\n",
       "     RAM Type  \n",
       "0           1  \n",
       "1           1  \n",
       "2           1  \n",
       "3           1  \n",
       "4           1  \n",
       "..        ...  \n",
       "703         3  \n",
       "704         1  \n",
       "705         2  \n",
       "706         6  \n",
       "707         1  \n",
       "\n",
       "[708 rows x 7 columns]"
      ]
     },
     "execution_count": 96,
     "metadata": {},
     "output_type": "execute_result"
    }
   ],
   "source": [
    "X"
   ]
  },
  {
   "cell_type": "code",
   "execution_count": 97,
   "id": "ae379bd4",
   "metadata": {
    "scrolled": false
   },
   "outputs": [
    {
     "data": {
      "text/plain": [
       "0      10.518403\n",
       "1      10.596385\n",
       "2      10.403960\n",
       "3      10.819578\n",
       "4      10.819578\n",
       "         ...    \n",
       "703    10.064330\n",
       "704    11.204905\n",
       "705    12.180704\n",
       "706    11.743958\n",
       "707    10.839385\n",
       "Name: MRP, Length: 708, dtype: float64"
      ]
     },
     "execution_count": 97,
     "metadata": {},
     "output_type": "execute_result"
    }
   ],
   "source": [
    "y"
   ]
  },
  {
   "cell_type": "raw",
   "id": "c87ce742",
   "metadata": {},
   "source": [
    "MRP is dropped down because of applying Log Transformation"
   ]
  },
  {
   "cell_type": "code",
   "execution_count": 98,
   "id": "040c7e6e",
   "metadata": {},
   "outputs": [],
   "source": [
    "from sklearn.model_selection import train_test_split\n",
    "X_train,X_test, y_train, y_test = train_test_split(X,y,test_size=0.15,random_state=2)"
   ]
  },
  {
   "cell_type": "code",
   "execution_count": 99,
   "id": "5de90e75",
   "metadata": {},
   "outputs": [
    {
     "data": {
      "text/html": [
       "<div>\n",
       "<style scoped>\n",
       "    .dataframe tbody tr th:only-of-type {\n",
       "        vertical-align: middle;\n",
       "    }\n",
       "\n",
       "    .dataframe tbody tr th {\n",
       "        vertical-align: top;\n",
       "    }\n",
       "\n",
       "    .dataframe thead th {\n",
       "        text-align: right;\n",
       "    }\n",
       "</style>\n",
       "<table border=\"1\" class=\"dataframe\">\n",
       "  <thead>\n",
       "    <tr style=\"text-align: right;\">\n",
       "      <th></th>\n",
       "      <th>Brand</th>\n",
       "      <th>Processor</th>\n",
       "      <th>Operating System</th>\n",
       "      <th>Storage</th>\n",
       "      <th>Storage Type</th>\n",
       "      <th>RAM Size</th>\n",
       "      <th>RAM Type</th>\n",
       "    </tr>\n",
       "  </thead>\n",
       "  <tbody>\n",
       "    <tr>\n",
       "      <th>352</th>\n",
       "      <td>2</td>\n",
       "      <td>1</td>\n",
       "      <td>1</td>\n",
       "      <td>4</td>\n",
       "      <td>1</td>\n",
       "      <td>16</td>\n",
       "      <td>6</td>\n",
       "    </tr>\n",
       "    <tr>\n",
       "      <th>372</th>\n",
       "      <td>1</td>\n",
       "      <td>1</td>\n",
       "      <td>2</td>\n",
       "      <td>1</td>\n",
       "      <td>1</td>\n",
       "      <td>4</td>\n",
       "      <td>1</td>\n",
       "    </tr>\n",
       "    <tr>\n",
       "      <th>476</th>\n",
       "      <td>2</td>\n",
       "      <td>1</td>\n",
       "      <td>2</td>\n",
       "      <td>3</td>\n",
       "      <td>2</td>\n",
       "      <td>4</td>\n",
       "      <td>1</td>\n",
       "    </tr>\n",
       "    <tr>\n",
       "      <th>486</th>\n",
       "      <td>10</td>\n",
       "      <td>1</td>\n",
       "      <td>1</td>\n",
       "      <td>2</td>\n",
       "      <td>1</td>\n",
       "      <td>8</td>\n",
       "      <td>5</td>\n",
       "    </tr>\n",
       "    <tr>\n",
       "      <th>249</th>\n",
       "      <td>1</td>\n",
       "      <td>1</td>\n",
       "      <td>1</td>\n",
       "      <td>1</td>\n",
       "      <td>1</td>\n",
       "      <td>8</td>\n",
       "      <td>1</td>\n",
       "    </tr>\n",
       "    <tr>\n",
       "      <th>...</th>\n",
       "      <td>...</td>\n",
       "      <td>...</td>\n",
       "      <td>...</td>\n",
       "      <td>...</td>\n",
       "      <td>...</td>\n",
       "      <td>...</td>\n",
       "      <td>...</td>\n",
       "    </tr>\n",
       "    <tr>\n",
       "      <th>534</th>\n",
       "      <td>1</td>\n",
       "      <td>1</td>\n",
       "      <td>1</td>\n",
       "      <td>1</td>\n",
       "      <td>1</td>\n",
       "      <td>8</td>\n",
       "      <td>1</td>\n",
       "    </tr>\n",
       "    <tr>\n",
       "      <th>584</th>\n",
       "      <td>3</td>\n",
       "      <td>2</td>\n",
       "      <td>1</td>\n",
       "      <td>2</td>\n",
       "      <td>1</td>\n",
       "      <td>8</td>\n",
       "      <td>2</td>\n",
       "    </tr>\n",
       "    <tr>\n",
       "      <th>493</th>\n",
       "      <td>1</td>\n",
       "      <td>2</td>\n",
       "      <td>2</td>\n",
       "      <td>2</td>\n",
       "      <td>1</td>\n",
       "      <td>8</td>\n",
       "      <td>1</td>\n",
       "    </tr>\n",
       "    <tr>\n",
       "      <th>527</th>\n",
       "      <td>10</td>\n",
       "      <td>1</td>\n",
       "      <td>1</td>\n",
       "      <td>2</td>\n",
       "      <td>1</td>\n",
       "      <td>8</td>\n",
       "      <td>5</td>\n",
       "    </tr>\n",
       "    <tr>\n",
       "      <th>168</th>\n",
       "      <td>2</td>\n",
       "      <td>1</td>\n",
       "      <td>1</td>\n",
       "      <td>2</td>\n",
       "      <td>1</td>\n",
       "      <td>8</td>\n",
       "      <td>1</td>\n",
       "    </tr>\n",
       "  </tbody>\n",
       "</table>\n",
       "<p>601 rows × 7 columns</p>\n",
       "</div>"
      ],
      "text/plain": [
       "     Brand  Processor  Operating System  Storage  Storage Type  RAM Size  \\\n",
       "352      2          1                 1        4             1        16   \n",
       "372      1          1                 2        1             1         4   \n",
       "476      2          1                 2        3             2         4   \n",
       "486     10          1                 1        2             1         8   \n",
       "249      1          1                 1        1             1         8   \n",
       "..     ...        ...               ...      ...           ...       ...   \n",
       "534      1          1                 1        1             1         8   \n",
       "584      3          2                 1        2             1         8   \n",
       "493      1          2                 2        2             1         8   \n",
       "527     10          1                 1        2             1         8   \n",
       "168      2          1                 1        2             1         8   \n",
       "\n",
       "     RAM Type  \n",
       "352         6  \n",
       "372         1  \n",
       "476         1  \n",
       "486         5  \n",
       "249         1  \n",
       "..        ...  \n",
       "534         1  \n",
       "584         2  \n",
       "493         1  \n",
       "527         5  \n",
       "168         1  \n",
       "\n",
       "[601 rows x 7 columns]"
      ]
     },
     "execution_count": 99,
     "metadata": {},
     "output_type": "execute_result"
    }
   ],
   "source": [
    "X_train"
   ]
  },
  {
   "cell_type": "code",
   "execution_count": 100,
   "id": "991e532c",
   "metadata": {},
   "outputs": [],
   "source": [
    "from sklearn.compose import ColumnTransformer\n",
    "from sklearn.pipeline import Pipeline \n",
    "from sklearn.preprocessing import OneHotEncoder\n",
    "from sklearn.metrics import r2_score,mean_absolute_error\n",
    "from sklearn.metrics import mean_squared_error as mse"
   ]
  },
  {
   "cell_type": "code",
   "execution_count": 101,
   "id": "0db01a2f",
   "metadata": {},
   "outputs": [],
   "source": [
    "from sklearn.linear_model import LinearRegression,Ridge,Lasso\n",
    "from sklearn.neighbors import KNeighborsRegressor\n",
    "from sklearn.tree import DecisionTreeRegressor\n",
    "from sklearn.ensemble import RandomForestRegressor,GradientBoostingRegressor,AdaBoostRegressor,ExtraTreesRegressor\n",
    "from sklearn.svm import SVR\n",
    "from xgboost import XGBRegressor"
   ]
  },
  {
   "cell_type": "code",
   "execution_count": 102,
   "id": "13c5770f",
   "metadata": {},
   "outputs": [
    {
     "data": {
      "text/html": [
       "<div>\n",
       "<style scoped>\n",
       "    .dataframe tbody tr th:only-of-type {\n",
       "        vertical-align: middle;\n",
       "    }\n",
       "\n",
       "    .dataframe tbody tr th {\n",
       "        vertical-align: top;\n",
       "    }\n",
       "\n",
       "    .dataframe thead th {\n",
       "        text-align: right;\n",
       "    }\n",
       "</style>\n",
       "<table border=\"1\" class=\"dataframe\">\n",
       "  <thead>\n",
       "    <tr style=\"text-align: right;\">\n",
       "      <th></th>\n",
       "      <th>MRP</th>\n",
       "      <th>Brand</th>\n",
       "      <th>Processor</th>\n",
       "      <th>Operating System</th>\n",
       "      <th>Storage</th>\n",
       "      <th>Storage Type</th>\n",
       "      <th>RAM Size</th>\n",
       "      <th>RAM Type</th>\n",
       "    </tr>\n",
       "  </thead>\n",
       "  <tbody>\n",
       "    <tr>\n",
       "      <th>0</th>\n",
       "      <td>36990</td>\n",
       "      <td>1</td>\n",
       "      <td>1</td>\n",
       "      <td>1</td>\n",
       "      <td>1</td>\n",
       "      <td>1</td>\n",
       "      <td>8</td>\n",
       "      <td>1</td>\n",
       "    </tr>\n",
       "  </tbody>\n",
       "</table>\n",
       "</div>"
      ],
      "text/plain": [
       "     MRP  Brand  Processor  Operating System  Storage  Storage Type  RAM Size  \\\n",
       "0  36990      1          1                 1        1             1         8   \n",
       "\n",
       "   RAM Type  \n",
       "0         1  "
      ]
     },
     "execution_count": 102,
     "metadata": {},
     "output_type": "execute_result"
    }
   ],
   "source": [
    "ml_df_2.head(1)"
   ]
  },
  {
   "cell_type": "markdown",
   "id": "4a970aea",
   "metadata": {},
   "source": [
    "# 1. Linear regression\n"
   ]
  },
  {
   "cell_type": "code",
   "execution_count": 103,
   "id": "23078926",
   "metadata": {
    "scrolled": true
   },
   "outputs": [
    {
     "name": "stdout",
     "output_type": "stream",
     "text": [
      "R2 score 0.7220063463225355\n",
      "MAE 0.2419161614377222\n",
      "MSE 0.10745975688532954\n",
      "RMSE 0.32781055029594386\n"
     ]
    }
   ],
   "source": [
    "step1 = ColumnTransformer(transformers=[\n",
    "    ('col_tnf',OneHotEncoder(sparse=False,drop='first',handle_unknown = 'ignore'),[0,2,4])\n",
    "],remainder='passthrough')\n",
    "\n",
    "step2 = LinearRegression()\n",
    "\n",
    "pipe = Pipeline([\n",
    "    ('step1',step1),\n",
    "    ('step2',step2)\n",
    "])\n",
    "\n",
    "pipe.fit(X_train,y_train)\n",
    "\n",
    "y_pred = pipe.predict(X_test)\n",
    "\n",
    "MSE=mse(y_pred,y_test)\n",
    "RMSE=np.sqrt(MSE)\n",
    "print('R2 score',r2_score(y_test,y_pred))\n",
    "print('MAE',mean_absolute_error(y_test,y_pred))\n",
    "print('MSE', MSE)\n",
    "print('RMSE', RMSE)"
   ]
  },
  {
   "cell_type": "code",
   "execution_count": 104,
   "id": "3562117e",
   "metadata": {},
   "outputs": [
    {
     "data": {
      "text/plain": [
       "1.2736874042189952"
      ]
     },
     "execution_count": 104,
     "metadata": {},
     "output_type": "execute_result"
    }
   ],
   "source": [
    "np.exp(0.2419161614377222)"
   ]
  },
  {
   "cell_type": "markdown",
   "id": "1c779ed5",
   "metadata": {},
   "source": [
    "# 2. Ridge Regression"
   ]
  },
  {
   "cell_type": "code",
   "execution_count": 105,
   "id": "8fd3943a",
   "metadata": {},
   "outputs": [
    {
     "name": "stdout",
     "output_type": "stream",
     "text": [
      "R2 score 0.7430017408223208\n",
      "MAE 0.23884612676179243\n",
      "MSE 0.09934388819979409\n",
      "RMSE 0.3151886549350945\n"
     ]
    }
   ],
   "source": [
    "step1 = ColumnTransformer(transformers=[\n",
    "    ('col_tnf',OneHotEncoder(sparse=False,drop='first',handle_unknown = 'ignore'),[0,2,4])\n",
    "],remainder='passthrough')\n",
    "\n",
    "step2 = Ridge(alpha=10)\n",
    "\n",
    "pipe = Pipeline([\n",
    "    ('step1',step1),\n",
    "    ('step2',step2)\n",
    "])\n",
    "\n",
    "pipe.fit(X_train,y_train)\n",
    "\n",
    "y_pred = pipe.predict(X_test)\n",
    "\n",
    "MSE=mse(y_pred,y_test)\n",
    "RMSE=np.sqrt(MSE)\n",
    "\n",
    "print('R2 score',r2_score(y_test,y_pred))\n",
    "print('MAE',mean_absolute_error(y_test,y_pred))\n",
    "print('MSE', MSE)\n",
    "print('RMSE', RMSE)"
   ]
  },
  {
   "cell_type": "markdown",
   "id": "2a9afdcb",
   "metadata": {},
   "source": [
    "# 3. Lasso Regression"
   ]
  },
  {
   "cell_type": "code",
   "execution_count": 106,
   "id": "2dd257a7",
   "metadata": {},
   "outputs": [
    {
     "name": "stdout",
     "output_type": "stream",
     "text": [
      "R2 score 0.7299401789585476\n",
      "MAE 0.2392635571539278\n",
      "MSE 0.10439289649137279\n",
      "RMSE 0.32309889583743984\n"
     ]
    }
   ],
   "source": [
    "step1 = ColumnTransformer(transformers=[\n",
    "    ('col_tnf',OneHotEncoder(sparse=False,drop='first',handle_unknown = 'ignore'),[0,2,4])\n",
    "],remainder='passthrough')\n",
    "\n",
    "step2 = Lasso(alpha=0.001)\n",
    "\n",
    "pipe = Pipeline([\n",
    "    ('step1',step1),\n",
    "    ('step2',step2)\n",
    "])\n",
    "\n",
    "pipe.fit(X_train,y_train)\n",
    "\n",
    "y_pred = pipe.predict(X_test)\n",
    "\n",
    "MSE=mse(y_pred,y_test)\n",
    "RMSE=np.sqrt(MSE)\n",
    "\n",
    "print('R2 score',r2_score(y_test,y_pred))\n",
    "print('MAE',mean_absolute_error(y_test,y_pred))\n",
    "print('MSE', MSE)\n",
    "print('RMSE', RMSE)"
   ]
  },
  {
   "cell_type": "markdown",
   "id": "629fffa0",
   "metadata": {},
   "source": [
    "# 4. K-Nearest Neighbors Algorithm (KNN)"
   ]
  },
  {
   "cell_type": "code",
   "execution_count": 107,
   "id": "346e25d0",
   "metadata": {},
   "outputs": [
    {
     "name": "stdout",
     "output_type": "stream",
     "text": [
      "R2 score 0.8109629357894111\n",
      "MAE 0.1889422651002242\n",
      "MSE 0.07307316801539289\n",
      "RMSE 0.2703204912976315\n"
     ]
    }
   ],
   "source": [
    "step1 = ColumnTransformer(transformers=[\n",
    "    ('col_tnf',OneHotEncoder(sparse=False,drop='first',handle_unknown = 'ignore'),[0,2,4])\n",
    "],remainder='passthrough')\n",
    "\n",
    "step2 = KNeighborsRegressor(n_neighbors=3)\n",
    "\n",
    "pipe = Pipeline([\n",
    "    ('step1',step1),\n",
    "    ('step2',step2)\n",
    "])\n",
    "\n",
    "pipe.fit(X_train,y_train)\n",
    "\n",
    "y_pred = pipe.predict(X_test)\n",
    "\n",
    "MSE=mse(y_pred,y_test)\n",
    "RMSE=np.sqrt(MSE)\n",
    "\n",
    "print('R2 score',r2_score(y_test,y_pred))\n",
    "print('MAE',mean_absolute_error(y_test,y_pred))\n",
    "print('MSE', MSE)\n",
    "print('RMSE', RMSE)"
   ]
  },
  {
   "cell_type": "markdown",
   "id": "e580c0c8",
   "metadata": {},
   "source": [
    "# 5. Decision Tree"
   ]
  },
  {
   "cell_type": "code",
   "execution_count": 108,
   "id": "7a00b47e",
   "metadata": {},
   "outputs": [
    {
     "name": "stdout",
     "output_type": "stream",
     "text": [
      "R2 score 0.8325489767155331\n",
      "MAE 0.1990539754696902\n",
      "MSE 0.06472898217031195\n",
      "RMSE 0.2544189107953887\n"
     ]
    }
   ],
   "source": [
    "step1 = ColumnTransformer(transformers=[\n",
    "    ('col_tnf',OneHotEncoder(sparse=False,drop='first',handle_unknown = 'ignore'),[0,2,4])\n",
    "],remainder='passthrough')\n",
    "\n",
    "step2 = DecisionTreeRegressor(max_depth=8)\n",
    "\n",
    "pipe = Pipeline([\n",
    "    ('step1',step1),\n",
    "    ('step2',step2)\n",
    "])\n",
    "\n",
    "pipe.fit(X_train,y_train)\n",
    "\n",
    "y_pred = pipe.predict(X_test)\n",
    "\n",
    "MSE=mse(y_pred,y_test)\n",
    "RMSE=np.sqrt(MSE)\n",
    "\n",
    "print('R2 score',r2_score(y_test,y_pred))\n",
    "print('MAE',mean_absolute_error(y_test,y_pred))\n",
    "print('MSE', MSE)\n",
    "print('RMSE', RMSE)"
   ]
  },
  {
   "cell_type": "markdown",
   "id": "ab53edd1",
   "metadata": {},
   "source": [
    "# 6. SVM : Support Vector Machine"
   ]
  },
  {
   "cell_type": "code",
   "execution_count": 109,
   "id": "4b152dbd",
   "metadata": {},
   "outputs": [
    {
     "name": "stdout",
     "output_type": "stream",
     "text": [
      "R2 score 0.787788369379958\n",
      "MAE 0.21724923561134238\n",
      "MSE 0.08203140587204592\n",
      "RMSE 0.2864112530471628\n"
     ]
    }
   ],
   "source": [
    "step1 = ColumnTransformer(transformers=[\n",
    "    ('col_tnf',OneHotEncoder(sparse=False,drop='first',handle_unknown = 'ignore'),[0,2,4])\n",
    "],remainder='passthrough')\n",
    "\n",
    "step2 = SVR(kernel='rbf',C=10000,epsilon=0.1)\n",
    "\n",
    "pipe = Pipeline([\n",
    "    ('step1',step1),\n",
    "    ('step2',step2)\n",
    "])\n",
    "\n",
    "pipe.fit(X_train,y_train)\n",
    "\n",
    "y_pred = pipe.predict(X_test)\n",
    "\n",
    "MSE=mse(y_pred,y_test)\n",
    "RMSE=np.sqrt(MSE)\n",
    "\n",
    "print('R2 score',r2_score(y_test,y_pred))\n",
    "print('MAE',mean_absolute_error(y_test,y_pred))\n",
    "print('MSE', MSE)\n",
    "print('RMSE', RMSE)"
   ]
  },
  {
   "cell_type": "markdown",
   "id": "7d1929a1",
   "metadata": {},
   "source": [
    "# 7. Random Forest"
   ]
  },
  {
   "cell_type": "code",
   "execution_count": 110,
   "id": "ec25f349",
   "metadata": {},
   "outputs": [
    {
     "name": "stdout",
     "output_type": "stream",
     "text": [
      "R2 score 0.8350522388687892\n",
      "MAE 0.18775401907156367\n",
      "MSE 0.0637613343882469\n",
      "RMSE 0.25251006789482056\n"
     ]
    }
   ],
   "source": [
    "step1 = ColumnTransformer(transformers=[\n",
    "    ('col_tnf',OneHotEncoder(sparse=False,drop='first',handle_unknown = 'ignore'),[0,2,4])\n",
    "],remainder='passthrough')\n",
    "\n",
    "step2 = RandomForestRegressor(n_estimators=100,\n",
    "                              random_state=3,\n",
    "                              max_samples=0.5,\n",
    "                              max_features=0.75,\n",
    "                              max_depth=15)\n",
    "\n",
    "pipe = Pipeline([\n",
    "    ('step1',step1),\n",
    "    ('step2',step2)\n",
    "])\n",
    "\n",
    "pipe.fit(X_train,y_train)\n",
    "\n",
    "y_pred = pipe.predict(X_test)\n",
    "\n",
    "MSE=mse(y_pred,y_test)\n",
    "RMSE=np.sqrt(MSE)\n",
    "print('R2 score',r2_score(y_test,y_pred))\n",
    "print('MAE',mean_absolute_error(y_test,y_pred))\n",
    "print('MSE', MSE)\n",
    "print('RMSE', RMSE)"
   ]
  },
  {
   "cell_type": "markdown",
   "id": "845f7555",
   "metadata": {},
   "source": [
    "# 8. AdaBoost"
   ]
  },
  {
   "cell_type": "code",
   "execution_count": 111,
   "id": "ca07df03",
   "metadata": {
    "scrolled": true
   },
   "outputs": [
    {
     "name": "stdout",
     "output_type": "stream",
     "text": [
      "R2 score 0.7924374581723708\n",
      "MAE 0.2399449681416425\n",
      "MSE 0.08023427869032032\n",
      "RMSE 0.283256559836344\n"
     ]
    }
   ],
   "source": [
    "step1 = ColumnTransformer(transformers=[\n",
    "    ('col_tnf',OneHotEncoder(sparse=False,drop='first',handle_unknown = 'ignore'),[0,2,4])\n",
    "],remainder='passthrough')\n",
    "\n",
    "step2 = AdaBoostRegressor(n_estimators=12,learning_rate=1.0)\n",
    "\n",
    "pipe = Pipeline([\n",
    "    ('step1',step1),\n",
    "    ('step2',step2)\n",
    "])\n",
    "\n",
    "pipe.fit(X_train,y_train)\n",
    "\n",
    "y_pred = pipe.predict(X_test)\n",
    "\n",
    "MSE=mse(y_pred,y_test)\n",
    "RMSE=np.sqrt(MSE)\n",
    "\n",
    "print('R2 score',r2_score(y_test,y_pred))\n",
    "print('MAE',mean_absolute_error(y_test,y_pred))\n",
    "print('MSE', MSE)\n",
    "print('RMSE', RMSE)"
   ]
  },
  {
   "cell_type": "markdown",
   "id": "17d6b5fb",
   "metadata": {},
   "source": [
    "# 9. XGBoost"
   ]
  },
  {
   "cell_type": "code",
   "execution_count": 112,
   "id": "df8b3cef",
   "metadata": {},
   "outputs": [
    {
     "name": "stdout",
     "output_type": "stream",
     "text": [
      "R2 score 0.8407465482681241\n",
      "MAE 0.1953253589872128\n",
      "MSE 0.06156017225527127\n",
      "RMSE 0.24811322466823746\n"
     ]
    }
   ],
   "source": [
    "step1 = ColumnTransformer(transformers=[\n",
    "    ('col_tnf',OneHotEncoder(sparse=False,drop='first',handle_unknown = 'ignore'),[0,2,4])\n",
    "],remainder='passthrough')\n",
    "\n",
    "step2 = XGBRegressor(n_estimators=45,max_depth=5,learning_rate=0.5)\n",
    "\n",
    "pipe = Pipeline([\n",
    "    ('step1',step1),\n",
    "    ('step2',step2)\n",
    "])\n",
    "\n",
    "pipe.fit(X_train,y_train)\n",
    "\n",
    "y_pred = pipe.predict(X_test)\n",
    "\n",
    "MSE=mse(y_pred,y_test)\n",
    "RMSE=np.sqrt(MSE)\n",
    "\n",
    "print('R2 score',r2_score(y_test,y_pred))\n",
    "print('MAE',mean_absolute_error(y_test,y_pred))\n",
    "print('MSE', MSE)\n",
    "print('RMSE', RMSE)"
   ]
  },
  {
   "cell_type": "markdown",
   "id": "99424e12",
   "metadata": {},
   "source": [
    "# 10. Gradient Boost"
   ]
  },
  {
   "cell_type": "code",
   "execution_count": 113,
   "id": "d15725b8",
   "metadata": {},
   "outputs": [
    {
     "name": "stdout",
     "output_type": "stream",
     "text": [
      "R2 score 0.8600943457004127\n",
      "MAE 0.188364952069829\n",
      "MSE 0.054081189980544384\n",
      "RMSE 0.23255362818185482\n"
     ]
    }
   ],
   "source": [
    "step1 = ColumnTransformer(transformers=[\n",
    "    ('col_tnf',OneHotEncoder(sparse=False,drop='first',handle_unknown = 'ignore'),[0,2,4])\n",
    "],remainder='passthrough')\n",
    "\n",
    "step2 = GradientBoostingRegressor(n_estimators=100)\n",
    "\n",
    "pipe = Pipeline([\n",
    "    ('step1',step1),\n",
    "    ('step2',step2)\n",
    "])\n",
    "\n",
    "pipe.fit(X_train,y_train)\n",
    "\n",
    "y_pred = pipe.predict(X_test)\n",
    "\n",
    "MSE=mse(y_pred,y_test)\n",
    "RMSE=np.sqrt(MSE)\n",
    "\n",
    "print('R2 score',r2_score(y_test,y_pred))\n",
    "print('MAE',mean_absolute_error(y_test,y_pred))\n",
    "print('MSE', MSE)\n",
    "print('RMSE', RMSE)"
   ]
  },
  {
   "cell_type": "code",
   "execution_count": 114,
   "id": "fc0287b5",
   "metadata": {},
   "outputs": [],
   "source": [
    "import pickle \n",
    "pickle.dump(ml_df_2,open('ml_df_2.pkl','wb'))\n",
    "pickle.dump(pipe,open('pipe.pkl','wb'))"
   ]
  },
  {
   "cell_type": "code",
   "execution_count": 116,
   "id": "4605e458",
   "metadata": {},
   "outputs": [
    {
     "name": "stdout",
     "output_type": "stream",
     "text": [
      "Name: scikit-learnNote: you may need to restart the kernel to use updated packages.\n",
      "\n",
      "Version: 1.0.2\n",
      "Summary: A set of python modules for machine learning and data mining\n",
      "Home-page: http://scikit-learn.org\n",
      "Author: \n",
      "Author-email: \n",
      "License: new BSD\n",
      "Location: c:\\users\\prakh\\anaconda3\\lib\\site-packages\n",
      "Requires: joblib, numpy, scipy, threadpoolctl\n",
      "Required-by: imbalanced-learn, scikit-learn-intelex\n"
     ]
    }
   ],
   "source": [
    "pip show scikit-learn"
   ]
  },
  {
   "cell_type": "code",
   "execution_count": null,
   "id": "6ac5be8c",
   "metadata": {},
   "outputs": [],
   "source": []
  }
 ],
 "metadata": {
  "kernelspec": {
   "display_name": "Python 3 (ipykernel)",
   "language": "python",
   "name": "python3"
  },
  "language_info": {
   "codemirror_mode": {
    "name": "ipython",
    "version": 3
   },
   "file_extension": ".py",
   "mimetype": "text/x-python",
   "name": "python",
   "nbconvert_exporter": "python",
   "pygments_lexer": "ipython3",
   "version": "3.9.16"
  }
 },
 "nbformat": 4,
 "nbformat_minor": 5
}
